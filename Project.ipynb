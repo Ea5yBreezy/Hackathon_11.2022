{
 "cells": [
  {
   "cell_type": "markdown",
   "metadata": {},
   "source": [
    "## Предобработка данных"
   ]
  },
  {
   "cell_type": "code",
   "execution_count": 1,
   "metadata": {},
   "outputs": [],
   "source": [
    "import pandas as pd\n",
    "import numpy as np\n",
    "import seaborn as sns\n",
    "import warnings\n",
    "import matplotlib.pyplot as plt\n",
    "from sklearn.model_selection import cross_val_score\n",
    "from sklearn.model_selection import ParameterGrid\n",
    "from tqdm.notebook import tqdm\n",
    "from sklearn.metrics import recall_score, r2_score\n",
    "from sklearn.model_selection import train_test_split\n",
    "from sklearn.ensemble import RandomForestClassifier, RandomForestRegressor\n",
    "from catboost import CatBoostRegressor\n",
    "from catboost import CatBoostClassifier\n",
    "from catboost import cv\n",
    "from catboost import *\n",
    "from sklearn.preprocessing import OrdinalEncoder\n",
    "from sklearn.metrics import mean_squared_error\n",
    "warnings.simplefilter(\"ignore\")\n",
    "\n",
    "%matplotlib inline"
   ]
  },
  {
   "cell_type": "code",
   "execution_count": 2,
   "metadata": {},
   "outputs": [],
   "source": [
    "df_test = pd.read_csv(\"test_dataset_test.csv\", parse_dates=[9])\n",
    "df_train = pd.read_csv(\"train_dataset_train.csv\", parse_dates=[9])\n",
    "#subway = pd.read_csv(\"subway\\subway.csv\")"
   ]
  },
  {
   "cell_type": "code",
   "execution_count": 3,
   "metadata": {},
   "outputs": [
    {
     "data": {
      "text/html": [
       "<div>\n",
       "<style scoped>\n",
       "    .dataframe tbody tr th:only-of-type {\n",
       "        vertical-align: middle;\n",
       "    }\n",
       "\n",
       "    .dataframe tbody tr th {\n",
       "        vertical-align: top;\n",
       "    }\n",
       "\n",
       "    .dataframe thead th {\n",
       "        text-align: right;\n",
       "    }\n",
       "</style>\n",
       "<table border=\"1\" class=\"dataframe\">\n",
       "  <thead>\n",
       "    <tr style=\"text-align: right;\">\n",
       "      <th></th>\n",
       "      <th>id</th>\n",
       "      <th>ticket_id</th>\n",
       "      <th>ticket_type_nm</th>\n",
       "      <th>entrance_id</th>\n",
       "      <th>entrance_nm</th>\n",
       "      <th>station_id</th>\n",
       "      <th>station_nm</th>\n",
       "      <th>line_id</th>\n",
       "      <th>line_nm</th>\n",
       "      <th>pass_dttm</th>\n",
       "      <th>time_to_under</th>\n",
       "      <th>label</th>\n",
       "    </tr>\n",
       "  </thead>\n",
       "  <tbody>\n",
       "    <tr>\n",
       "      <th>0</th>\n",
       "      <td>1</td>\n",
       "      <td>40BD89EC85646EFB69E283F39C298E60</td>\n",
       "      <td>Пропуск FacePay</td>\n",
       "      <td>2402</td>\n",
       "      <td>Лефортово БКЛ</td>\n",
       "      <td>11007</td>\n",
       "      <td>Лефортово</td>\n",
       "      <td>11</td>\n",
       "      <td>Большая кольцевая</td>\n",
       "      <td>2022-09-12 05:00:13</td>\n",
       "      <td>216.316667</td>\n",
       "      <td>8001</td>\n",
       "    </tr>\n",
       "    <tr>\n",
       "      <th>1</th>\n",
       "      <td>2</td>\n",
       "      <td>126727A96489CC976A8C08E5CEB00542</td>\n",
       "      <td>СК учащегося 30 дней</td>\n",
       "      <td>110</td>\n",
       "      <td>Войковская ( Южный )</td>\n",
       "      <td>2006</td>\n",
       "      <td>Войковская</td>\n",
       "      <td>2</td>\n",
       "      <td>Замоскворецкая</td>\n",
       "      <td>2022-09-12 05:00:54</td>\n",
       "      <td>648.183333</td>\n",
       "      <td>9011</td>\n",
       "    </tr>\n",
       "    <tr>\n",
       "      <th>2</th>\n",
       "      <td>3</td>\n",
       "      <td>D28CE6A9E0E5B6D213470A97CFF32485</td>\n",
       "      <td>БСК дружинника г.Москвы</td>\n",
       "      <td>110</td>\n",
       "      <td>Войковская ( Южный )</td>\n",
       "      <td>2006</td>\n",
       "      <td>Войковская</td>\n",
       "      <td>2</td>\n",
       "      <td>Замоскворецкая</td>\n",
       "      <td>2022-09-12 05:00:55</td>\n",
       "      <td>865.333333</td>\n",
       "      <td>7022</td>\n",
       "    </tr>\n",
       "    <tr>\n",
       "      <th>3</th>\n",
       "      <td>4</td>\n",
       "      <td>015DA44B523C062B5BFEFF3FB0E64B9E</td>\n",
       "      <td>30 дней</td>\n",
       "      <td>110</td>\n",
       "      <td>Войковская ( Южный )</td>\n",
       "      <td>2006</td>\n",
       "      <td>Войковская</td>\n",
       "      <td>2</td>\n",
       "      <td>Замоскворецкая</td>\n",
       "      <td>2022-09-12 05:01:13</td>\n",
       "      <td>1048.233333</td>\n",
       "      <td>2022</td>\n",
       "    </tr>\n",
       "    <tr>\n",
       "      <th>4</th>\n",
       "      <td>5</td>\n",
       "      <td>95B19C6F3A504727AC3EA56EB7E3E80F</td>\n",
       "      <td>КОШЕЛЕК</td>\n",
       "      <td>110</td>\n",
       "      <td>Войковская ( Южный )</td>\n",
       "      <td>2006</td>\n",
       "      <td>Войковская</td>\n",
       "      <td>2</td>\n",
       "      <td>Замоскворецкая</td>\n",
       "      <td>2022-09-12 05:02:55</td>\n",
       "      <td>965.600000</td>\n",
       "      <td>2017</td>\n",
       "    </tr>\n",
       "    <tr>\n",
       "      <th>...</th>\n",
       "      <td>...</td>\n",
       "      <td>...</td>\n",
       "      <td>...</td>\n",
       "      <td>...</td>\n",
       "      <td>...</td>\n",
       "      <td>...</td>\n",
       "      <td>...</td>\n",
       "      <td>...</td>\n",
       "      <td>...</td>\n",
       "      <td>...</td>\n",
       "      <td>...</td>\n",
       "      <td>...</td>\n",
       "    </tr>\n",
       "    <tr>\n",
       "      <th>1091016</th>\n",
       "      <td>1091017</td>\n",
       "      <td>6A738232F8E43DFCD4027FDC0EA6CC03</td>\n",
       "      <td>Пропуск FacePay</td>\n",
       "      <td>2283</td>\n",
       "      <td>Нижегородская (второй)</td>\n",
       "      <td>15005</td>\n",
       "      <td>Нижегородская</td>\n",
       "      <td>15</td>\n",
       "      <td>Некрасовская</td>\n",
       "      <td>2022-09-19 02:54:50</td>\n",
       "      <td>124.750000</td>\n",
       "      <td>15005</td>\n",
       "    </tr>\n",
       "    <tr>\n",
       "      <th>1091017</th>\n",
       "      <td>1091018</td>\n",
       "      <td>141174B366F14A8703903813A49374DB</td>\n",
       "      <td>Пропуск FacePay</td>\n",
       "      <td>278</td>\n",
       "      <td>Калужская (Северный)</td>\n",
       "      <td>6007</td>\n",
       "      <td>Калужская</td>\n",
       "      <td>6</td>\n",
       "      <td>Калужско-Рижская</td>\n",
       "      <td>2022-09-19 03:06:02</td>\n",
       "      <td>56.066667</td>\n",
       "      <td>6007</td>\n",
       "    </tr>\n",
       "    <tr>\n",
       "      <th>1091018</th>\n",
       "      <td>1091019</td>\n",
       "      <td>E38493B30A7C55170806F187AF5EEA15</td>\n",
       "      <td>Пропуск FacePay</td>\n",
       "      <td>118</td>\n",
       "      <td>Каширская (Северный )</td>\n",
       "      <td>2010</td>\n",
       "      <td>Каширская</td>\n",
       "      <td>2</td>\n",
       "      <td>Замоскворецкая</td>\n",
       "      <td>2022-09-19 03:17:00</td>\n",
       "      <td>91.283333</td>\n",
       "      <td>2010</td>\n",
       "    </tr>\n",
       "    <tr>\n",
       "      <th>1091019</th>\n",
       "      <td>1091020</td>\n",
       "      <td>3DF2B6366631ECA06274DD2CB5B0DF24</td>\n",
       "      <td>Пропуск FacePay</td>\n",
       "      <td>2452</td>\n",
       "      <td>Воронцовская (Первый)</td>\n",
       "      <td>11014</td>\n",
       "      <td>Воронцовская</td>\n",
       "      <td>11</td>\n",
       "      <td>Большая кольцевая</td>\n",
       "      <td>2022-09-19 03:23:30</td>\n",
       "      <td>47.900000</td>\n",
       "      <td>11014</td>\n",
       "    </tr>\n",
       "    <tr>\n",
       "      <th>1091020</th>\n",
       "      <td>1091021</td>\n",
       "      <td>80DA097A0BBFD91F5B15697AD53F8D3B</td>\n",
       "      <td>Пропуск FacePay</td>\n",
       "      <td>320</td>\n",
       "      <td>Пушкинская</td>\n",
       "      <td>7015</td>\n",
       "      <td>Пушкинская</td>\n",
       "      <td>7</td>\n",
       "      <td>Таганско-Краснопресненская</td>\n",
       "      <td>2022-09-19 04:10:42</td>\n",
       "      <td>34.100000</td>\n",
       "      <td>7015</td>\n",
       "    </tr>\n",
       "  </tbody>\n",
       "</table>\n",
       "<p>1091021 rows × 12 columns</p>\n",
       "</div>"
      ],
      "text/plain": [
       "              id                         ticket_id           ticket_type_nm  \\\n",
       "0              1  40BD89EC85646EFB69E283F39C298E60          Пропуск FacePay   \n",
       "1              2  126727A96489CC976A8C08E5CEB00542     СК учащегося 30 дней   \n",
       "2              3  D28CE6A9E0E5B6D213470A97CFF32485  БСК дружинника г.Москвы   \n",
       "3              4  015DA44B523C062B5BFEFF3FB0E64B9E                  30 дней   \n",
       "4              5  95B19C6F3A504727AC3EA56EB7E3E80F                  КОШЕЛЕК   \n",
       "...          ...                               ...                      ...   \n",
       "1091016  1091017  6A738232F8E43DFCD4027FDC0EA6CC03          Пропуск FacePay   \n",
       "1091017  1091018  141174B366F14A8703903813A49374DB          Пропуск FacePay   \n",
       "1091018  1091019  E38493B30A7C55170806F187AF5EEA15          Пропуск FacePay   \n",
       "1091019  1091020  3DF2B6366631ECA06274DD2CB5B0DF24          Пропуск FacePay   \n",
       "1091020  1091021  80DA097A0BBFD91F5B15697AD53F8D3B          Пропуск FacePay   \n",
       "\n",
       "         entrance_id             entrance_nm  station_id     station_nm  \\\n",
       "0               2402           Лефортово БКЛ       11007      Лефортово   \n",
       "1                110    Войковская ( Южный )        2006     Войковская   \n",
       "2                110    Войковская ( Южный )        2006     Войковская   \n",
       "3                110    Войковская ( Южный )        2006     Войковская   \n",
       "4                110    Войковская ( Южный )        2006     Войковская   \n",
       "...              ...                     ...         ...            ...   \n",
       "1091016         2283  Нижегородская (второй)       15005  Нижегородская   \n",
       "1091017          278    Калужская (Северный)        6007      Калужская   \n",
       "1091018          118   Каширская (Северный )        2010      Каширская   \n",
       "1091019         2452   Воронцовская (Первый)       11014   Воронцовская   \n",
       "1091020          320              Пушкинская        7015     Пушкинская   \n",
       "\n",
       "         line_id                     line_nm           pass_dttm  \\\n",
       "0             11           Большая кольцевая 2022-09-12 05:00:13   \n",
       "1              2              Замоскворецкая 2022-09-12 05:00:54   \n",
       "2              2              Замоскворецкая 2022-09-12 05:00:55   \n",
       "3              2              Замоскворецкая 2022-09-12 05:01:13   \n",
       "4              2              Замоскворецкая 2022-09-12 05:02:55   \n",
       "...          ...                         ...                 ...   \n",
       "1091016       15                Некрасовская 2022-09-19 02:54:50   \n",
       "1091017        6            Калужско-Рижская 2022-09-19 03:06:02   \n",
       "1091018        2              Замоскворецкая 2022-09-19 03:17:00   \n",
       "1091019       11           Большая кольцевая 2022-09-19 03:23:30   \n",
       "1091020        7  Таганско-Краснопресненская 2022-09-19 04:10:42   \n",
       "\n",
       "         time_to_under  label  \n",
       "0           216.316667   8001  \n",
       "1           648.183333   9011  \n",
       "2           865.333333   7022  \n",
       "3          1048.233333   2022  \n",
       "4           965.600000   2017  \n",
       "...                ...    ...  \n",
       "1091016     124.750000  15005  \n",
       "1091017      56.066667   6007  \n",
       "1091018      91.283333   2010  \n",
       "1091019      47.900000  11014  \n",
       "1091020      34.100000   7015  \n",
       "\n",
       "[1091021 rows x 12 columns]"
      ]
     },
     "execution_count": 3,
     "metadata": {},
     "output_type": "execute_result"
    }
   ],
   "source": [
    "df_train"
   ]
  },
  {
   "cell_type": "code",
   "execution_count": 4,
   "metadata": {},
   "outputs": [
    {
     "data": {
      "text/html": [
       "<div>\n",
       "<style scoped>\n",
       "    .dataframe tbody tr th:only-of-type {\n",
       "        vertical-align: middle;\n",
       "    }\n",
       "\n",
       "    .dataframe tbody tr th {\n",
       "        vertical-align: top;\n",
       "    }\n",
       "\n",
       "    .dataframe thead th {\n",
       "        text-align: right;\n",
       "    }\n",
       "</style>\n",
       "<table border=\"1\" class=\"dataframe\">\n",
       "  <thead>\n",
       "    <tr style=\"text-align: right;\">\n",
       "      <th></th>\n",
       "      <th>id</th>\n",
       "      <th>ticket_id</th>\n",
       "      <th>ticket_type_nm</th>\n",
       "      <th>entrance_id</th>\n",
       "      <th>entrance_nm</th>\n",
       "      <th>station_id</th>\n",
       "      <th>station_nm</th>\n",
       "      <th>line_id</th>\n",
       "      <th>line_nm</th>\n",
       "      <th>pass_dttm</th>\n",
       "    </tr>\n",
       "  </thead>\n",
       "  <tbody>\n",
       "    <tr>\n",
       "      <th>0</th>\n",
       "      <td>1091022</td>\n",
       "      <td>425A13E16226CA01032043111488E0F5</td>\n",
       "      <td>КОШЕЛЕК</td>\n",
       "      <td>110</td>\n",
       "      <td>Войковская ( Южный )</td>\n",
       "      <td>2006</td>\n",
       "      <td>Войковская</td>\n",
       "      <td>2</td>\n",
       "      <td>Замоскворецкая</td>\n",
       "      <td>2022-09-12 05:00:03</td>\n",
       "    </tr>\n",
       "    <tr>\n",
       "      <th>1</th>\n",
       "      <td>1091023</td>\n",
       "      <td>F94EDC107A4E054786882F9453C1B93F</td>\n",
       "      <td>Пропуск FacePay</td>\n",
       "      <td>184</td>\n",
       "      <td>Молодёжная (Западный)</td>\n",
       "      <td>3010</td>\n",
       "      <td>Молодёжная</td>\n",
       "      <td>3</td>\n",
       "      <td>Арбатско-Покровская</td>\n",
       "      <td>2022-09-12 05:00:45</td>\n",
       "    </tr>\n",
       "    <tr>\n",
       "      <th>2</th>\n",
       "      <td>1091024</td>\n",
       "      <td>8F13BFBA98A7DD34B11BD2DDCC5CA68E</td>\n",
       "      <td>СК студента 30 дней</td>\n",
       "      <td>110</td>\n",
       "      <td>Войковская ( Южный )</td>\n",
       "      <td>2006</td>\n",
       "      <td>Войковская</td>\n",
       "      <td>2</td>\n",
       "      <td>Замоскворецкая</td>\n",
       "      <td>2022-09-12 05:00:52</td>\n",
       "    </tr>\n",
       "    <tr>\n",
       "      <th>3</th>\n",
       "      <td>1091025</td>\n",
       "      <td>7B98691636EC418ABF6FEDDE4D7C68FC</td>\n",
       "      <td>КОШЕЛЕК</td>\n",
       "      <td>107</td>\n",
       "      <td>Сокол ( Южн./Вост. )</td>\n",
       "      <td>2018</td>\n",
       "      <td>Сокол</td>\n",
       "      <td>2</td>\n",
       "      <td>Замоскворецкая</td>\n",
       "      <td>2022-09-12 05:00:58</td>\n",
       "    </tr>\n",
       "    <tr>\n",
       "      <th>4</th>\n",
       "      <td>1091026</td>\n",
       "      <td>679C55C28CB36FB546FD104502C0B3DB</td>\n",
       "      <td>КОШЕЛЕК</td>\n",
       "      <td>110</td>\n",
       "      <td>Войковская ( Южный )</td>\n",
       "      <td>2006</td>\n",
       "      <td>Войковская</td>\n",
       "      <td>2</td>\n",
       "      <td>Замоскворецкая</td>\n",
       "      <td>2022-09-12 05:01:39</td>\n",
       "    </tr>\n",
       "    <tr>\n",
       "      <th>...</th>\n",
       "      <td>...</td>\n",
       "      <td>...</td>\n",
       "      <td>...</td>\n",
       "      <td>...</td>\n",
       "      <td>...</td>\n",
       "      <td>...</td>\n",
       "      <td>...</td>\n",
       "      <td>...</td>\n",
       "      <td>...</td>\n",
       "      <td>...</td>\n",
       "    </tr>\n",
       "    <tr>\n",
       "      <th>561885</th>\n",
       "      <td>1652907</td>\n",
       "      <td>B6FADEB8705FAF8E9DFD9016A613D997</td>\n",
       "      <td>Пропуск FacePay</td>\n",
       "      <td>279</td>\n",
       "      <td>Калужская (Южный)</td>\n",
       "      <td>6007</td>\n",
       "      <td>Калужская</td>\n",
       "      <td>6</td>\n",
       "      <td>Калужско-Рижская</td>\n",
       "      <td>2022-09-19 01:33:11</td>\n",
       "    </tr>\n",
       "    <tr>\n",
       "      <th>561886</th>\n",
       "      <td>1652908</td>\n",
       "      <td>77F2868FC2648ACCBD58F1F8AB66C321</td>\n",
       "      <td>Пропуск FacePay</td>\n",
       "      <td>2463</td>\n",
       "      <td>Кунцевская БКЛ (Первый)</td>\n",
       "      <td>11020</td>\n",
       "      <td>Кунцевская</td>\n",
       "      <td>11</td>\n",
       "      <td>Большая кольцевая</td>\n",
       "      <td>2022-09-19 02:03:59</td>\n",
       "    </tr>\n",
       "    <tr>\n",
       "      <th>561887</th>\n",
       "      <td>1652909</td>\n",
       "      <td>29A4ACF592877817B8D00D969DFDB681</td>\n",
       "      <td>Пропуск FacePay</td>\n",
       "      <td>64</td>\n",
       "      <td>Проспект Вернадского ( Южный )</td>\n",
       "      <td>1012</td>\n",
       "      <td>Проспект Вернадского</td>\n",
       "      <td>1</td>\n",
       "      <td>Сокольническая</td>\n",
       "      <td>2022-09-19 02:51:34</td>\n",
       "    </tr>\n",
       "    <tr>\n",
       "      <th>561888</th>\n",
       "      <td>1652910</td>\n",
       "      <td>DE9EBEFD0DF4A351013AA574B075F535</td>\n",
       "      <td>Пропуск FacePay</td>\n",
       "      <td>285</td>\n",
       "      <td>Коньково (Южный)</td>\n",
       "      <td>6009</td>\n",
       "      <td>Коньково</td>\n",
       "      <td>6</td>\n",
       "      <td>Калужско-Рижская</td>\n",
       "      <td>2022-09-19 02:58:10</td>\n",
       "    </tr>\n",
       "    <tr>\n",
       "      <th>561889</th>\n",
       "      <td>1652911</td>\n",
       "      <td>6150B5AFC720997AED9F0231EA8059E3</td>\n",
       "      <td>Пропуск FacePay</td>\n",
       "      <td>184</td>\n",
       "      <td>Молодёжная (Западный)</td>\n",
       "      <td>3010</td>\n",
       "      <td>Молодёжная</td>\n",
       "      <td>3</td>\n",
       "      <td>Арбатско-Покровская</td>\n",
       "      <td>2022-09-19 03:13:27</td>\n",
       "    </tr>\n",
       "  </tbody>\n",
       "</table>\n",
       "<p>561890 rows × 10 columns</p>\n",
       "</div>"
      ],
      "text/plain": [
       "             id                         ticket_id       ticket_type_nm  \\\n",
       "0       1091022  425A13E16226CA01032043111488E0F5              КОШЕЛЕК   \n",
       "1       1091023  F94EDC107A4E054786882F9453C1B93F      Пропуск FacePay   \n",
       "2       1091024  8F13BFBA98A7DD34B11BD2DDCC5CA68E  СК студента 30 дней   \n",
       "3       1091025  7B98691636EC418ABF6FEDDE4D7C68FC              КОШЕЛЕК   \n",
       "4       1091026  679C55C28CB36FB546FD104502C0B3DB              КОШЕЛЕК   \n",
       "...         ...                               ...                  ...   \n",
       "561885  1652907  B6FADEB8705FAF8E9DFD9016A613D997      Пропуск FacePay   \n",
       "561886  1652908  77F2868FC2648ACCBD58F1F8AB66C321      Пропуск FacePay   \n",
       "561887  1652909  29A4ACF592877817B8D00D969DFDB681      Пропуск FacePay   \n",
       "561888  1652910  DE9EBEFD0DF4A351013AA574B075F535      Пропуск FacePay   \n",
       "561889  1652911  6150B5AFC720997AED9F0231EA8059E3      Пропуск FacePay   \n",
       "\n",
       "        entrance_id                     entrance_nm  station_id  \\\n",
       "0               110            Войковская ( Южный )        2006   \n",
       "1               184           Молодёжная (Западный)        3010   \n",
       "2               110            Войковская ( Южный )        2006   \n",
       "3               107            Сокол ( Южн./Вост. )        2018   \n",
       "4               110            Войковская ( Южный )        2006   \n",
       "...             ...                             ...         ...   \n",
       "561885          279               Калужская (Южный)        6007   \n",
       "561886         2463         Кунцевская БКЛ (Первый)       11020   \n",
       "561887           64  Проспект Вернадского ( Южный )        1012   \n",
       "561888          285                Коньково (Южный)        6009   \n",
       "561889          184           Молодёжная (Западный)        3010   \n",
       "\n",
       "                  station_nm  line_id              line_nm           pass_dttm  \n",
       "0                 Войковская        2       Замоскворецкая 2022-09-12 05:00:03  \n",
       "1                 Молодёжная        3  Арбатско-Покровская 2022-09-12 05:00:45  \n",
       "2                 Войковская        2       Замоскворецкая 2022-09-12 05:00:52  \n",
       "3                      Сокол        2       Замоскворецкая 2022-09-12 05:00:58  \n",
       "4                 Войковская        2       Замоскворецкая 2022-09-12 05:01:39  \n",
       "...                      ...      ...                  ...                 ...  \n",
       "561885             Калужская        6     Калужско-Рижская 2022-09-19 01:33:11  \n",
       "561886            Кунцевская       11    Большая кольцевая 2022-09-19 02:03:59  \n",
       "561887  Проспект Вернадского        1       Сокольническая 2022-09-19 02:51:34  \n",
       "561888              Коньково        6     Калужско-Рижская 2022-09-19 02:58:10  \n",
       "561889            Молодёжная        3  Арбатско-Покровская 2022-09-19 03:13:27  \n",
       "\n",
       "[561890 rows x 10 columns]"
      ]
     },
     "execution_count": 4,
     "metadata": {},
     "output_type": "execute_result"
    }
   ],
   "source": [
    "df_test"
   ]
  },
  {
   "cell_type": "code",
   "execution_count": 5,
   "metadata": {},
   "outputs": [],
   "source": [
    "#subway"
   ]
  },
  {
   "cell_type": "code",
   "execution_count": 6,
   "metadata": {},
   "outputs": [],
   "source": [
    "#subway['destination'] = subway['route_id'].map(lambda x: int(x.split('_')[1]))"
   ]
  },
  {
   "cell_type": "code",
   "execution_count": 7,
   "metadata": {},
   "outputs": [],
   "source": [
    "#subway"
   ]
  },
  {
   "cell_type": "code",
   "execution_count": 8,
   "metadata": {},
   "outputs": [],
   "source": [
    "#subway = subway[['start_station_id','destination','station_cnt','route_dur']]"
   ]
  },
  {
   "cell_type": "code",
   "execution_count": 9,
   "metadata": {},
   "outputs": [],
   "source": [
    "#subway =subway.rename(columns={'start_station_id': 'station_id', 'destination': 'label'})\n"
   ]
  },
  {
   "cell_type": "code",
   "execution_count": 10,
   "metadata": {},
   "outputs": [],
   "source": [
    "#subway = subway.drop(subway[subway['route_dur'] == 0.00].index)"
   ]
  },
  {
   "cell_type": "code",
   "execution_count": 11,
   "metadata": {},
   "outputs": [],
   "source": [
    "#subway = subway.sort_values(by = ['station_id','label','route_dur'])"
   ]
  },
  {
   "cell_type": "code",
   "execution_count": 12,
   "metadata": {},
   "outputs": [],
   "source": [
    "#subway.head(30)"
   ]
  },
  {
   "cell_type": "code",
   "execution_count": 13,
   "metadata": {},
   "outputs": [],
   "source": [
    "#subway.groupby(by = ['station_id','label']).agg(route_dur = ('route_dur','min')).reset_index().head(30).merge(subway, how = 'left', on=['station_id','label','route_dur'])"
   ]
  },
  {
   "cell_type": "code",
   "execution_count": 14,
   "metadata": {},
   "outputs": [],
   "source": [
    "def preprocessing (data):\n",
    "    \n",
    "    encoder = OrdinalEncoder(dtype='int32')\n",
    "    encoder.fit(data[['ticket_id']])\n",
    "    data[['ticket_id']] = pd.DataFrame(encoder.transform(data[['ticket_id']]))\n",
    "    \n",
    "    data['month'] = data['pass_dttm'].dt.month\n",
    "    data['day'] = data['pass_dttm'].dt.day\n",
    "    data['day_of_week'] = data['pass_dttm'].dt.dayofweek+1\n",
    "    data['hours'] = data['pass_dttm'].dt.hour\n",
    "    \n",
    "    data['number_trip'] = data[['ticket_id','month','day']].groupby(['ticket_id','month']).cumcount()+1\n",
    "    \n",
    "    count_day_df = data[['ticket_id','month','day']].groupby(['ticket_id','month']).agg(count_day = ('day','count')).reset_index()[['ticket_id','count_day']]\n",
    "    \n",
    "    data = data.merge(count_day_df, how = 'left', on = 'ticket_id')\n",
    "    \n",
    "    print(data.head())\n",
    "    \n",
    "    return data\n",
    "    "
   ]
  },
  {
   "cell_type": "code",
   "execution_count": 15,
   "metadata": {},
   "outputs": [
    {
     "name": "stdout",
     "output_type": "stream",
     "text": [
      "   id  ticket_id           ticket_type_nm  entrance_id           entrance_nm  \\\n",
      "0   1      84909          Пропуск FacePay         2402         Лефортово БКЛ   \n",
      "1   2      24211     СК учащегося 30 дней          110  Войковская ( Южный )   \n",
      "2   3     276072  БСК дружинника г.Москвы          110  Войковская ( Южный )   \n",
      "3   4       1788                  30 дней          110  Войковская ( Южный )   \n",
      "4   5     196752                  КОШЕЛЕК          110  Войковская ( Южный )   \n",
      "\n",
      "   station_id  station_nm  line_id            line_nm           pass_dttm  \\\n",
      "0       11007   Лефортово       11  Большая кольцевая 2022-09-12 05:00:13   \n",
      "1        2006  Войковская        2     Замоскворецкая 2022-09-12 05:00:54   \n",
      "2        2006  Войковская        2     Замоскворецкая 2022-09-12 05:00:55   \n",
      "3        2006  Войковская        2     Замоскворецкая 2022-09-12 05:01:13   \n",
      "4        2006  Войковская        2     Замоскворецкая 2022-09-12 05:02:55   \n",
      "\n",
      "   time_to_under  label  month  day  day_of_week  hours  number_trip  \\\n",
      "0     216.316667   8001      9   12            1      5            1   \n",
      "1     648.183333   9011      9   12            1      5            1   \n",
      "2     865.333333   7022      9   12            1      5            1   \n",
      "3    1048.233333   2022      9   12            1      5            1   \n",
      "4     965.600000   2017      9   12            1      5            1   \n",
      "\n",
      "   count_day  \n",
      "0          1  \n",
      "1          5  \n",
      "2          5  \n",
      "3          6  \n",
      "4          4  \n"
     ]
    }
   ],
   "source": [
    "df_train = preprocessing (df_train)"
   ]
  },
  {
   "cell_type": "code",
   "execution_count": 16,
   "metadata": {},
   "outputs": [
    {
     "name": "stdout",
     "output_type": "stream",
     "text": [
      "        id  ticket_id       ticket_type_nm  entrance_id  \\\n",
      "0  1091022      44657              КОШЕЛЕК          110   \n",
      "1  1091023     168417      Пропуск FacePay          184   \n",
      "2  1091024      96417  СК студента 30 дней          110   \n",
      "3  1091025      83378              КОШЕЛЕК          107   \n",
      "4  1091026      69779              КОШЕЛЕК          110   \n",
      "\n",
      "             entrance_nm  station_id  station_nm  line_id  \\\n",
      "0   Войковская ( Южный )        2006  Войковская        2   \n",
      "1  Молодёжная (Западный)        3010  Молодёжная        3   \n",
      "2   Войковская ( Южный )        2006  Войковская        2   \n",
      "3   Сокол ( Южн./Вост. )        2018       Сокол        2   \n",
      "4   Войковская ( Южный )        2006  Войковская        2   \n",
      "\n",
      "               line_nm           pass_dttm  month  day  day_of_week  hours  \\\n",
      "0       Замоскворецкая 2022-09-12 05:00:03      9   12            1      5   \n",
      "1  Арбатско-Покровская 2022-09-12 05:00:45      9   12            1      5   \n",
      "2       Замоскворецкая 2022-09-12 05:00:52      9   12            1      5   \n",
      "3       Замоскворецкая 2022-09-12 05:00:58      9   12            1      5   \n",
      "4       Замоскворецкая 2022-09-12 05:01:39      9   12            1      5   \n",
      "\n",
      "   number_trip  count_day  \n",
      "0            1          4  \n",
      "1            1          3  \n",
      "2            1          6  \n",
      "3            1          3  \n",
      "4            1          2  \n"
     ]
    }
   ],
   "source": [
    "df_test = preprocessing (df_test)"
   ]
  },
  {
   "cell_type": "code",
   "execution_count": 17,
   "metadata": {},
   "outputs": [],
   "source": [
    "encoder = OrdinalEncoder(dtype='int16', handle_unknown = 'use_encoded_value', unknown_value = 100)\n",
    "encoder.fit(df_train[['ticket_type_nm']])\n",
    "\n",
    "df_train[['ticket_type_nm']] = pd.DataFrame(encoder.transform(df_train[['ticket_type_nm']]))\n",
    "\n",
    "\n",
    "df_test[['ticket_type_nm']] = pd.DataFrame(encoder.transform(df_test[['ticket_type_nm']]))"
   ]
  },
  {
   "cell_type": "code",
   "execution_count": 18,
   "metadata": {},
   "outputs": [
    {
     "data": {
      "image/png": "[encoded data removed]",
      "text/plain": [
       "<Figure size 1080x1080 with 16 Axes>"
      ]
     },
     "metadata": {
      "needs_background": "light"
     },
     "output_type": "display_data"
    }
   ],
   "source": [
    "df_test.hist(bins = 50, figsize=(15,15))\n",
    "plt.show()"
   ]
  },
  {
   "cell_type": "code",
   "execution_count": 19,
   "metadata": {},
   "outputs": [
    {
     "data": {
      "image/png": "[encoded data removed]",
      "text/plain": [
       "<Figure size 1080x1080 with 16 Axes>"
      ]
     },
     "metadata": {
      "needs_background": "light"
     },
     "output_type": "display_data"
    }
   ],
   "source": [
    "df_train.hist(bins = 50, figsize=(15,15))\n",
    "plt.show()"
   ]
  },
  {
   "cell_type": "code",
   "execution_count": 20,
   "metadata": {},
   "outputs": [
    {
     "data": {
      "image/png": "[encoded data removed]",
      "text/plain": [
       "<Figure size 1080x1080 with 2 Axes>"
      ]
     },
     "metadata": {
      "needs_background": "light"
     },
     "output_type": "display_data"
    }
   ],
   "source": [
    "plt.rcParams['figure.figsize']=(15,15)\n",
    "\n",
    "corr = df_train.corr()\n",
    "g = sns.heatmap(corr, square = True, annot=True)"
   ]
  },
  {
   "cell_type": "code",
   "execution_count": 27,
   "metadata": {},
   "outputs": [],
   "source": [
    "X = data.drop([\"id\", 'ticket_id',  \"entrance_nm\", \"station_nm\", \"line_nm\", \"pass_dttm\", \"label\",\"time_to_under\",'day','month'], axis = 1)\n",
    "y = data[[\"time_to_under\", \"label\"]]"
   ]
  },
  {
   "cell_type": "code",
   "execution_count": 29,
   "metadata": {},
   "outputs": [
    {
     "data": {
      "text/html": [
       "<div>\n",
       "<style scoped>\n",
       "    .dataframe tbody tr th:only-of-type {\n",
       "        vertical-align: middle;\n",
       "    }\n",
       "\n",
       "    .dataframe tbody tr th {\n",
       "        vertical-align: top;\n",
       "    }\n",
       "\n",
       "    .dataframe thead th {\n",
       "        text-align: right;\n",
       "    }\n",
       "</style>\n",
       "<table border=\"1\" class=\"dataframe\">\n",
       "  <thead>\n",
       "    <tr style=\"text-align: right;\">\n",
       "      <th></th>\n",
       "      <th>ticket_type_nm</th>\n",
       "      <th>entrance_id</th>\n",
       "      <th>station_id</th>\n",
       "      <th>line_id</th>\n",
       "      <th>day_of_week</th>\n",
       "      <th>hours</th>\n",
       "      <th>number_trip</th>\n",
       "      <th>count_day</th>\n",
       "    </tr>\n",
       "  </thead>\n",
       "  <tbody>\n",
       "    <tr>\n",
       "      <th>0</th>\n",
       "      <td>40</td>\n",
       "      <td>2402</td>\n",
       "      <td>11007</td>\n",
       "      <td>11</td>\n",
       "      <td>1</td>\n",
       "      <td>5</td>\n",
       "      <td>1</td>\n",
       "      <td>1</td>\n",
       "    </tr>\n",
       "    <tr>\n",
       "      <th>1</th>\n",
       "      <td>53</td>\n",
       "      <td>110</td>\n",
       "      <td>2006</td>\n",
       "      <td>2</td>\n",
       "      <td>1</td>\n",
       "      <td>5</td>\n",
       "      <td>1</td>\n",
       "      <td>5</td>\n",
       "    </tr>\n",
       "    <tr>\n",
       "      <th>2</th>\n",
       "      <td>26</td>\n",
       "      <td>110</td>\n",
       "      <td>2006</td>\n",
       "      <td>2</td>\n",
       "      <td>1</td>\n",
       "      <td>5</td>\n",
       "      <td>1</td>\n",
       "      <td>5</td>\n",
       "    </tr>\n",
       "    <tr>\n",
       "      <th>3</th>\n",
       "      <td>3</td>\n",
       "      <td>110</td>\n",
       "      <td>2006</td>\n",
       "      <td>2</td>\n",
       "      <td>1</td>\n",
       "      <td>5</td>\n",
       "      <td>1</td>\n",
       "      <td>6</td>\n",
       "    </tr>\n",
       "    <tr>\n",
       "      <th>4</th>\n",
       "      <td>38</td>\n",
       "      <td>110</td>\n",
       "      <td>2006</td>\n",
       "      <td>2</td>\n",
       "      <td>1</td>\n",
       "      <td>5</td>\n",
       "      <td>1</td>\n",
       "      <td>4</td>\n",
       "    </tr>\n",
       "    <tr>\n",
       "      <th>...</th>\n",
       "      <td>...</td>\n",
       "      <td>...</td>\n",
       "      <td>...</td>\n",
       "      <td>...</td>\n",
       "      <td>...</td>\n",
       "      <td>...</td>\n",
       "      <td>...</td>\n",
       "      <td>...</td>\n",
       "    </tr>\n",
       "    <tr>\n",
       "      <th>1091016</th>\n",
       "      <td>40</td>\n",
       "      <td>2283</td>\n",
       "      <td>15005</td>\n",
       "      <td>15</td>\n",
       "      <td>1</td>\n",
       "      <td>2</td>\n",
       "      <td>1</td>\n",
       "      <td>1</td>\n",
       "    </tr>\n",
       "    <tr>\n",
       "      <th>1091017</th>\n",
       "      <td>40</td>\n",
       "      <td>278</td>\n",
       "      <td>6007</td>\n",
       "      <td>6</td>\n",
       "      <td>1</td>\n",
       "      <td>3</td>\n",
       "      <td>2</td>\n",
       "      <td>2</td>\n",
       "    </tr>\n",
       "    <tr>\n",
       "      <th>1091018</th>\n",
       "      <td>40</td>\n",
       "      <td>118</td>\n",
       "      <td>2010</td>\n",
       "      <td>2</td>\n",
       "      <td>1</td>\n",
       "      <td>3</td>\n",
       "      <td>1</td>\n",
       "      <td>1</td>\n",
       "    </tr>\n",
       "    <tr>\n",
       "      <th>1091019</th>\n",
       "      <td>40</td>\n",
       "      <td>2452</td>\n",
       "      <td>11014</td>\n",
       "      <td>11</td>\n",
       "      <td>1</td>\n",
       "      <td>3</td>\n",
       "      <td>1</td>\n",
       "      <td>1</td>\n",
       "    </tr>\n",
       "    <tr>\n",
       "      <th>1091020</th>\n",
       "      <td>40</td>\n",
       "      <td>320</td>\n",
       "      <td>7015</td>\n",
       "      <td>7</td>\n",
       "      <td>1</td>\n",
       "      <td>4</td>\n",
       "      <td>2</td>\n",
       "      <td>2</td>\n",
       "    </tr>\n",
       "  </tbody>\n",
       "</table>\n",
       "<p>1091021 rows × 8 columns</p>\n",
       "</div>"
      ],
      "text/plain": [
       "         ticket_type_nm  entrance_id  station_id  line_id  day_of_week  hours  \\\n",
       "0                    40         2402       11007       11            1      5   \n",
       "1                    53          110        2006        2            1      5   \n",
       "2                    26          110        2006        2            1      5   \n",
       "3                     3          110        2006        2            1      5   \n",
       "4                    38          110        2006        2            1      5   \n",
       "...                 ...          ...         ...      ...          ...    ...   \n",
       "1091016              40         2283       15005       15            1      2   \n",
       "1091017              40          278        6007        6            1      3   \n",
       "1091018              40          118        2010        2            1      3   \n",
       "1091019              40         2452       11014       11            1      3   \n",
       "1091020              40          320        7015        7            1      4   \n",
       "\n",
       "         number_trip  count_day  \n",
       "0                  1          1  \n",
       "1                  1          5  \n",
       "2                  1          5  \n",
       "3                  1          6  \n",
       "4                  1          4  \n",
       "...              ...        ...  \n",
       "1091016            1          1  \n",
       "1091017            2          2  \n",
       "1091018            1          1  \n",
       "1091019            1          1  \n",
       "1091020            2          2  \n",
       "\n",
       "[1091021 rows x 8 columns]"
      ]
     },
     "execution_count": 29,
     "metadata": {},
     "output_type": "execute_result"
    }
   ],
   "source": [
    "X"
   ]
  },
  {
   "cell_type": "code",
   "execution_count": 30,
   "metadata": {},
   "outputs": [
    {
     "data": {
      "text/html": [
       "<div>\n",
       "<style scoped>\n",
       "    .dataframe tbody tr th:only-of-type {\n",
       "        vertical-align: middle;\n",
       "    }\n",
       "\n",
       "    .dataframe tbody tr th {\n",
       "        vertical-align: top;\n",
       "    }\n",
       "\n",
       "    .dataframe thead th {\n",
       "        text-align: right;\n",
       "    }\n",
       "</style>\n",
       "<table border=\"1\" class=\"dataframe\">\n",
       "  <thead>\n",
       "    <tr style=\"text-align: right;\">\n",
       "      <th></th>\n",
       "      <th>time_to_under</th>\n",
       "      <th>label</th>\n",
       "    </tr>\n",
       "  </thead>\n",
       "  <tbody>\n",
       "    <tr>\n",
       "      <th>0</th>\n",
       "      <td>216.316667</td>\n",
       "      <td>8001</td>\n",
       "    </tr>\n",
       "    <tr>\n",
       "      <th>1</th>\n",
       "      <td>648.183333</td>\n",
       "      <td>9011</td>\n",
       "    </tr>\n",
       "    <tr>\n",
       "      <th>2</th>\n",
       "      <td>865.333333</td>\n",
       "      <td>7022</td>\n",
       "    </tr>\n",
       "    <tr>\n",
       "      <th>3</th>\n",
       "      <td>1048.233333</td>\n",
       "      <td>2022</td>\n",
       "    </tr>\n",
       "    <tr>\n",
       "      <th>4</th>\n",
       "      <td>965.600000</td>\n",
       "      <td>2017</td>\n",
       "    </tr>\n",
       "    <tr>\n",
       "      <th>...</th>\n",
       "      <td>...</td>\n",
       "      <td>...</td>\n",
       "    </tr>\n",
       "    <tr>\n",
       "      <th>1091016</th>\n",
       "      <td>124.750000</td>\n",
       "      <td>15005</td>\n",
       "    </tr>\n",
       "    <tr>\n",
       "      <th>1091017</th>\n",
       "      <td>56.066667</td>\n",
       "      <td>6007</td>\n",
       "    </tr>\n",
       "    <tr>\n",
       "      <th>1091018</th>\n",
       "      <td>91.283333</td>\n",
       "      <td>2010</td>\n",
       "    </tr>\n",
       "    <tr>\n",
       "      <th>1091019</th>\n",
       "      <td>47.900000</td>\n",
       "      <td>11014</td>\n",
       "    </tr>\n",
       "    <tr>\n",
       "      <th>1091020</th>\n",
       "      <td>34.100000</td>\n",
       "      <td>7015</td>\n",
       "    </tr>\n",
       "  </tbody>\n",
       "</table>\n",
       "<p>1091021 rows × 2 columns</p>\n",
       "</div>"
      ],
      "text/plain": [
       "         time_to_under  label\n",
       "0           216.316667   8001\n",
       "1           648.183333   9011\n",
       "2           865.333333   7022\n",
       "3          1048.233333   2022\n",
       "4           965.600000   2017\n",
       "...                ...    ...\n",
       "1091016     124.750000  15005\n",
       "1091017      56.066667   6007\n",
       "1091018      91.283333   2010\n",
       "1091019      47.900000  11014\n",
       "1091020      34.100000   7015\n",
       "\n",
       "[1091021 rows x 2 columns]"
      ]
     },
     "execution_count": 30,
     "metadata": {},
     "output_type": "execute_result"
    }
   ],
   "source": [
    "y"
   ]
  },
  {
   "cell_type": "code",
   "execution_count": 46,
   "metadata": {},
   "outputs": [],
   "source": [
    "STATE = np.random.seed(42)"
   ]
  },
  {
   "cell_type": "code",
   "execution_count": 47,
   "metadata": {},
   "outputs": [],
   "source": [
    "X_train, X_test, y_train, y_test = train_test_split(X, y, test_size=0.2, random_state=STATE, stratify= y['label'])"
   ]
  },
  {
   "cell_type": "markdown",
   "metadata": {
    "id": "60NotS9ehbO5"
   },
   "source": [
    "## Обучение модели"
   ]
  },
  {
   "cell_type": "markdown",
   "metadata": {},
   "source": [
    "### Деревья"
   ]
  },
  {
   "cell_type": "markdown",
   "metadata": {
    "id": "uZW02LaeSVpa"
   },
   "source": [
    "Для станции "
   ]
  },
  {
   "cell_type": "code",
   "execution_count": 49,
   "metadata": {},
   "outputs": [],
   "source": [
    "best_model = None\n",
    "best_result = 0"
   ]
  },
  {
   "cell_type": "code",
   "execution_count": 50,
   "metadata": {},
   "outputs": [
    {
     "data": {
      "application/vnd.jupyter.widget-view+json": {
       "model_id": "9c3e99212f9a47fda3ff46f1b3250a27",
       "version_major": 2,
       "version_minor": 0
      },
      "text/plain": [
       "  0%|          | 0/483 [00:00<?, ?it/s]"
      ]
     },
     "metadata": {},
     "output_type": "display_data"
    },
    {
     "name": "stdout",
     "output_type": "stream",
     "text": [
      "Лучшая модель: RandomForestClassifier(max_depth=1, n_estimators=1, n_jobs=-1)\n",
      "Лучшая результат Recall: 0.004028107454457957\n",
      "\n",
      "Лучшая модель: RandomForestClassifier(max_depth=1, n_estimators=2, n_jobs=-1)\n",
      "Лучшая результат Recall: 0.00650783722190966\n",
      "\n",
      "Лучшая модель: RandomForestClassifier(max_depth=2, n_estimators=1, n_jobs=-1)\n",
      "Лучшая результат Recall: 0.009902061128930375\n",
      "\n",
      "Лучшая модель: RandomForestClassifier(max_depth=2, n_estimators=2, n_jobs=-1)\n",
      "Лучшая результат Recall: 0.011302815318814271\n",
      "\n",
      "Лучшая модель: RandomForestClassifier(max_depth=2, n_estimators=10, n_jobs=-1)\n",
      "Лучшая результат Recall: 0.011576402999432342\n",
      "\n",
      "Лучшая модель: RandomForestClassifier(max_depth=3, n_estimators=2, n_jobs=-1)\n",
      "Лучшая результат Recall: 0.011848218400031751\n",
      "\n",
      "Лучшая модель: RandomForestClassifier(max_depth=3, n_estimators=3, n_jobs=-1)\n",
      "Лучшая результат Recall: 0.012835102955738883\n",
      "\n",
      "Лучшая модель: RandomForestClassifier(max_depth=3, n_estimators=5, n_jobs=-1)\n",
      "Лучшая результат Recall: 0.01396132434551128\n",
      "\n",
      "Лучшая модель: RandomForestClassifier(max_depth=4, n_estimators=1, n_jobs=-1)\n",
      "Лучшая результат Recall: 0.014945186997872496\n",
      "\n",
      "Лучшая модель: RandomForestClassifier(max_depth=4, n_estimators=4, n_jobs=-1)\n",
      "Лучшая результат Recall: 0.01625476866426338\n",
      "\n",
      "Лучшая модель: RandomForestClassifier(max_depth=4, n_estimators=5, n_jobs=-1)\n",
      "Лучшая результат Recall: 0.01683275246254347\n",
      "\n",
      "Лучшая модель: RandomForestClassifier(max_depth=4, n_estimators=6, n_jobs=-1)\n",
      "Лучшая результат Recall: 0.0170547838025563\n",
      "\n",
      "Лучшая модель: RandomForestClassifier(max_depth=4, n_estimators=8, n_jobs=-1)\n",
      "Лучшая результат Recall: 0.017704333511309893\n",
      "\n",
      "Лучшая модель: RandomForestClassifier(max_depth=4, n_estimators=9, n_jobs=-1)\n",
      "Лучшая результат Recall: 0.018304896684057364\n",
      "\n",
      "Лучшая модель: RandomForestClassifier(max_depth=4, n_estimators=22, n_jobs=-1)\n",
      "Лучшая результат Recall: 0.018633910360500282\n",
      "\n",
      "Лучшая модель: RandomForestClassifier(max_depth=5, n_estimators=2, n_jobs=-1)\n",
      "Лучшая результат Recall: 0.018857763830396276\n",
      "\n",
      "Лучшая модель: RandomForestClassifier(max_depth=5, n_estimators=3, n_jobs=-1)\n",
      "Лучшая результат Recall: 0.01894077220080375\n",
      "\n",
      "Лучшая модель: RandomForestClassifier(max_depth=5, n_estimators=4, n_jobs=-1)\n",
      "Лучшая результат Recall: 0.01960504207300323\n",
      "\n",
      "Лучшая модель: RandomForestClassifier(max_depth=5, n_estimators=5, n_jobs=-1)\n",
      "Лучшая результат Recall: 0.02056216250020137\n",
      "\n",
      "Лучшая модель: RandomForestClassifier(max_depth=5, n_estimators=8, n_jobs=-1)\n",
      "Лучшая результат Recall: 0.020791755346867544\n",
      "\n",
      "Лучшая модель: RandomForestClassifier(max_depth=5, n_estimators=9, n_jobs=-1)\n",
      "Лучшая результат Recall: 0.020819026907933913\n",
      "\n",
      "Лучшая модель: RandomForestClassifier(max_depth=5, n_estimators=11, n_jobs=-1)\n",
      "Лучшая результат Recall: 0.0208369293909174\n",
      "\n",
      "Лучшая модель: RandomForestClassifier(max_depth=5, n_estimators=12, n_jobs=-1)\n",
      "Лучшая результат Recall: 0.02115547372137456\n",
      "\n",
      "Лучшая модель: RandomForestClassifier(max_depth=5, n_estimators=13, n_jobs=-1)\n",
      "Лучшая результат Recall: 0.022185451970595682\n",
      "\n",
      "Лучшая модель: RandomForestClassifier(max_depth=6, n_estimators=1, n_jobs=-1)\n",
      "Лучшая результат Recall: 0.022208636975685543\n",
      "\n",
      "Лучшая модель: RandomForestClassifier(max_depth=6, n_estimators=2, n_jobs=-1)\n",
      "Лучшая результат Recall: 0.022392923357856715\n",
      "\n",
      "Лучшая модель: RandomForestClassifier(max_depth=6, n_estimators=3, n_jobs=-1)\n",
      "Лучшая результат Recall: 0.02312466178535459\n",
      "\n",
      "Лучшая модель: RandomForestClassifier(max_depth=6, n_estimators=4, n_jobs=-1)\n",
      "Лучшая результат Recall: 0.02598559994795889\n",
      "\n",
      "Лучшая модель: RandomForestClassifier(max_depth=7, n_estimators=2, n_jobs=-1)\n",
      "Лучшая результат Recall: 0.027262969683561466\n",
      "\n",
      "Лучшая модель: RandomForestClassifier(max_depth=7, n_estimators=3, n_jobs=-1)\n",
      "Лучшая результат Recall: 0.028926609955848358\n",
      "\n",
      "Лучшая модель: RandomForestClassifier(max_depth=7, n_estimators=7, n_jobs=-1)\n",
      "Лучшая результат Recall: 0.029586365480604115\n",
      "\n",
      "Лучшая модель: RandomForestClassifier(max_depth=7, n_estimators=9, n_jobs=-1)\n",
      "Лучшая результат Recall: 0.030873290430440088\n",
      "\n",
      "Лучшая модель: RandomForestClassifier(max_depth=7, n_estimators=19, n_jobs=-1)\n",
      "Лучшая результат Recall: 0.032276317881972195\n",
      "\n",
      "Лучшая модель: RandomForestClassifier(max_depth=7, n_estimators=23, n_jobs=-1)\n",
      "Лучшая результат Recall: 0.032633081752438266\n",
      "\n",
      "Лучшая модель: RandomForestClassifier(max_depth=8, n_estimators=3, n_jobs=-1)\n",
      "Лучшая результат Recall: 0.03398181069843736\n",
      "\n",
      "Лучшая модель: RandomForestClassifier(max_depth=8, n_estimators=4, n_jobs=-1)\n",
      "Лучшая результат Recall: 0.03402146801988362\n",
      "\n",
      "Лучшая модель: RandomForestClassifier(max_depth=8, n_estimators=7, n_jobs=-1)\n",
      "Лучшая результат Recall: 0.035891227621525794\n",
      "\n",
      "Лучшая модель: RandomForestClassifier(max_depth=8, n_estimators=9, n_jobs=-1)\n",
      "Лучшая результат Recall: 0.035994120941539205\n",
      "\n",
      "Лучшая модель: RandomForestClassifier(max_depth=8, n_estimators=16, n_jobs=-1)\n",
      "Лучшая результат Recall: 0.03841118557369388\n",
      "\n",
      "Лучшая модель: RandomForestClassifier(max_depth=9, n_estimators=3, n_jobs=-1)\n",
      "Лучшая результат Recall: 0.040357747562445714\n",
      "\n",
      "Лучшая модель: RandomForestClassifier(max_depth=9, n_estimators=9, n_jobs=-1)\n",
      "Лучшая результат Recall: 0.041057240641782095\n",
      "\n",
      "Лучшая модель: RandomForestClassifier(max_depth=9, n_estimators=11, n_jobs=-1)\n",
      "Лучшая результат Recall: 0.04184718621219233\n",
      "\n",
      "Лучшая модель: RandomForestClassifier(max_depth=9, n_estimators=12, n_jobs=-1)\n",
      "Лучшая результат Recall: 0.0432965611526906\n",
      "\n",
      "Лучшая модель: RandomForestClassifier(max_depth=9, n_estimators=13, n_jobs=-1)\n",
      "Лучшая результат Recall: 0.04366886916580472\n",
      "\n",
      "Лучшая модель: RandomForestClassifier(max_depth=9, n_estimators=15, n_jobs=-1)\n",
      "Лучшая результат Recall: 0.043690241850261935\n",
      "\n",
      "Лучшая модель: RandomForestClassifier(max_depth=9, n_estimators=16, n_jobs=-1)\n",
      "Лучшая результат Recall: 0.04485806246757184\n",
      "\n",
      "Лучшая модель: RandomForestClassifier(max_depth=9, n_estimators=20, n_jobs=-1)\n",
      "Лучшая результат Recall: 0.04573056680045482\n",
      "\n",
      "Лучшая модель: RandomForestClassifier(max_depth=9, n_estimators=22, n_jobs=-1)\n",
      "Лучшая результат Recall: 0.04615227901388859\n",
      "\n",
      "Лучшая модель: RandomForestClassifier(max_depth=10, n_estimators=7, n_jobs=-1)\n",
      "Лучшая результат Recall: 0.04661670692856634\n",
      "\n",
      "Лучшая модель: RandomForestClassifier(max_depth=10, n_estimators=8, n_jobs=-1)\n",
      "Лучшая результат Recall: 0.0470234959035665\n",
      "\n",
      "Лучшая модель: RandomForestClassifier(max_depth=10, n_estimators=9, n_jobs=-1)\n",
      "Лучшая результат Recall: 0.04869786865048338\n",
      "\n",
      "Лучшая модель: RandomForestClassifier(max_depth=10, n_estimators=13, n_jobs=-1)\n",
      "Лучшая результат Recall: 0.04956353727041983\n",
      "\n",
      "Лучшая модель: RandomForestClassifier(max_depth=10, n_estimators=14, n_jobs=-1)\n",
      "Лучшая результат Recall: 0.04983355506465656\n",
      "\n",
      "Лучшая модель: RandomForestClassifier(max_depth=10, n_estimators=15, n_jobs=-1)\n",
      "Лучшая результат Recall: 0.051766282376892396\n",
      "\n",
      "Лучшая модель: RandomForestClassifier(max_depth=10, n_estimators=18, n_jobs=-1)\n",
      "Лучшая результат Recall: 0.052407959667618034\n",
      "\n",
      "Лучшая модель: RandomForestClassifier(max_depth=11, n_estimators=5, n_jobs=-1)\n",
      "Лучшая результат Recall: 0.05300377707948108\n",
      "\n",
      "Лучшая модель: RandomForestClassifier(max_depth=11, n_estimators=7, n_jobs=-1)\n",
      "Лучшая результат Recall: 0.05359794841764442\n",
      "\n",
      "Лучшая модель: RandomForestClassifier(max_depth=11, n_estimators=8, n_jobs=-1)\n",
      "Лучшая результат Recall: 0.05364119202911939\n",
      "\n",
      "Лучшая модель: RandomForestClassifier(max_depth=11, n_estimators=9, n_jobs=-1)\n",
      "Лучшая результат Recall: 0.05528952341036039\n",
      "\n",
      "Лучшая модель: RandomForestClassifier(max_depth=11, n_estimators=10, n_jobs=-1)\n",
      "Лучшая результат Recall: 0.05918258552350025\n",
      "\n",
      "Лучшая модель: RandomForestClassifier(max_depth=11, n_estimators=12, n_jobs=-1)\n",
      "Лучшая результат Recall: 0.0593226850785268\n",
      "\n",
      "Лучшая модель: RandomForestClassifier(max_depth=11, n_estimators=19, n_jobs=-1)\n",
      "Лучшая результат Recall: 0.05960864822617855\n",
      "\n",
      "Лучшая модель: RandomForestClassifier(max_depth=11, n_estimators=22, n_jobs=-1)\n",
      "Лучшая результат Recall: 0.06059413984272314\n",
      "\n",
      "Лучшая модель: RandomForestClassifier(max_depth=12, n_estimators=6, n_jobs=-1)\n",
      "Лучшая результат Recall: 0.060860698439799306\n",
      "\n",
      "Лучшая модель: RandomForestClassifier(max_depth=12, n_estimators=7, n_jobs=-1)\n",
      "Лучшая результат Recall: 0.06108155979381995\n",
      "\n",
      "Лучшая модель: RandomForestClassifier(max_depth=12, n_estimators=8, n_jobs=-1)\n",
      "Лучшая результат Recall: 0.06504604405064088\n",
      "\n",
      "Лучшая модель: RandomForestClassifier(max_depth=12, n_estimators=13, n_jobs=-1)\n",
      "Лучшая результат Recall: 0.06616523954914838\n",
      "\n",
      "Лучшая модель: RandomForestClassifier(max_depth=12, n_estimators=16, n_jobs=-1)\n",
      "Лучшая результат Recall: 0.06658978227117304\n",
      "\n",
      "Лучшая модель: RandomForestClassifier(max_depth=12, n_estimators=18, n_jobs=-1)\n",
      "Лучшая результат Recall: 0.06883172459677586\n",
      "\n",
      "Лучшая модель: RandomForestClassifier(max_depth=13, n_estimators=10, n_jobs=-1)\n",
      "Лучшая результат Recall: 0.07100148715966788\n",
      "\n",
      "Лучшая модель: RandomForestClassifier(max_depth=13, n_estimators=13, n_jobs=-1)\n",
      "Лучшая результат Recall: 0.07265887174923366\n",
      "\n",
      "Лучшая модель: RandomForestClassifier(max_depth=13, n_estimators=14, n_jobs=-1)\n",
      "Лучшая результат Recall: 0.07304623647583411\n",
      "\n",
      "Лучшая модель: RandomForestClassifier(max_depth=13, n_estimators=16, n_jobs=-1)\n",
      "Лучшая результат Recall: 0.07437427812860112\n",
      "\n",
      "Лучшая модель: RandomForestClassifier(max_depth=13, n_estimators=19, n_jobs=-1)\n",
      "Лучшая результат Recall: 0.07490657430780219\n",
      "\n",
      "Лучшая модель: RandomForestClassifier(max_depth=13, n_estimators=20, n_jobs=-1)\n",
      "Лучшая результат Recall: 0.07509365577241335\n",
      "\n",
      "Лучшая модель: RandomForestClassifier(max_depth=13, n_estimators=23, n_jobs=-1)\n",
      "Лучшая результат Recall: 0.0757638151196212\n",
      "\n",
      "Лучшая модель: RandomForestClassifier(max_depth=14, n_estimators=10, n_jobs=-1)\n",
      "Лучшая результат Recall: 0.07762146764220562\n",
      "\n",
      "Лучшая модель: RandomForestClassifier(max_depth=14, n_estimators=11, n_jobs=-1)\n",
      "Лучшая результат Recall: 0.07988329130736571\n",
      "\n",
      "Лучшая модель: RandomForestClassifier(max_depth=14, n_estimators=14, n_jobs=-1)\n",
      "Лучшая результат Recall: 0.08089380224179492\n",
      "\n",
      "Лучшая модель: RandomForestClassifier(max_depth=14, n_estimators=17, n_jobs=-1)\n",
      "Лучшая результат Recall: 0.08195616239881295\n",
      "\n",
      "Лучшая модель: RandomForestClassifier(max_depth=14, n_estimators=20, n_jobs=-1)\n",
      "Лучшая результат Recall: 0.08285774668430992\n",
      "\n",
      "Лучшая модель: RandomForestClassifier(max_depth=15, n_estimators=9, n_jobs=-1)\n",
      "Лучшая результат Recall: 0.0841766180657948\n",
      "\n",
      "Лучшая модель: RandomForestClassifier(max_depth=15, n_estimators=12, n_jobs=-1)\n",
      "Лучшая результат Recall: 0.0852982420573272\n",
      "\n",
      "Лучшая модель: RandomForestClassifier(max_depth=15, n_estimators=21, n_jobs=-1)\n",
      "Лучшая результат Recall: 0.08775129969781267\n",
      "\n",
      "Лучшая модель: RandomForestClassifier(max_depth=15, n_estimators=22, n_jobs=-1)\n",
      "Лучшая результат Recall: 0.08806438272350285\n",
      "\n",
      "Лучшая модель: RandomForestClassifier(max_depth=16, n_estimators=15, n_jobs=-1)\n",
      "Лучшая результат Recall: 0.0899288243787242\n",
      "\n",
      "Лучшая модель: RandomForestClassifier(max_depth=16, n_estimators=22, n_jobs=-1)\n",
      "Лучшая результат Recall: 0.09185324259776885\n",
      "\n",
      "Лучшая модель: RandomForestClassifier(max_depth=16, n_estimators=23, n_jobs=-1)\n",
      "Лучшая результат Recall: 0.09297895944265841\n",
      "\n",
      "Лучшая модель: RandomForestClassifier(max_depth=17, n_estimators=22, n_jobs=-1)\n",
      "Лучшая результат Recall: 0.09334628864854382\n",
      "\n"
     ]
    }
   ],
   "source": [
    "param_grid = {'n_estimators': list(range(1, 24)), 'max_depth': list(range(1, 22))}\n",
    "params = list(ParameterGrid(param_grid))\n",
    "for param in tqdm(params):\n",
    "    model = RandomForestClassifier(random_state=STATE, n_estimators=param['n_estimators'], max_depth=param['max_depth'], n_jobs= -1)\n",
    "    model.fit(X_train, y_train[\"label\"])\n",
    "    pred_class = model.predict(X_test)\n",
    "    score = recall_score(y_test[\"label\"], pred_class , average='macro')\n",
    "    if score > best_result:\n",
    "        best_result = score\n",
    "        best_model = model \n",
    "        print('Лучшая модель:', best_model)\n",
    "        print('Лучшая результат Recall:', best_result)\n",
    "        print()"
   ]
  },
  {
   "cell_type": "code",
   "execution_count": 57,
   "metadata": {},
   "outputs": [],
   "source": [
    "#best_model = RandomForestClassifier(random_state=STATE, n_estimators=23, max_depth=21)"
   ]
  },
  {
   "cell_type": "code",
   "execution_count": 49,
   "metadata": {},
   "outputs": [],
   "source": [
    "#best_model = RandomForestClassifier(random_state=STATE, n_estimators=22, max_depth=17) # 0.302048"
   ]
  },
  {
   "cell_type": "code",
   "execution_count": 51,
   "metadata": {},
   "outputs": [],
   "source": [
    "#best_result = 0.4"
   ]
  },
  {
   "cell_type": "code",
   "execution_count": 51,
   "metadata": {},
   "outputs": [
    {
     "name": "stdout",
     "output_type": "stream",
     "text": [
      "Лучшая модель: RandomForestClassifier(max_depth=17, n_estimators=22, n_jobs=-1)\n",
      "Лучний результат, recall: 0.09334628864854382\n"
     ]
    }
   ],
   "source": [
    "print('Лучшая модель:', best_model)\n",
    "print('Лучний результат, recall:', best_result)"
   ]
  },
  {
   "cell_type": "code",
   "execution_count": 52,
   "metadata": {},
   "outputs": [],
   "source": [
    "best_model_label = best_model\n",
    "label_metric = best_result"
   ]
  },
  {
   "cell_type": "markdown",
   "metadata": {
    "id": "bWkUCLOfSYGU"
   },
   "source": [
    "Для времени"
   ]
  },
  {
   "cell_type": "code",
   "execution_count": 23,
   "metadata": {},
   "outputs": [],
   "source": [
    "best_model = None\n",
    "best_result = 0"
   ]
  },
  {
   "cell_type": "code",
   "execution_count": 24,
   "metadata": {},
   "outputs": [
    {
     "data": {
      "application/vnd.jupyter.widget-view+json": {
       "model_id": "0f72c5c7fdbb42938d07de482979876b",
       "version_major": 2,
       "version_minor": 0
      },
      "text/plain": [
       "  0%|          | 0/16 [00:00<?, ?it/s]"
      ]
     },
     "metadata": {},
     "output_type": "display_data"
    },
    {
     "name": "stdout",
     "output_type": "stream",
     "text": [
      "0.3925303511446506\n",
      "0.4511506290933367\n",
      "0.4511545488319847\n",
      "0.47772219122117965\n",
      "0.4777242959277348\n",
      "0.4777292754183512\n",
      "0.496727352292326\n",
      "0.4967457325241894\n",
      "0.49675270801064286\n"
     ]
    }
   ],
   "source": [
    "param_grid = {'n_estimators': list(range(1, 5)), 'max_depth': list(range(1, 5))}\n",
    "params = list(ParameterGrid(param_grid))\n",
    "for param in tqdm(params):\n",
    "    model = RandomForestRegressor(random_state=STATE, n_estimators=param['n_estimators'], max_depth=param['max_depth'], n_jobs=-1)\n",
    "    model.fit(X_train, y_train[\"time_to_under\"])\n",
    "    pred_class = model.predict(X_test)\n",
    "    score = r2_score(y_test[\"time_to_under\"], pred_class)\n",
    "    if score > best_result:\n",
    "        print(score)\n",
    "        best_result = score\n",
    "        best_model = model "
   ]
  },
  {
   "cell_type": "code",
   "execution_count": 25,
   "metadata": {},
   "outputs": [
    {
     "name": "stdout",
     "output_type": "stream",
     "text": [
      "Лучшая модель: RandomForestRegressor(max_depth=4, n_estimators=3, n_jobs=-1)\n",
      "Лучний результат, r2: 0.49675270801064286\n"
     ]
    }
   ],
   "source": [
    "print('Лучшая модель:', best_model)\n",
    "print('Лучний результат, r2:', best_result)"
   ]
  },
  {
   "cell_type": "code",
   "execution_count": 26,
   "metadata": {},
   "outputs": [],
   "source": [
    "best_model_time_to_under = best_model\n",
    "time_to_under_metric = best_result"
   ]
  },
  {
   "cell_type": "markdown",
   "metadata": {
    "id": "6Y60HHS5jKeN"
   },
   "source": [
    "### Оценка точности"
   ]
  },
  {
   "cell_type": "code",
   "execution_count": 27,
   "metadata": {},
   "outputs": [
    {
     "data": {
      "text/plain": [
       "0.25642792234079814"
      ]
     },
     "execution_count": 27,
     "metadata": {},
     "output_type": "execute_result"
    }
   ],
   "source": [
    "score_rf = 0.5 * label_metric +  0.5 * time_to_under_metric\n",
    "score_rf"
   ]
  },
  {
   "cell_type": "markdown",
   "metadata": {},
   "source": [
    "## Catboost"
   ]
  },
  {
   "cell_type": "markdown",
   "metadata": {},
   "source": [
    "### Классификатор"
   ]
  },
  {
   "cell_type": "markdown",
   "metadata": {},
   "source": [
    "Для станции, классификатор"
   ]
  },
  {
   "cell_type": "code",
   "execution_count": 20,
   "metadata": {},
   "outputs": [
    {
     "data": {
      "application/vnd.jupyter.widget-view+json": {
       "model_id": "1797660552224f459c5eb22b974029f0",
       "version_major": 2,
       "version_minor": 0
      },
      "text/plain": [
       "MetricVisualizer(layout=Layout(align_self='stretch', height='500px'))"
      ]
     },
     "metadata": {},
     "output_type": "display_data"
    },
    {
     "name": "stdout",
     "output_type": "stream",
     "text": [
      "Model is fitted: True\n",
      "Model params:\n",
      "{'iterations': 45, 'learning_rate': 0.1, 'verbose': False}\n"
     ]
    }
   ],
   "source": [
    "cbc = CatBoostClassifier(iterations=45,\n",
    "                           learning_rate=0.1,\n",
    "                           verbose=False\n",
    "                           )\n",
    "\n",
    "fit_model = cbc.fit(X_train, y_train['label'],\n",
    "                    plot = True\n",
    "                      )\n",
    "print('Model is fitted: ' + str(cbc.is_fitted()))\n",
    "print('Model params:')\n",
    "print(cbc.get_params())"
   ]
  },
  {
   "cell_type": "code",
   "execution_count": 21,
   "metadata": {},
   "outputs": [],
   "source": [
    "preds_class = cbc.predict(X_test)"
   ]
  },
  {
   "cell_type": "code",
   "execution_count": 22,
   "metadata": {},
   "outputs": [
    {
     "data": {
      "text/plain": [
       "276"
      ]
     },
     "execution_count": 22,
     "metadata": {},
     "output_type": "execute_result"
    }
   ],
   "source": [
    "len(y_test[\"label\"].unique())"
   ]
  },
  {
   "cell_type": "code",
   "execution_count": 23,
   "metadata": {},
   "outputs": [
    {
     "data": {
      "text/plain": [
       "120"
      ]
     },
     "execution_count": 23,
     "metadata": {},
     "output_type": "execute_result"
    }
   ],
   "source": [
    "len(pd.DataFrame(preds_class)[0].unique())"
   ]
  },
  {
   "cell_type": "code",
   "execution_count": 24,
   "metadata": {},
   "outputs": [],
   "source": [
    "recall = recall_score(y_test[\"label\"], pd.DataFrame(preds_class)[0], average='macro')"
   ]
  },
  {
   "cell_type": "code",
   "execution_count": 25,
   "metadata": {},
   "outputs": [
    {
     "name": "stdout",
     "output_type": "stream",
     "text": [
      "Лучний результат, recall: 0.033639608222470904\n"
     ]
    }
   ],
   "source": [
    "print('Лучний результат, recall:', recall)"
   ]
  },
  {
   "cell_type": "markdown",
   "metadata": {},
   "source": [
    "### Регрессор"
   ]
  },
  {
   "cell_type": "code",
   "execution_count": 53,
   "metadata": {},
   "outputs": [
    {
     "data": {
      "text/html": [
       "<div>\n",
       "<style scoped>\n",
       "    .dataframe tbody tr th:only-of-type {\n",
       "        vertical-align: middle;\n",
       "    }\n",
       "\n",
       "    .dataframe tbody tr th {\n",
       "        vertical-align: top;\n",
       "    }\n",
       "\n",
       "    .dataframe thead th {\n",
       "        text-align: right;\n",
       "    }\n",
       "</style>\n",
       "<table border=\"1\" class=\"dataframe\">\n",
       "  <thead>\n",
       "    <tr style=\"text-align: right;\">\n",
       "      <th></th>\n",
       "      <th>ticket_type_nm</th>\n",
       "      <th>entrance_id</th>\n",
       "      <th>station_id</th>\n",
       "      <th>line_id</th>\n",
       "      <th>day_of_week</th>\n",
       "      <th>hours</th>\n",
       "      <th>number_trip</th>\n",
       "      <th>count_day</th>\n",
       "    </tr>\n",
       "  </thead>\n",
       "  <tbody>\n",
       "    <tr>\n",
       "      <th>0</th>\n",
       "      <td>40</td>\n",
       "      <td>2402</td>\n",
       "      <td>11007</td>\n",
       "      <td>11</td>\n",
       "      <td>1</td>\n",
       "      <td>5</td>\n",
       "      <td>1</td>\n",
       "      <td>1</td>\n",
       "    </tr>\n",
       "    <tr>\n",
       "      <th>1</th>\n",
       "      <td>53</td>\n",
       "      <td>110</td>\n",
       "      <td>2006</td>\n",
       "      <td>2</td>\n",
       "      <td>1</td>\n",
       "      <td>5</td>\n",
       "      <td>1</td>\n",
       "      <td>5</td>\n",
       "    </tr>\n",
       "    <tr>\n",
       "      <th>2</th>\n",
       "      <td>26</td>\n",
       "      <td>110</td>\n",
       "      <td>2006</td>\n",
       "      <td>2</td>\n",
       "      <td>1</td>\n",
       "      <td>5</td>\n",
       "      <td>1</td>\n",
       "      <td>5</td>\n",
       "    </tr>\n",
       "    <tr>\n",
       "      <th>3</th>\n",
       "      <td>3</td>\n",
       "      <td>110</td>\n",
       "      <td>2006</td>\n",
       "      <td>2</td>\n",
       "      <td>1</td>\n",
       "      <td>5</td>\n",
       "      <td>1</td>\n",
       "      <td>6</td>\n",
       "    </tr>\n",
       "    <tr>\n",
       "      <th>4</th>\n",
       "      <td>38</td>\n",
       "      <td>110</td>\n",
       "      <td>2006</td>\n",
       "      <td>2</td>\n",
       "      <td>1</td>\n",
       "      <td>5</td>\n",
       "      <td>1</td>\n",
       "      <td>4</td>\n",
       "    </tr>\n",
       "    <tr>\n",
       "      <th>...</th>\n",
       "      <td>...</td>\n",
       "      <td>...</td>\n",
       "      <td>...</td>\n",
       "      <td>...</td>\n",
       "      <td>...</td>\n",
       "      <td>...</td>\n",
       "      <td>...</td>\n",
       "      <td>...</td>\n",
       "    </tr>\n",
       "    <tr>\n",
       "      <th>1091016</th>\n",
       "      <td>40</td>\n",
       "      <td>2283</td>\n",
       "      <td>15005</td>\n",
       "      <td>15</td>\n",
       "      <td>1</td>\n",
       "      <td>2</td>\n",
       "      <td>1</td>\n",
       "      <td>1</td>\n",
       "    </tr>\n",
       "    <tr>\n",
       "      <th>1091017</th>\n",
       "      <td>40</td>\n",
       "      <td>278</td>\n",
       "      <td>6007</td>\n",
       "      <td>6</td>\n",
       "      <td>1</td>\n",
       "      <td>3</td>\n",
       "      <td>2</td>\n",
       "      <td>2</td>\n",
       "    </tr>\n",
       "    <tr>\n",
       "      <th>1091018</th>\n",
       "      <td>40</td>\n",
       "      <td>118</td>\n",
       "      <td>2010</td>\n",
       "      <td>2</td>\n",
       "      <td>1</td>\n",
       "      <td>3</td>\n",
       "      <td>1</td>\n",
       "      <td>1</td>\n",
       "    </tr>\n",
       "    <tr>\n",
       "      <th>1091019</th>\n",
       "      <td>40</td>\n",
       "      <td>2452</td>\n",
       "      <td>11014</td>\n",
       "      <td>11</td>\n",
       "      <td>1</td>\n",
       "      <td>3</td>\n",
       "      <td>1</td>\n",
       "      <td>1</td>\n",
       "    </tr>\n",
       "    <tr>\n",
       "      <th>1091020</th>\n",
       "      <td>40</td>\n",
       "      <td>320</td>\n",
       "      <td>7015</td>\n",
       "      <td>7</td>\n",
       "      <td>1</td>\n",
       "      <td>4</td>\n",
       "      <td>2</td>\n",
       "      <td>2</td>\n",
       "    </tr>\n",
       "  </tbody>\n",
       "</table>\n",
       "<p>1091021 rows × 8 columns</p>\n",
       "</div>"
      ],
      "text/plain": [
       "         ticket_type_nm  entrance_id  station_id  line_id  day_of_week  hours  \\\n",
       "0                    40         2402       11007       11            1      5   \n",
       "1                    53          110        2006        2            1      5   \n",
       "2                    26          110        2006        2            1      5   \n",
       "3                     3          110        2006        2            1      5   \n",
       "4                    38          110        2006        2            1      5   \n",
       "...                 ...          ...         ...      ...          ...    ...   \n",
       "1091016              40         2283       15005       15            1      2   \n",
       "1091017              40          278        6007        6            1      3   \n",
       "1091018              40          118        2010        2            1      3   \n",
       "1091019              40         2452       11014       11            1      3   \n",
       "1091020              40          320        7015        7            1      4   \n",
       "\n",
       "         number_trip  count_day  \n",
       "0                  1          1  \n",
       "1                  1          5  \n",
       "2                  1          5  \n",
       "3                  1          6  \n",
       "4                  1          4  \n",
       "...              ...        ...  \n",
       "1091016            1          1  \n",
       "1091017            2          2  \n",
       "1091018            1          1  \n",
       "1091019            1          1  \n",
       "1091020            2          2  \n",
       "\n",
       "[1091021 rows x 8 columns]"
      ]
     },
     "execution_count": 53,
     "metadata": {},
     "output_type": "execute_result"
    }
   ],
   "source": [
    "X"
   ]
  },
  {
   "cell_type": "code",
   "execution_count": 54,
   "metadata": {},
   "outputs": [],
   "source": [
    "cbr = CatBoostRegressor(loss_function='RMSE',\n",
    "                          iterations=4_000,\n",
    "                          custom_metric='R2',\n",
    "                          learning_rate=0.001,\n",
    "                          verbose=False,\n",
    "                          use_best_model=True,\n",
    "                          random_seed = 42,\n",
    "                          cat_features = [0,1,2,3,4,5,6,7]                          \n",
    ")"
   ]
  },
  {
   "cell_type": "code",
   "execution_count": 55,
   "metadata": {},
   "outputs": [
    {
     "data": {
      "application/vnd.jupyter.widget-view+json": {
       "model_id": "9bb3a7de1dea4a6981b2628d738c051a",
       "version_major": 2,
       "version_minor": 0
      },
      "text/plain": [
       "MetricVisualizer(layout=Layout(align_self='stretch', height='500px'))"
      ]
     },
     "metadata": {},
     "output_type": "display_data"
    },
    {
     "name": "stdout",
     "output_type": "stream",
     "text": [
      "Model is fitted: True\n",
      "Model params:\n",
      "{'iterations': 4000, 'learning_rate': 0.001, 'loss_function': 'RMSE', 'random_seed': 42, 'use_best_model': True, 'verbose': False, 'custom_metric': 'R2', 'cat_features': [0, 1, 2, 3, 4, 5, 6, 7]}\n"
     ]
    }
   ],
   "source": [
    "cbr.fit(X_train,y_train['time_to_under'],\n",
    "          eval_set = (X_test,y_test['time_to_under']),\n",
    "          plot = True,\n",
    "          early_stopping_rounds=50\n",
    ")\n",
    "print('Model is fitted: ' + str(cbr.is_fitted()))\n",
    "print('Model params:')\n",
    "print(cbr.get_params())"
   ]
  },
  {
   "cell_type": "code",
   "execution_count": 56,
   "metadata": {},
   "outputs": [
    {
     "name": "stdout",
     "output_type": "stream",
     "text": [
      "Tree count: 4000\n"
     ]
    }
   ],
   "source": [
    "print('Tree count: ' + str(cbr.tree_count_))"
   ]
  },
  {
   "cell_type": "code",
   "execution_count": 57,
   "metadata": {},
   "outputs": [
    {
     "name": "stdout",
     "output_type": "stream",
     "text": [
      "Testing performance\n",
      "RMSE: 155.9664\n",
      "R2: 0.5517\n"
     ]
    }
   ],
   "source": [
    "pred = cbr.predict(X_test)\n",
    "rmse = (np.sqrt(mean_squared_error(y_test[\"time_to_under\"], pred)))\n",
    "r2 = r2_score(y_test[\"time_to_under\"], pred)\n",
    "print('Testing performance')\n",
    "print('RMSE: {:.4f}'.format(rmse))\n",
    "print('R2: {:.4f}'.format(r2))"
   ]
  },
  {
   "cell_type": "code",
   "execution_count": 36,
   "metadata": {},
   "outputs": [
    {
     "data": {
      "text/plain": [
       "0.2611598428720291"
      ]
     },
     "execution_count": 36,
     "metadata": {},
     "output_type": "execute_result"
    }
   ],
   "source": [
    "score_cb = 0.5 * recall +  0.5 * r2\n",
    "score_cb"
   ]
  },
  {
   "cell_type": "markdown",
   "metadata": {},
   "source": [
    "### Catboost кроссвалидация"
   ]
  },
  {
   "cell_type": "markdown",
   "metadata": {},
   "source": [
    "Для времени, регрессор"
   ]
  },
  {
   "cell_type": "code",
   "execution_count": 60,
   "metadata": {},
   "outputs": [],
   "source": [
    "params ={}\n",
    "params['loss_function'] = 'RMSE'\n",
    "params['custom_loss'] = 'R2'\n",
    "params['iterations'] = 2_000\n",
    "params['random_seed'] = STATE\n",
    "params['learning_rate'] = 0.1"
   ]
  },
  {
   "cell_type": "code",
   "execution_count": 61,
   "metadata": {},
   "outputs": [
    {
     "data": {
      "application/vnd.jupyter.widget-view+json": {
       "model_id": "98d347f8291641629f76d74a662690df",
       "version_major": 2,
       "version_minor": 0
      },
      "text/plain": [
       "MetricVisualizer(layout=Layout(align_self='stretch', height='500px'))"
      ]
     },
     "metadata": {},
     "output_type": "display_data"
    },
    {
     "name": "stdout",
     "output_type": "stream",
     "text": [
      "Training on fold [0/5]\n"
     ]
    },
    {
     "ename": "KeyboardInterrupt",
     "evalue": "",
     "output_type": "error",
     "traceback": [
      "\u001b[1;31m---------------------------------------------------------------------------\u001b[0m",
      "\u001b[1;31mKeyboardInterrupt\u001b[0m                         Traceback (most recent call last)",
      "\u001b[1;32me:\\DS\\Hackathon_11.2022\\Project.ipynb Ячейка 51\u001b[0m in \u001b[0;36m<cell line: 1>\u001b[1;34m()\u001b[0m\n\u001b[1;32m----> <a href='vscode-notebook-cell:/e%3A/DS/Hackathon_11.2022/Project.ipynb#Y101sZmlsZQ%3D%3D?line=0'>1</a>\u001b[0m cv_data \u001b[39m=\u001b[39m cv(\n\u001b[0;32m      <a href='vscode-notebook-cell:/e%3A/DS/Hackathon_11.2022/Project.ipynb#Y101sZmlsZQ%3D%3D?line=1'>2</a>\u001b[0m     params \u001b[39m=\u001b[39;49m params,\n\u001b[0;32m      <a href='vscode-notebook-cell:/e%3A/DS/Hackathon_11.2022/Project.ipynb#Y101sZmlsZQ%3D%3D?line=2'>3</a>\u001b[0m     pool \u001b[39m=\u001b[39;49m Pool(X, label \u001b[39m=\u001b[39;49m y[\u001b[39m'\u001b[39;49m\u001b[39mtime_to_under\u001b[39;49m\u001b[39m'\u001b[39;49m]),\n\u001b[0;32m      <a href='vscode-notebook-cell:/e%3A/DS/Hackathon_11.2022/Project.ipynb#Y101sZmlsZQ%3D%3D?line=3'>4</a>\u001b[0m     fold_count \u001b[39m=\u001b[39;49m \u001b[39m5\u001b[39;49m,\n\u001b[0;32m      <a href='vscode-notebook-cell:/e%3A/DS/Hackathon_11.2022/Project.ipynb#Y101sZmlsZQ%3D%3D?line=4'>5</a>\u001b[0m     shuffle \u001b[39m=\u001b[39;49m \u001b[39mTrue\u001b[39;49;00m,\n\u001b[0;32m      <a href='vscode-notebook-cell:/e%3A/DS/Hackathon_11.2022/Project.ipynb#Y101sZmlsZQ%3D%3D?line=5'>6</a>\u001b[0m     partition_random_seed \u001b[39m=\u001b[39;49m \u001b[39m42\u001b[39;49m,\n\u001b[0;32m      <a href='vscode-notebook-cell:/e%3A/DS/Hackathon_11.2022/Project.ipynb#Y101sZmlsZQ%3D%3D?line=6'>7</a>\u001b[0m     plot \u001b[39m=\u001b[39;49m \u001b[39mTrue\u001b[39;49;00m,\n\u001b[0;32m      <a href='vscode-notebook-cell:/e%3A/DS/Hackathon_11.2022/Project.ipynb#Y101sZmlsZQ%3D%3D?line=7'>8</a>\u001b[0m     stratified \u001b[39m=\u001b[39;49m \u001b[39mFalse\u001b[39;49;00m,\n\u001b[0;32m      <a href='vscode-notebook-cell:/e%3A/DS/Hackathon_11.2022/Project.ipynb#Y101sZmlsZQ%3D%3D?line=8'>9</a>\u001b[0m     verbose \u001b[39m=\u001b[39;49m \u001b[39mFalse\u001b[39;49;00m,\n\u001b[0;32m     <a href='vscode-notebook-cell:/e%3A/DS/Hackathon_11.2022/Project.ipynb#Y101sZmlsZQ%3D%3D?line=9'>10</a>\u001b[0m     early_stopping_rounds\u001b[39m=\u001b[39;49m\u001b[39m50\u001b[39;49m\n\u001b[0;32m     <a href='vscode-notebook-cell:/e%3A/DS/Hackathon_11.2022/Project.ipynb#Y101sZmlsZQ%3D%3D?line=10'>11</a>\u001b[0m )\n",
      "File \u001b[1;32me:\\Program Files (x86)\\anaconda3\\lib\\site-packages\\catboost\\core.py:6650\u001b[0m, in \u001b[0;36mcv\u001b[1;34m(pool, params, dtrain, iterations, num_boost_round, fold_count, nfold, inverted, partition_random_seed, seed, shuffle, logging_level, stratified, as_pandas, metric_period, verbose, verbose_eval, plot, plot_file, early_stopping_rounds, save_snapshot, snapshot_file, snapshot_interval, metric_update_interval, folds, type, return_models, log_cout, log_cerr)\u001b[0m\n\u001b[0;32m   6648\u001b[0m \u001b[39mwith\u001b[39;00m log_fixup(log_cout, log_cerr), plot_wrapper(plot, plot_file\u001b[39m=\u001b[39mplot_file, plot_title\u001b[39m=\u001b[39m\u001b[39m'\u001b[39m\u001b[39mCross-validation plot\u001b[39m\u001b[39m'\u001b[39m, train_dirs\u001b[39m=\u001b[39mplot_dirs):\n\u001b[0;32m   6649\u001b[0m     \u001b[39mif\u001b[39;00m \u001b[39mnot\u001b[39;00m return_models:\n\u001b[1;32m-> 6650\u001b[0m         \u001b[39mreturn\u001b[39;00m _cv(params, pool, fold_count, inverted, partition_random_seed, shuffle, stratified,\n\u001b[0;32m   6651\u001b[0m                 metric_update_interval, as_pandas, folds, \u001b[39mtype\u001b[39;49m, return_models)\n\u001b[0;32m   6652\u001b[0m     \u001b[39melse\u001b[39;00m:\n\u001b[0;32m   6653\u001b[0m         results, cv_models \u001b[39m=\u001b[39m _cv(params, pool, fold_count, inverted, partition_random_seed, shuffle, stratified,\n\u001b[0;32m   6654\u001b[0m                                  metric_update_interval, as_pandas, folds, \u001b[39mtype\u001b[39m, return_models)\n",
      "File \u001b[1;32m_catboost.pyx:5495\u001b[0m, in \u001b[0;36m_catboost._cv\u001b[1;34m()\u001b[0m\n",
      "File \u001b[1;32m_catboost.pyx:5527\u001b[0m, in \u001b[0;36m_catboost._cv\u001b[1;34m()\u001b[0m\n",
      "\u001b[1;31mKeyboardInterrupt\u001b[0m: "
     ]
    }
   ],
   "source": [
    "cv_data = cv(\n",
    "    params = params,\n",
    "    pool = Pool(X, label = y['time_to_under']),\n",
    "    fold_count = 5,\n",
    "    shuffle = True,\n",
    "    partition_random_seed = 42,\n",
    "    plot = True,\n",
    "    stratified = False,\n",
    "    verbose = False,\n",
    "    early_stopping_rounds=50\n",
    ")"
   ]
  },
  {
   "cell_type": "code",
   "execution_count": 27,
   "metadata": {},
   "outputs": [
    {
     "data": {
      "text/html": [
       "<div>\n",
       "<style scoped>\n",
       "    .dataframe tbody tr th:only-of-type {\n",
       "        vertical-align: middle;\n",
       "    }\n",
       "\n",
       "    .dataframe tbody tr th {\n",
       "        vertical-align: top;\n",
       "    }\n",
       "\n",
       "    .dataframe thead th {\n",
       "        text-align: right;\n",
       "    }\n",
       "</style>\n",
       "<table border=\"1\" class=\"dataframe\">\n",
       "  <thead>\n",
       "    <tr style=\"text-align: right;\">\n",
       "      <th></th>\n",
       "      <th>iterations</th>\n",
       "      <th>test-RMSE-mean</th>\n",
       "      <th>test-RMSE-std</th>\n",
       "      <th>train-RMSE-mean</th>\n",
       "      <th>train-RMSE-std</th>\n",
       "      <th>test-R2-mean</th>\n",
       "      <th>test-R2-std</th>\n",
       "      <th>train-R2-mean</th>\n",
       "      <th>train-R2-std</th>\n",
       "    </tr>\n",
       "  </thead>\n",
       "  <tbody>\n",
       "    <tr>\n",
       "      <th>0</th>\n",
       "      <td>0</td>\n",
       "      <td>510.276418</td>\n",
       "      <td>0.196549</td>\n",
       "      <td>510.276153</td>\n",
       "      <td>0.045967</td>\n",
       "      <td>-3.802633</td>\n",
       "      <td>0.012661</td>\n",
       "      <td>-3.802602</td>\n",
       "      <td>0.003054</td>\n",
       "    </tr>\n",
       "    <tr>\n",
       "      <th>1</th>\n",
       "      <td>1</td>\n",
       "      <td>465.103527</td>\n",
       "      <td>0.166398</td>\n",
       "      <td>465.102831</td>\n",
       "      <td>0.049021</td>\n",
       "      <td>-2.989952</td>\n",
       "      <td>0.010405</td>\n",
       "      <td>-2.989918</td>\n",
       "      <td>0.002568</td>\n",
       "    </tr>\n",
       "    <tr>\n",
       "      <th>2</th>\n",
       "      <td>2</td>\n",
       "      <td>424.950842</td>\n",
       "      <td>0.148355</td>\n",
       "      <td>424.949884</td>\n",
       "      <td>0.059742</td>\n",
       "      <td>-2.330779</td>\n",
       "      <td>0.008884</td>\n",
       "      <td>-2.330745</td>\n",
       "      <td>0.002015</td>\n",
       "    </tr>\n",
       "    <tr>\n",
       "      <th>3</th>\n",
       "      <td>3</td>\n",
       "      <td>389.428458</td>\n",
       "      <td>0.131826</td>\n",
       "      <td>389.426563</td>\n",
       "      <td>0.055261</td>\n",
       "      <td>-1.797202</td>\n",
       "      <td>0.007458</td>\n",
       "      <td>-1.797159</td>\n",
       "      <td>0.001585</td>\n",
       "    </tr>\n",
       "    <tr>\n",
       "      <th>4</th>\n",
       "      <td>4</td>\n",
       "      <td>357.979152</td>\n",
       "      <td>0.117456</td>\n",
       "      <td>357.978541</td>\n",
       "      <td>0.039145</td>\n",
       "      <td>-1.363654</td>\n",
       "      <td>0.006041</td>\n",
       "      <td>-1.363633</td>\n",
       "      <td>0.001480</td>\n",
       "    </tr>\n",
       "  </tbody>\n",
       "</table>\n",
       "</div>"
      ],
      "text/plain": [
       "   iterations  test-RMSE-mean  test-RMSE-std  train-RMSE-mean  train-RMSE-std  \\\n",
       "0           0      510.276418       0.196549       510.276153        0.045967   \n",
       "1           1      465.103527       0.166398       465.102831        0.049021   \n",
       "2           2      424.950842       0.148355       424.949884        0.059742   \n",
       "3           3      389.428458       0.131826       389.426563        0.055261   \n",
       "4           4      357.979152       0.117456       357.978541        0.039145   \n",
       "\n",
       "   test-R2-mean  test-R2-std  train-R2-mean  train-R2-std  \n",
       "0     -3.802633     0.012661      -3.802602      0.003054  \n",
       "1     -2.989952     0.010405      -2.989918      0.002568  \n",
       "2     -2.330779     0.008884      -2.330745      0.002015  \n",
       "3     -1.797202     0.007458      -1.797159      0.001585  \n",
       "4     -1.363654     0.006041      -1.363633      0.001480  "
      ]
     },
     "execution_count": 27,
     "metadata": {},
     "output_type": "execute_result"
    }
   ],
   "source": [
    "cv_data.head()"
   ]
  },
  {
   "cell_type": "code",
   "execution_count": 23,
   "metadata": {},
   "outputs": [
    {
     "name": "stdout",
     "output_type": "stream",
     "text": [
      "Best validation R2 score, not stratifired: 0.5372+-0.5372 on step 999\n"
     ]
    }
   ],
   "source": [
    "best_value  = np.max(cv_data['test-R2-mean'])\n",
    "best_iter = np.argmax(cv_data['test-R2-mean'])\n",
    "print('Best validation R2 score, not stratifired: {:.4f}+-{:.4f} on step {}'.format(\n",
    "    best_value,\n",
    "    cv_data['test-R2-mean'][best_iter],\n",
    "    best_iter)\n",
    "      )"
   ]
  },
  {
   "cell_type": "markdown",
   "metadata": {},
   "source": [
    "Для метки, классификатор"
   ]
  },
  {
   "cell_type": "code",
   "execution_count": 73,
   "metadata": {},
   "outputs": [],
   "source": [
    "params ={}\n",
    "params['loss_function'] = 'MultiClass'\n",
    "params['custom_loss'] = 'Recall'\n",
    "params['iterations'] = 1_000\n",
    "params['random_seed'] = STATE\n",
    "params['learning_rate'] = 0.5"
   ]
  },
  {
   "cell_type": "code",
   "execution_count": 74,
   "metadata": {},
   "outputs": [
    {
     "data": {
      "application/vnd.jupyter.widget-view+json": {
       "model_id": "23596d1eacfc4ccdb0025e59fb2b60fe",
       "version_major": 2,
       "version_minor": 0
      },
      "text/plain": [
       "MetricVisualizer(layout=Layout(align_self='stretch', height='500px'))"
      ]
     },
     "metadata": {},
     "output_type": "display_data"
    },
    {
     "name": "stdout",
     "output_type": "stream",
     "text": [
      "Training on fold [0/5]\n"
     ]
    },
    {
     "ename": "",
     "evalue": "",
     "output_type": "error",
     "traceback": [
      "\u001b[1;31mCanceled future for execute_request message before replies were done"
     ]
    },
    {
     "ename": "",
     "evalue": "",
     "output_type": "error",
     "traceback": [
      "\u001b[1;31mПри выполнении кода в текущей ячейке или предыдущей ячейке ядро аварийно завершило работу. Проверьте код в ячейках, чтобы определить возможную причину сбоя. Щелкните <a href=\"https://aka.ms/vscodeJupyterKernelCrash\">здесь</a> для получения дополнительных сведений. Подробнее см. в <a href='command:jupyter.viewOutput'>журнале Jupyter</a>."
     ]
    }
   ],
   "source": [
    "cv_data = cv(\n",
    "    params = params,\n",
    "    pool = Pool(X, label = y['label']),\n",
    "    fold_count = 5,\n",
    "    shuffle = True,\n",
    "    partition_random_seed = 42,\n",
    "    plot = True,\n",
    "    stratified = False,\n",
    "    verbose = False,\n",
    "    early_stopping_rounds=50\n",
    ")"
   ]
  },
  {
   "cell_type": "markdown",
   "metadata": {
    "id": "6Y60HHS5jKeN"
   },
   "source": [
    "## Проверка на тестовой выборке"
   ]
  },
  {
   "cell_type": "code",
   "execution_count": 31,
   "metadata": {},
   "outputs": [
    {
     "data": {
      "text/html": [
       "<div>\n",
       "<style scoped>\n",
       "    .dataframe tbody tr th:only-of-type {\n",
       "        vertical-align: middle;\n",
       "    }\n",
       "\n",
       "    .dataframe tbody tr th {\n",
       "        vertical-align: top;\n",
       "    }\n",
       "\n",
       "    .dataframe thead th {\n",
       "        text-align: right;\n",
       "    }\n",
       "</style>\n",
       "<table border=\"1\" class=\"dataframe\">\n",
       "  <thead>\n",
       "    <tr style=\"text-align: right;\">\n",
       "      <th></th>\n",
       "      <th>id</th>\n",
       "      <th>ticket_id</th>\n",
       "      <th>ticket_type_nm</th>\n",
       "      <th>entrance_id</th>\n",
       "      <th>entrance_nm</th>\n",
       "      <th>station_id</th>\n",
       "      <th>station_nm</th>\n",
       "      <th>line_id</th>\n",
       "      <th>line_nm</th>\n",
       "      <th>pass_dttm</th>\n",
       "      <th>month</th>\n",
       "      <th>day</th>\n",
       "      <th>day_of_week</th>\n",
       "      <th>hours</th>\n",
       "      <th>number_trip</th>\n",
       "      <th>count_day</th>\n",
       "    </tr>\n",
       "  </thead>\n",
       "  <tbody>\n",
       "    <tr>\n",
       "      <th>0</th>\n",
       "      <td>1091022</td>\n",
       "      <td>44657</td>\n",
       "      <td>38</td>\n",
       "      <td>110</td>\n",
       "      <td>Войковская ( Южный )</td>\n",
       "      <td>2006</td>\n",
       "      <td>Войковская</td>\n",
       "      <td>2</td>\n",
       "      <td>Замоскворецкая</td>\n",
       "      <td>2022-09-12 05:00:03</td>\n",
       "      <td>9</td>\n",
       "      <td>12</td>\n",
       "      <td>1</td>\n",
       "      <td>5</td>\n",
       "      <td>1</td>\n",
       "      <td>4</td>\n",
       "    </tr>\n",
       "    <tr>\n",
       "      <th>1</th>\n",
       "      <td>1091023</td>\n",
       "      <td>168417</td>\n",
       "      <td>40</td>\n",
       "      <td>184</td>\n",
       "      <td>Молодёжная (Западный)</td>\n",
       "      <td>3010</td>\n",
       "      <td>Молодёжная</td>\n",
       "      <td>3</td>\n",
       "      <td>Арбатско-Покровская</td>\n",
       "      <td>2022-09-12 05:00:45</td>\n",
       "      <td>9</td>\n",
       "      <td>12</td>\n",
       "      <td>1</td>\n",
       "      <td>5</td>\n",
       "      <td>1</td>\n",
       "      <td>3</td>\n",
       "    </tr>\n",
       "    <tr>\n",
       "      <th>2</th>\n",
       "      <td>1091024</td>\n",
       "      <td>96417</td>\n",
       "      <td>51</td>\n",
       "      <td>110</td>\n",
       "      <td>Войковская ( Южный )</td>\n",
       "      <td>2006</td>\n",
       "      <td>Войковская</td>\n",
       "      <td>2</td>\n",
       "      <td>Замоскворецкая</td>\n",
       "      <td>2022-09-12 05:00:52</td>\n",
       "      <td>9</td>\n",
       "      <td>12</td>\n",
       "      <td>1</td>\n",
       "      <td>5</td>\n",
       "      <td>1</td>\n",
       "      <td>6</td>\n",
       "    </tr>\n",
       "    <tr>\n",
       "      <th>3</th>\n",
       "      <td>1091025</td>\n",
       "      <td>83378</td>\n",
       "      <td>38</td>\n",
       "      <td>107</td>\n",
       "      <td>Сокол ( Южн./Вост. )</td>\n",
       "      <td>2018</td>\n",
       "      <td>Сокол</td>\n",
       "      <td>2</td>\n",
       "      <td>Замоскворецкая</td>\n",
       "      <td>2022-09-12 05:00:58</td>\n",
       "      <td>9</td>\n",
       "      <td>12</td>\n",
       "      <td>1</td>\n",
       "      <td>5</td>\n",
       "      <td>1</td>\n",
       "      <td>3</td>\n",
       "    </tr>\n",
       "    <tr>\n",
       "      <th>4</th>\n",
       "      <td>1091026</td>\n",
       "      <td>69779</td>\n",
       "      <td>38</td>\n",
       "      <td>110</td>\n",
       "      <td>Войковская ( Южный )</td>\n",
       "      <td>2006</td>\n",
       "      <td>Войковская</td>\n",
       "      <td>2</td>\n",
       "      <td>Замоскворецкая</td>\n",
       "      <td>2022-09-12 05:01:39</td>\n",
       "      <td>9</td>\n",
       "      <td>12</td>\n",
       "      <td>1</td>\n",
       "      <td>5</td>\n",
       "      <td>1</td>\n",
       "      <td>2</td>\n",
       "    </tr>\n",
       "    <tr>\n",
       "      <th>...</th>\n",
       "      <td>...</td>\n",
       "      <td>...</td>\n",
       "      <td>...</td>\n",
       "      <td>...</td>\n",
       "      <td>...</td>\n",
       "      <td>...</td>\n",
       "      <td>...</td>\n",
       "      <td>...</td>\n",
       "      <td>...</td>\n",
       "      <td>...</td>\n",
       "      <td>...</td>\n",
       "      <td>...</td>\n",
       "      <td>...</td>\n",
       "      <td>...</td>\n",
       "      <td>...</td>\n",
       "      <td>...</td>\n",
       "    </tr>\n",
       "    <tr>\n",
       "      <th>561885</th>\n",
       "      <td>1652907</td>\n",
       "      <td>123518</td>\n",
       "      <td>40</td>\n",
       "      <td>279</td>\n",
       "      <td>Калужская (Южный)</td>\n",
       "      <td>6007</td>\n",
       "      <td>Калужская</td>\n",
       "      <td>6</td>\n",
       "      <td>Калужско-Рижская</td>\n",
       "      <td>2022-09-19 01:33:11</td>\n",
       "      <td>9</td>\n",
       "      <td>19</td>\n",
       "      <td>1</td>\n",
       "      <td>1</td>\n",
       "      <td>1</td>\n",
       "      <td>1</td>\n",
       "    </tr>\n",
       "    <tr>\n",
       "      <th>561886</th>\n",
       "      <td>1652908</td>\n",
       "      <td>80912</td>\n",
       "      <td>40</td>\n",
       "      <td>2463</td>\n",
       "      <td>Кунцевская БКЛ (Первый)</td>\n",
       "      <td>11020</td>\n",
       "      <td>Кунцевская</td>\n",
       "      <td>11</td>\n",
       "      <td>Большая кольцевая</td>\n",
       "      <td>2022-09-19 02:03:59</td>\n",
       "      <td>9</td>\n",
       "      <td>19</td>\n",
       "      <td>1</td>\n",
       "      <td>2</td>\n",
       "      <td>2</td>\n",
       "      <td>2</td>\n",
       "    </tr>\n",
       "    <tr>\n",
       "      <th>561887</th>\n",
       "      <td>1652909</td>\n",
       "      <td>28200</td>\n",
       "      <td>40</td>\n",
       "      <td>64</td>\n",
       "      <td>Проспект Вернадского ( Южный )</td>\n",
       "      <td>1012</td>\n",
       "      <td>Проспект Вернадского</td>\n",
       "      <td>1</td>\n",
       "      <td>Сокольническая</td>\n",
       "      <td>2022-09-19 02:51:34</td>\n",
       "      <td>9</td>\n",
       "      <td>19</td>\n",
       "      <td>1</td>\n",
       "      <td>2</td>\n",
       "      <td>1</td>\n",
       "      <td>1</td>\n",
       "    </tr>\n",
       "    <tr>\n",
       "      <th>561888</th>\n",
       "      <td>1652910</td>\n",
       "      <td>150276</td>\n",
       "      <td>40</td>\n",
       "      <td>285</td>\n",
       "      <td>Коньково (Южный)</td>\n",
       "      <td>6009</td>\n",
       "      <td>Коньково</td>\n",
       "      <td>6</td>\n",
       "      <td>Калужско-Рижская</td>\n",
       "      <td>2022-09-19 02:58:10</td>\n",
       "      <td>9</td>\n",
       "      <td>19</td>\n",
       "      <td>1</td>\n",
       "      <td>2</td>\n",
       "      <td>3</td>\n",
       "      <td>3</td>\n",
       "    </tr>\n",
       "    <tr>\n",
       "      <th>561889</th>\n",
       "      <td>1652911</td>\n",
       "      <td>65487</td>\n",
       "      <td>40</td>\n",
       "      <td>184</td>\n",
       "      <td>Молодёжная (Западный)</td>\n",
       "      <td>3010</td>\n",
       "      <td>Молодёжная</td>\n",
       "      <td>3</td>\n",
       "      <td>Арбатско-Покровская</td>\n",
       "      <td>2022-09-19 03:13:27</td>\n",
       "      <td>9</td>\n",
       "      <td>19</td>\n",
       "      <td>1</td>\n",
       "      <td>3</td>\n",
       "      <td>2</td>\n",
       "      <td>2</td>\n",
       "    </tr>\n",
       "  </tbody>\n",
       "</table>\n",
       "<p>561890 rows × 16 columns</p>\n",
       "</div>"
      ],
      "text/plain": [
       "             id  ticket_id  ticket_type_nm  entrance_id  \\\n",
       "0       1091022      44657              38          110   \n",
       "1       1091023     168417              40          184   \n",
       "2       1091024      96417              51          110   \n",
       "3       1091025      83378              38          107   \n",
       "4       1091026      69779              38          110   \n",
       "...         ...        ...             ...          ...   \n",
       "561885  1652907     123518              40          279   \n",
       "561886  1652908      80912              40         2463   \n",
       "561887  1652909      28200              40           64   \n",
       "561888  1652910     150276              40          285   \n",
       "561889  1652911      65487              40          184   \n",
       "\n",
       "                           entrance_nm  station_id            station_nm  \\\n",
       "0                 Войковская ( Южный )        2006            Войковская   \n",
       "1                Молодёжная (Западный)        3010            Молодёжная   \n",
       "2                 Войковская ( Южный )        2006            Войковская   \n",
       "3                 Сокол ( Южн./Вост. )        2018                 Сокол   \n",
       "4                 Войковская ( Южный )        2006            Войковская   \n",
       "...                                ...         ...                   ...   \n",
       "561885               Калужская (Южный)        6007             Калужская   \n",
       "561886         Кунцевская БКЛ (Первый)       11020            Кунцевская   \n",
       "561887  Проспект Вернадского ( Южный )        1012  Проспект Вернадского   \n",
       "561888                Коньково (Южный)        6009              Коньково   \n",
       "561889           Молодёжная (Западный)        3010            Молодёжная   \n",
       "\n",
       "        line_id              line_nm           pass_dttm  month  day  \\\n",
       "0             2       Замоскворецкая 2022-09-12 05:00:03      9   12   \n",
       "1             3  Арбатско-Покровская 2022-09-12 05:00:45      9   12   \n",
       "2             2       Замоскворецкая 2022-09-12 05:00:52      9   12   \n",
       "3             2       Замоскворецкая 2022-09-12 05:00:58      9   12   \n",
       "4             2       Замоскворецкая 2022-09-12 05:01:39      9   12   \n",
       "...         ...                  ...                 ...    ...  ...   \n",
       "561885        6     Калужско-Рижская 2022-09-19 01:33:11      9   19   \n",
       "561886       11    Большая кольцевая 2022-09-19 02:03:59      9   19   \n",
       "561887        1       Сокольническая 2022-09-19 02:51:34      9   19   \n",
       "561888        6     Калужско-Рижская 2022-09-19 02:58:10      9   19   \n",
       "561889        3  Арбатско-Покровская 2022-09-19 03:13:27      9   19   \n",
       "\n",
       "        day_of_week  hours  number_trip  count_day  \n",
       "0                 1      5            1          4  \n",
       "1                 1      5            1          3  \n",
       "2                 1      5            1          6  \n",
       "3                 1      5            1          3  \n",
       "4                 1      5            1          2  \n",
       "...             ...    ...          ...        ...  \n",
       "561885            1      1            1          1  \n",
       "561886            1      2            2          2  \n",
       "561887            1      2            1          1  \n",
       "561888            1      2            3          3  \n",
       "561889            1      3            2          2  \n",
       "\n",
       "[561890 rows x 16 columns]"
      ]
     },
     "execution_count": 31,
     "metadata": {},
     "output_type": "execute_result"
    }
   ],
   "source": [
    "df_test"
   ]
  },
  {
   "cell_type": "code",
   "execution_count": 69,
   "metadata": {},
   "outputs": [],
   "source": [
    "X_test_test = df_test.drop([\"id\", 'ticket_id',  \"entrance_nm\", \"station_nm\", \"line_nm\", \"pass_dttm\",'day','month'], axis = 1)"
   ]
  },
  {
   "cell_type": "code",
   "execution_count": 70,
   "metadata": {},
   "outputs": [
    {
     "data": {
      "text/html": [
       "<div>\n",
       "<style scoped>\n",
       "    .dataframe tbody tr th:only-of-type {\n",
       "        vertical-align: middle;\n",
       "    }\n",
       "\n",
       "    .dataframe tbody tr th {\n",
       "        vertical-align: top;\n",
       "    }\n",
       "\n",
       "    .dataframe thead th {\n",
       "        text-align: right;\n",
       "    }\n",
       "</style>\n",
       "<table border=\"1\" class=\"dataframe\">\n",
       "  <thead>\n",
       "    <tr style=\"text-align: right;\">\n",
       "      <th></th>\n",
       "      <th>ticket_type_nm</th>\n",
       "      <th>entrance_id</th>\n",
       "      <th>station_id</th>\n",
       "      <th>line_id</th>\n",
       "      <th>day_of_week</th>\n",
       "      <th>hours</th>\n",
       "      <th>number_trip</th>\n",
       "      <th>count_day</th>\n",
       "    </tr>\n",
       "  </thead>\n",
       "  <tbody>\n",
       "    <tr>\n",
       "      <th>0</th>\n",
       "      <td>38</td>\n",
       "      <td>110</td>\n",
       "      <td>2006</td>\n",
       "      <td>2</td>\n",
       "      <td>1</td>\n",
       "      <td>5</td>\n",
       "      <td>1</td>\n",
       "      <td>4</td>\n",
       "    </tr>\n",
       "    <tr>\n",
       "      <th>1</th>\n",
       "      <td>40</td>\n",
       "      <td>184</td>\n",
       "      <td>3010</td>\n",
       "      <td>3</td>\n",
       "      <td>1</td>\n",
       "      <td>5</td>\n",
       "      <td>1</td>\n",
       "      <td>3</td>\n",
       "    </tr>\n",
       "    <tr>\n",
       "      <th>2</th>\n",
       "      <td>51</td>\n",
       "      <td>110</td>\n",
       "      <td>2006</td>\n",
       "      <td>2</td>\n",
       "      <td>1</td>\n",
       "      <td>5</td>\n",
       "      <td>1</td>\n",
       "      <td>6</td>\n",
       "    </tr>\n",
       "    <tr>\n",
       "      <th>3</th>\n",
       "      <td>38</td>\n",
       "      <td>107</td>\n",
       "      <td>2018</td>\n",
       "      <td>2</td>\n",
       "      <td>1</td>\n",
       "      <td>5</td>\n",
       "      <td>1</td>\n",
       "      <td>3</td>\n",
       "    </tr>\n",
       "    <tr>\n",
       "      <th>4</th>\n",
       "      <td>38</td>\n",
       "      <td>110</td>\n",
       "      <td>2006</td>\n",
       "      <td>2</td>\n",
       "      <td>1</td>\n",
       "      <td>5</td>\n",
       "      <td>1</td>\n",
       "      <td>2</td>\n",
       "    </tr>\n",
       "    <tr>\n",
       "      <th>...</th>\n",
       "      <td>...</td>\n",
       "      <td>...</td>\n",
       "      <td>...</td>\n",
       "      <td>...</td>\n",
       "      <td>...</td>\n",
       "      <td>...</td>\n",
       "      <td>...</td>\n",
       "      <td>...</td>\n",
       "    </tr>\n",
       "    <tr>\n",
       "      <th>561885</th>\n",
       "      <td>40</td>\n",
       "      <td>279</td>\n",
       "      <td>6007</td>\n",
       "      <td>6</td>\n",
       "      <td>1</td>\n",
       "      <td>1</td>\n",
       "      <td>1</td>\n",
       "      <td>1</td>\n",
       "    </tr>\n",
       "    <tr>\n",
       "      <th>561886</th>\n",
       "      <td>40</td>\n",
       "      <td>2463</td>\n",
       "      <td>11020</td>\n",
       "      <td>11</td>\n",
       "      <td>1</td>\n",
       "      <td>2</td>\n",
       "      <td>2</td>\n",
       "      <td>2</td>\n",
       "    </tr>\n",
       "    <tr>\n",
       "      <th>561887</th>\n",
       "      <td>40</td>\n",
       "      <td>64</td>\n",
       "      <td>1012</td>\n",
       "      <td>1</td>\n",
       "      <td>1</td>\n",
       "      <td>2</td>\n",
       "      <td>1</td>\n",
       "      <td>1</td>\n",
       "    </tr>\n",
       "    <tr>\n",
       "      <th>561888</th>\n",
       "      <td>40</td>\n",
       "      <td>285</td>\n",
       "      <td>6009</td>\n",
       "      <td>6</td>\n",
       "      <td>1</td>\n",
       "      <td>2</td>\n",
       "      <td>3</td>\n",
       "      <td>3</td>\n",
       "    </tr>\n",
       "    <tr>\n",
       "      <th>561889</th>\n",
       "      <td>40</td>\n",
       "      <td>184</td>\n",
       "      <td>3010</td>\n",
       "      <td>3</td>\n",
       "      <td>1</td>\n",
       "      <td>3</td>\n",
       "      <td>2</td>\n",
       "      <td>2</td>\n",
       "    </tr>\n",
       "  </tbody>\n",
       "</table>\n",
       "<p>561890 rows × 8 columns</p>\n",
       "</div>"
      ],
      "text/plain": [
       "        ticket_type_nm  entrance_id  station_id  line_id  day_of_week  hours  \\\n",
       "0                   38          110        2006        2            1      5   \n",
       "1                   40          184        3010        3            1      5   \n",
       "2                   51          110        2006        2            1      5   \n",
       "3                   38          107        2018        2            1      5   \n",
       "4                   38          110        2006        2            1      5   \n",
       "...                ...          ...         ...      ...          ...    ...   \n",
       "561885              40          279        6007        6            1      1   \n",
       "561886              40         2463       11020       11            1      2   \n",
       "561887              40           64        1012        1            1      2   \n",
       "561888              40          285        6009        6            1      2   \n",
       "561889              40          184        3010        3            1      3   \n",
       "\n",
       "        number_trip  count_day  \n",
       "0                 1          4  \n",
       "1                 1          3  \n",
       "2                 1          6  \n",
       "3                 1          3  \n",
       "4                 1          2  \n",
       "...             ...        ...  \n",
       "561885            1          1  \n",
       "561886            2          2  \n",
       "561887            1          1  \n",
       "561888            3          3  \n",
       "561889            2          2  \n",
       "\n",
       "[561890 rows x 8 columns]"
      ]
     },
     "execution_count": 70,
     "metadata": {},
     "output_type": "execute_result"
    }
   ],
   "source": [
    "X_test_test"
   ]
  },
  {
   "cell_type": "markdown",
   "metadata": {},
   "source": [
    "### Деревья"
   ]
  },
  {
   "cell_type": "code",
   "execution_count": 60,
   "metadata": {},
   "outputs": [
    {
     "ename": "NameError",
     "evalue": "name 'best_model_time_to_under' is not defined",
     "output_type": "error",
     "traceback": [
      "\u001b[1;31m---------------------------------------------------------------------------\u001b[0m",
      "\u001b[1;31mNameError\u001b[0m                                 Traceback (most recent call last)",
      "\u001b[1;32me:\\DS\\Hackathon_11.2022\\Project.ipynb Ячейка 70\u001b[0m in \u001b[0;36m<cell line: 1>\u001b[1;34m()\u001b[0m\n\u001b[1;32m----> <a href='vscode-notebook-cell:/e%3A/DS/Hackathon_11.2022/Project.ipynb#Y123sZmlsZQ%3D%3D?line=0'>1</a>\u001b[0m best_model_time_to_under\u001b[39m.\u001b[39mfit(X, y[\u001b[39m\"\u001b[39m\u001b[39mtime_to_under\u001b[39m\u001b[39m\"\u001b[39m])\n",
      "\u001b[1;31mNameError\u001b[0m: name 'best_model_time_to_under' is not defined"
     ]
    }
   ],
   "source": [
    "best_model_time_to_under.fit(X, y[\"time_to_under\"])"
   ]
  },
  {
   "cell_type": "code",
   "execution_count": 83,
   "metadata": {},
   "outputs": [],
   "source": [
    "predicted_test_time_to_under = best_model_time_to_under.predict(X_test_test)\n"
   ]
  },
  {
   "cell_type": "code",
   "execution_count": 84,
   "metadata": {},
   "outputs": [
    {
     "data": {
      "text/plain": [
       "array([596.17132316, 602.16474063, 491.6880438 , ...,  67.57210339,\n",
       "        48.94926083,  47.2594324 ])"
      ]
     },
     "execution_count": 84,
     "metadata": {},
     "output_type": "execute_result"
    }
   ],
   "source": [
    "predicted_test_time_to_under"
   ]
  },
  {
   "cell_type": "markdown",
   "metadata": {},
   "source": []
  },
  {
   "cell_type": "code",
   "execution_count": 71,
   "metadata": {},
   "outputs": [
    {
     "data": {
      "text/plain": [
       "RandomForestClassifier(max_depth=17, n_estimators=22, n_jobs=-1)"
      ]
     },
     "execution_count": 71,
     "metadata": {},
     "output_type": "execute_result"
    }
   ],
   "source": [
    "best_model_label.fit(X, y[\"label\"])"
   ]
  },
  {
   "cell_type": "code",
   "execution_count": 72,
   "metadata": {},
   "outputs": [],
   "source": [
    "predicted_test_label = best_model_label.predict(X_test_test)"
   ]
  },
  {
   "cell_type": "code",
   "execution_count": 73,
   "metadata": {},
   "outputs": [
    {
     "data": {
      "text/plain": [
       "array([6009, 5006, 6009, ..., 9015, 6007, 3010], dtype=int64)"
      ]
     },
     "execution_count": 73,
     "metadata": {},
     "output_type": "execute_result"
    }
   ],
   "source": [
    "predicted_test_label"
   ]
  },
  {
   "cell_type": "code",
   "execution_count": 74,
   "metadata": {},
   "outputs": [
    {
     "data": {
      "text/plain": [
       "274"
      ]
     },
     "execution_count": 74,
     "metadata": {},
     "output_type": "execute_result"
    }
   ],
   "source": [
    "len(pd.Series(predicted_test_label).unique())"
   ]
  },
  {
   "cell_type": "markdown",
   "metadata": {},
   "source": [
    "### Бустинг"
   ]
  },
  {
   "cell_type": "code",
   "execution_count": 75,
   "metadata": {},
   "outputs": [],
   "source": [
    "predicted_test_time_to_under = None"
   ]
  },
  {
   "cell_type": "code",
   "execution_count": 76,
   "metadata": {},
   "outputs": [],
   "source": [
    "predicted_test_time_to_under = cbr.predict(X_test_test)"
   ]
  },
  {
   "cell_type": "code",
   "execution_count": 35,
   "metadata": {},
   "outputs": [],
   "source": [
    "predicted_test_label = None"
   ]
  },
  {
   "cell_type": "code",
   "execution_count": 36,
   "metadata": {},
   "outputs": [],
   "source": [
    "predicted_test_label = cbc.predict(X_test_test)"
   ]
  },
  {
   "cell_type": "code",
   "execution_count": 77,
   "metadata": {},
   "outputs": [],
   "source": [
    "df_unswer = pd.DataFrame(columns=['id','time_to_under','label'])"
   ]
  },
  {
   "cell_type": "code",
   "execution_count": 78,
   "metadata": {},
   "outputs": [],
   "source": [
    "df_unswer['id'] = df_test['id']"
   ]
  },
  {
   "cell_type": "code",
   "execution_count": 79,
   "metadata": {},
   "outputs": [],
   "source": [
    "df_unswer['time_to_under'] = pd.Series(predicted_test_time_to_under)"
   ]
  },
  {
   "cell_type": "code",
   "execution_count": 80,
   "metadata": {},
   "outputs": [],
   "source": [
    "df_unswer['label'] = pd.Series(predicted_test_label)"
   ]
  },
  {
   "cell_type": "code",
   "execution_count": 81,
   "metadata": {},
   "outputs": [],
   "source": [
    "df_unswer.to_csv('hackathon_unswer.csv', index=False) "
   ]
  },
  {
   "cell_type": "code",
   "execution_count": 82,
   "metadata": {},
   "outputs": [
    {
     "data": {
      "text/html": [
       "<div>\n",
       "<style scoped>\n",
       "    .dataframe tbody tr th:only-of-type {\n",
       "        vertical-align: middle;\n",
       "    }\n",
       "\n",
       "    .dataframe tbody tr th {\n",
       "        vertical-align: top;\n",
       "    }\n",
       "\n",
       "    .dataframe thead th {\n",
       "        text-align: right;\n",
       "    }\n",
       "</style>\n",
       "<table border=\"1\" class=\"dataframe\">\n",
       "  <thead>\n",
       "    <tr style=\"text-align: right;\">\n",
       "      <th></th>\n",
       "      <th>id</th>\n",
       "      <th>time_to_under</th>\n",
       "      <th>label</th>\n",
       "    </tr>\n",
       "  </thead>\n",
       "  <tbody>\n",
       "    <tr>\n",
       "      <th>0</th>\n",
       "      <td>1091022</td>\n",
       "      <td>693.058192</td>\n",
       "      <td>6009</td>\n",
       "    </tr>\n",
       "    <tr>\n",
       "      <th>1</th>\n",
       "      <td>1091023</td>\n",
       "      <td>505.830604</td>\n",
       "      <td>5006</td>\n",
       "    </tr>\n",
       "    <tr>\n",
       "      <th>2</th>\n",
       "      <td>1091024</td>\n",
       "      <td>651.164072</td>\n",
       "      <td>6009</td>\n",
       "    </tr>\n",
       "    <tr>\n",
       "      <th>3</th>\n",
       "      <td>1091025</td>\n",
       "      <td>660.511268</td>\n",
       "      <td>7004</td>\n",
       "    </tr>\n",
       "    <tr>\n",
       "      <th>4</th>\n",
       "      <td>1091026</td>\n",
       "      <td>622.642154</td>\n",
       "      <td>6009</td>\n",
       "    </tr>\n",
       "    <tr>\n",
       "      <th>...</th>\n",
       "      <td>...</td>\n",
       "      <td>...</td>\n",
       "      <td>...</td>\n",
       "    </tr>\n",
       "    <tr>\n",
       "      <th>561885</th>\n",
       "      <td>1652907</td>\n",
       "      <td>220.555032</td>\n",
       "      <td>6007</td>\n",
       "    </tr>\n",
       "    <tr>\n",
       "      <th>561886</th>\n",
       "      <td>1652908</td>\n",
       "      <td>390.516688</td>\n",
       "      <td>11020</td>\n",
       "    </tr>\n",
       "    <tr>\n",
       "      <th>561887</th>\n",
       "      <td>1652909</td>\n",
       "      <td>365.423203</td>\n",
       "      <td>9015</td>\n",
       "    </tr>\n",
       "    <tr>\n",
       "      <th>561888</th>\n",
       "      <td>1652910</td>\n",
       "      <td>503.775701</td>\n",
       "      <td>6007</td>\n",
       "    </tr>\n",
       "    <tr>\n",
       "      <th>561889</th>\n",
       "      <td>1652911</td>\n",
       "      <td>472.059136</td>\n",
       "      <td>3010</td>\n",
       "    </tr>\n",
       "  </tbody>\n",
       "</table>\n",
       "<p>561890 rows × 3 columns</p>\n",
       "</div>"
      ],
      "text/plain": [
       "             id  time_to_under  label\n",
       "0       1091022     693.058192   6009\n",
       "1       1091023     505.830604   5006\n",
       "2       1091024     651.164072   6009\n",
       "3       1091025     660.511268   7004\n",
       "4       1091026     622.642154   6009\n",
       "...         ...            ...    ...\n",
       "561885  1652907     220.555032   6007\n",
       "561886  1652908     390.516688  11020\n",
       "561887  1652909     365.423203   9015\n",
       "561888  1652910     503.775701   6007\n",
       "561889  1652911     472.059136   3010\n",
       "\n",
       "[561890 rows x 3 columns]"
      ]
     },
     "execution_count": 82,
     "metadata": {},
     "output_type": "execute_result"
    }
   ],
   "source": [
    "df_unswer"
   ]
  },
  {
   "cell_type": "code",
   "execution_count": null,
   "metadata": {},
   "outputs": [],
   "source": []
  }
 ],
 "metadata": {
  "kernelspec": {
   "display_name": "Python 3.9.12 ('base')",
   "language": "python",
   "name": "python3"
  },
  "language_info": {
   "codemirror_mode": {
    "name": "ipython",
    "version": 3
   },
   "file_extension": ".py",
   "mimetype": "text/x-python",
   "name": "python",
   "nbconvert_exporter": "python",
   "pygments_lexer": "ipython3",
   "version": "3.9.12"
  },
  "orig_nbformat": 4,
  "vscode": {
   "interpreter": {
    "hash": "1c8c03b3dd9f00cbf1a5a5c63c930805b828fbf388ffb63f05d8fe79c64b8236"
   }
  }
 },
 "nbformat": 4,
 "nbformat_minor": 2
}
