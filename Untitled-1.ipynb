{
 "cells": [
  {
   "cell_type": "code",
   "execution_count": 183,
   "metadata": {},
   "outputs": [],
   "source": [
    "import pandas as pd\n",
    "import numpy as np\n",
    "import seaborn as sns\n",
    "import matplotlib.pyplot as plt\n",
    "from sklearn.model_selection import cross_val_score\n",
    "from sklearn.model_selection import ParameterGrid\n",
    "from tqdm.notebook import tqdm\n",
    "from sklearn.metrics import recall_score, r2_score\n",
    "from sklearn.model_selection import train_test_split\n",
    "from sklearn.ensemble import RandomForestClassifier, RandomForestRegressor\n",
    "from catboost import CatBoostRegressor\n",
    "from catboost import CatBoostClassifier\n",
    "from sklearn.metrics import mean_squared_error\n",
    "\n",
    "%matplotlib inline"
   ]
  },
  {
   "cell_type": "code",
   "execution_count": 55,
   "metadata": {},
   "outputs": [],
   "source": [
    "df_test = pd.read_csv(\"test_dataset_test.csv\")\n",
    "df_train = pd.read_csv(\"train_dataset_train.csv\")"
   ]
  },
  {
   "cell_type": "code",
   "execution_count": 56,
   "metadata": {},
   "outputs": [
    {
     "data": {
      "text/html": [
       "<div>\n",
       "<style scoped>\n",
       "    .dataframe tbody tr th:only-of-type {\n",
       "        vertical-align: middle;\n",
       "    }\n",
       "\n",
       "    .dataframe tbody tr th {\n",
       "        vertical-align: top;\n",
       "    }\n",
       "\n",
       "    .dataframe thead th {\n",
       "        text-align: right;\n",
       "    }\n",
       "</style>\n",
       "<table border=\"1\" class=\"dataframe\">\n",
       "  <thead>\n",
       "    <tr style=\"text-align: right;\">\n",
       "      <th></th>\n",
       "      <th>id</th>\n",
       "      <th>ticket_id</th>\n",
       "      <th>ticket_type_nm</th>\n",
       "      <th>entrance_id</th>\n",
       "      <th>entrance_nm</th>\n",
       "      <th>station_id</th>\n",
       "      <th>station_nm</th>\n",
       "      <th>line_id</th>\n",
       "      <th>line_nm</th>\n",
       "      <th>pass_dttm</th>\n",
       "      <th>time_to_under</th>\n",
       "      <th>label</th>\n",
       "    </tr>\n",
       "  </thead>\n",
       "  <tbody>\n",
       "    <tr>\n",
       "      <th>0</th>\n",
       "      <td>1</td>\n",
       "      <td>40BD89EC85646EFB69E283F39C298E60</td>\n",
       "      <td>Пропуск FacePay</td>\n",
       "      <td>2402</td>\n",
       "      <td>Лефортово БКЛ</td>\n",
       "      <td>11007</td>\n",
       "      <td>Лефортово</td>\n",
       "      <td>11</td>\n",
       "      <td>Большая кольцевая</td>\n",
       "      <td>2022-09-12 05:00:13</td>\n",
       "      <td>216.316667</td>\n",
       "      <td>8001</td>\n",
       "    </tr>\n",
       "    <tr>\n",
       "      <th>1</th>\n",
       "      <td>2</td>\n",
       "      <td>126727A96489CC976A8C08E5CEB00542</td>\n",
       "      <td>СК учащегося 30 дней</td>\n",
       "      <td>110</td>\n",
       "      <td>Войковская ( Южный )</td>\n",
       "      <td>2006</td>\n",
       "      <td>Войковская</td>\n",
       "      <td>2</td>\n",
       "      <td>Замоскворецкая</td>\n",
       "      <td>2022-09-12 05:00:54</td>\n",
       "      <td>648.183333</td>\n",
       "      <td>9011</td>\n",
       "    </tr>\n",
       "    <tr>\n",
       "      <th>2</th>\n",
       "      <td>3</td>\n",
       "      <td>D28CE6A9E0E5B6D213470A97CFF32485</td>\n",
       "      <td>БСК дружинника г.Москвы</td>\n",
       "      <td>110</td>\n",
       "      <td>Войковская ( Южный )</td>\n",
       "      <td>2006</td>\n",
       "      <td>Войковская</td>\n",
       "      <td>2</td>\n",
       "      <td>Замоскворецкая</td>\n",
       "      <td>2022-09-12 05:00:55</td>\n",
       "      <td>865.333333</td>\n",
       "      <td>7022</td>\n",
       "    </tr>\n",
       "    <tr>\n",
       "      <th>3</th>\n",
       "      <td>4</td>\n",
       "      <td>015DA44B523C062B5BFEFF3FB0E64B9E</td>\n",
       "      <td>30 дней</td>\n",
       "      <td>110</td>\n",
       "      <td>Войковская ( Южный )</td>\n",
       "      <td>2006</td>\n",
       "      <td>Войковская</td>\n",
       "      <td>2</td>\n",
       "      <td>Замоскворецкая</td>\n",
       "      <td>2022-09-12 05:01:13</td>\n",
       "      <td>1048.233333</td>\n",
       "      <td>2022</td>\n",
       "    </tr>\n",
       "    <tr>\n",
       "      <th>4</th>\n",
       "      <td>5</td>\n",
       "      <td>95B19C6F3A504727AC3EA56EB7E3E80F</td>\n",
       "      <td>КОШЕЛЕК</td>\n",
       "      <td>110</td>\n",
       "      <td>Войковская ( Южный )</td>\n",
       "      <td>2006</td>\n",
       "      <td>Войковская</td>\n",
       "      <td>2</td>\n",
       "      <td>Замоскворецкая</td>\n",
       "      <td>2022-09-12 05:02:55</td>\n",
       "      <td>965.600000</td>\n",
       "      <td>2017</td>\n",
       "    </tr>\n",
       "    <tr>\n",
       "      <th>...</th>\n",
       "      <td>...</td>\n",
       "      <td>...</td>\n",
       "      <td>...</td>\n",
       "      <td>...</td>\n",
       "      <td>...</td>\n",
       "      <td>...</td>\n",
       "      <td>...</td>\n",
       "      <td>...</td>\n",
       "      <td>...</td>\n",
       "      <td>...</td>\n",
       "      <td>...</td>\n",
       "      <td>...</td>\n",
       "    </tr>\n",
       "    <tr>\n",
       "      <th>1091016</th>\n",
       "      <td>1091017</td>\n",
       "      <td>6A738232F8E43DFCD4027FDC0EA6CC03</td>\n",
       "      <td>Пропуск FacePay</td>\n",
       "      <td>2283</td>\n",
       "      <td>Нижегородская (второй)</td>\n",
       "      <td>15005</td>\n",
       "      <td>Нижегородская</td>\n",
       "      <td>15</td>\n",
       "      <td>Некрасовская</td>\n",
       "      <td>2022-09-19 02:54:50</td>\n",
       "      <td>124.750000</td>\n",
       "      <td>15005</td>\n",
       "    </tr>\n",
       "    <tr>\n",
       "      <th>1091017</th>\n",
       "      <td>1091018</td>\n",
       "      <td>141174B366F14A8703903813A49374DB</td>\n",
       "      <td>Пропуск FacePay</td>\n",
       "      <td>278</td>\n",
       "      <td>Калужская (Северный)</td>\n",
       "      <td>6007</td>\n",
       "      <td>Калужская</td>\n",
       "      <td>6</td>\n",
       "      <td>Калужско-Рижская</td>\n",
       "      <td>2022-09-19 03:06:02</td>\n",
       "      <td>56.066667</td>\n",
       "      <td>6007</td>\n",
       "    </tr>\n",
       "    <tr>\n",
       "      <th>1091018</th>\n",
       "      <td>1091019</td>\n",
       "      <td>E38493B30A7C55170806F187AF5EEA15</td>\n",
       "      <td>Пропуск FacePay</td>\n",
       "      <td>118</td>\n",
       "      <td>Каширская (Северный )</td>\n",
       "      <td>2010</td>\n",
       "      <td>Каширская</td>\n",
       "      <td>2</td>\n",
       "      <td>Замоскворецкая</td>\n",
       "      <td>2022-09-19 03:17:00</td>\n",
       "      <td>91.283333</td>\n",
       "      <td>2010</td>\n",
       "    </tr>\n",
       "    <tr>\n",
       "      <th>1091019</th>\n",
       "      <td>1091020</td>\n",
       "      <td>3DF2B6366631ECA06274DD2CB5B0DF24</td>\n",
       "      <td>Пропуск FacePay</td>\n",
       "      <td>2452</td>\n",
       "      <td>Воронцовская (Первый)</td>\n",
       "      <td>11014</td>\n",
       "      <td>Воронцовская</td>\n",
       "      <td>11</td>\n",
       "      <td>Большая кольцевая</td>\n",
       "      <td>2022-09-19 03:23:30</td>\n",
       "      <td>47.900000</td>\n",
       "      <td>11014</td>\n",
       "    </tr>\n",
       "    <tr>\n",
       "      <th>1091020</th>\n",
       "      <td>1091021</td>\n",
       "      <td>80DA097A0BBFD91F5B15697AD53F8D3B</td>\n",
       "      <td>Пропуск FacePay</td>\n",
       "      <td>320</td>\n",
       "      <td>Пушкинская</td>\n",
       "      <td>7015</td>\n",
       "      <td>Пушкинская</td>\n",
       "      <td>7</td>\n",
       "      <td>Таганско-Краснопресненская</td>\n",
       "      <td>2022-09-19 04:10:42</td>\n",
       "      <td>34.100000</td>\n",
       "      <td>7015</td>\n",
       "    </tr>\n",
       "  </tbody>\n",
       "</table>\n",
       "<p>1091021 rows × 12 columns</p>\n",
       "</div>"
      ],
      "text/plain": [
       "              id                         ticket_id           ticket_type_nm  \\\n",
       "0              1  40BD89EC85646EFB69E283F39C298E60          Пропуск FacePay   \n",
       "1              2  126727A96489CC976A8C08E5CEB00542     СК учащегося 30 дней   \n",
       "2              3  D28CE6A9E0E5B6D213470A97CFF32485  БСК дружинника г.Москвы   \n",
       "3              4  015DA44B523C062B5BFEFF3FB0E64B9E                  30 дней   \n",
       "4              5  95B19C6F3A504727AC3EA56EB7E3E80F                  КОШЕЛЕК   \n",
       "...          ...                               ...                      ...   \n",
       "1091016  1091017  6A738232F8E43DFCD4027FDC0EA6CC03          Пропуск FacePay   \n",
       "1091017  1091018  141174B366F14A8703903813A49374DB          Пропуск FacePay   \n",
       "1091018  1091019  E38493B30A7C55170806F187AF5EEA15          Пропуск FacePay   \n",
       "1091019  1091020  3DF2B6366631ECA06274DD2CB5B0DF24          Пропуск FacePay   \n",
       "1091020  1091021  80DA097A0BBFD91F5B15697AD53F8D3B          Пропуск FacePay   \n",
       "\n",
       "         entrance_id             entrance_nm  station_id     station_nm  \\\n",
       "0               2402           Лефортово БКЛ       11007      Лефортово   \n",
       "1                110    Войковская ( Южный )        2006     Войковская   \n",
       "2                110    Войковская ( Южный )        2006     Войковская   \n",
       "3                110    Войковская ( Южный )        2006     Войковская   \n",
       "4                110    Войковская ( Южный )        2006     Войковская   \n",
       "...              ...                     ...         ...            ...   \n",
       "1091016         2283  Нижегородская (второй)       15005  Нижегородская   \n",
       "1091017          278    Калужская (Северный)        6007      Калужская   \n",
       "1091018          118   Каширская (Северный )        2010      Каширская   \n",
       "1091019         2452   Воронцовская (Первый)       11014   Воронцовская   \n",
       "1091020          320              Пушкинская        7015     Пушкинская   \n",
       "\n",
       "         line_id                     line_nm            pass_dttm  \\\n",
       "0             11           Большая кольцевая  2022-09-12 05:00:13   \n",
       "1              2              Замоскворецкая  2022-09-12 05:00:54   \n",
       "2              2              Замоскворецкая  2022-09-12 05:00:55   \n",
       "3              2              Замоскворецкая  2022-09-12 05:01:13   \n",
       "4              2              Замоскворецкая  2022-09-12 05:02:55   \n",
       "...          ...                         ...                  ...   \n",
       "1091016       15                Некрасовская  2022-09-19 02:54:50   \n",
       "1091017        6            Калужско-Рижская  2022-09-19 03:06:02   \n",
       "1091018        2              Замоскворецкая  2022-09-19 03:17:00   \n",
       "1091019       11           Большая кольцевая  2022-09-19 03:23:30   \n",
       "1091020        7  Таганско-Краснопресненская  2022-09-19 04:10:42   \n",
       "\n",
       "         time_to_under  label  \n",
       "0           216.316667   8001  \n",
       "1           648.183333   9011  \n",
       "2           865.333333   7022  \n",
       "3          1048.233333   2022  \n",
       "4           965.600000   2017  \n",
       "...                ...    ...  \n",
       "1091016     124.750000  15005  \n",
       "1091017      56.066667   6007  \n",
       "1091018      91.283333   2010  \n",
       "1091019      47.900000  11014  \n",
       "1091020      34.100000   7015  \n",
       "\n",
       "[1091021 rows x 12 columns]"
      ]
     },
     "execution_count": 56,
     "metadata": {},
     "output_type": "execute_result"
    }
   ],
   "source": [
    "df_train"
   ]
  },
  {
   "cell_type": "code",
   "execution_count": 57,
   "metadata": {},
   "outputs": [
    {
     "data": {
      "text/html": [
       "<div>\n",
       "<style scoped>\n",
       "    .dataframe tbody tr th:only-of-type {\n",
       "        vertical-align: middle;\n",
       "    }\n",
       "\n",
       "    .dataframe tbody tr th {\n",
       "        vertical-align: top;\n",
       "    }\n",
       "\n",
       "    .dataframe thead th {\n",
       "        text-align: right;\n",
       "    }\n",
       "</style>\n",
       "<table border=\"1\" class=\"dataframe\">\n",
       "  <thead>\n",
       "    <tr style=\"text-align: right;\">\n",
       "      <th></th>\n",
       "      <th>id</th>\n",
       "      <th>ticket_id</th>\n",
       "      <th>ticket_type_nm</th>\n",
       "      <th>entrance_id</th>\n",
       "      <th>entrance_nm</th>\n",
       "      <th>station_id</th>\n",
       "      <th>station_nm</th>\n",
       "      <th>line_id</th>\n",
       "      <th>line_nm</th>\n",
       "      <th>pass_dttm</th>\n",
       "    </tr>\n",
       "  </thead>\n",
       "  <tbody>\n",
       "    <tr>\n",
       "      <th>0</th>\n",
       "      <td>1091022</td>\n",
       "      <td>425A13E16226CA01032043111488E0F5</td>\n",
       "      <td>КОШЕЛЕК</td>\n",
       "      <td>110</td>\n",
       "      <td>Войковская ( Южный )</td>\n",
       "      <td>2006</td>\n",
       "      <td>Войковская</td>\n",
       "      <td>2</td>\n",
       "      <td>Замоскворецкая</td>\n",
       "      <td>2022-09-12 05:00:03</td>\n",
       "    </tr>\n",
       "    <tr>\n",
       "      <th>1</th>\n",
       "      <td>1091023</td>\n",
       "      <td>F94EDC107A4E054786882F9453C1B93F</td>\n",
       "      <td>Пропуск FacePay</td>\n",
       "      <td>184</td>\n",
       "      <td>Молодёжная (Западный)</td>\n",
       "      <td>3010</td>\n",
       "      <td>Молодёжная</td>\n",
       "      <td>3</td>\n",
       "      <td>Арбатско-Покровская</td>\n",
       "      <td>2022-09-12 05:00:45</td>\n",
       "    </tr>\n",
       "    <tr>\n",
       "      <th>2</th>\n",
       "      <td>1091024</td>\n",
       "      <td>8F13BFBA98A7DD34B11BD2DDCC5CA68E</td>\n",
       "      <td>СК студента 30 дней</td>\n",
       "      <td>110</td>\n",
       "      <td>Войковская ( Южный )</td>\n",
       "      <td>2006</td>\n",
       "      <td>Войковская</td>\n",
       "      <td>2</td>\n",
       "      <td>Замоскворецкая</td>\n",
       "      <td>2022-09-12 05:00:52</td>\n",
       "    </tr>\n",
       "    <tr>\n",
       "      <th>3</th>\n",
       "      <td>1091025</td>\n",
       "      <td>7B98691636EC418ABF6FEDDE4D7C68FC</td>\n",
       "      <td>КОШЕЛЕК</td>\n",
       "      <td>107</td>\n",
       "      <td>Сокол ( Южн./Вост. )</td>\n",
       "      <td>2018</td>\n",
       "      <td>Сокол</td>\n",
       "      <td>2</td>\n",
       "      <td>Замоскворецкая</td>\n",
       "      <td>2022-09-12 05:00:58</td>\n",
       "    </tr>\n",
       "    <tr>\n",
       "      <th>4</th>\n",
       "      <td>1091026</td>\n",
       "      <td>679C55C28CB36FB546FD104502C0B3DB</td>\n",
       "      <td>КОШЕЛЕК</td>\n",
       "      <td>110</td>\n",
       "      <td>Войковская ( Южный )</td>\n",
       "      <td>2006</td>\n",
       "      <td>Войковская</td>\n",
       "      <td>2</td>\n",
       "      <td>Замоскворецкая</td>\n",
       "      <td>2022-09-12 05:01:39</td>\n",
       "    </tr>\n",
       "    <tr>\n",
       "      <th>...</th>\n",
       "      <td>...</td>\n",
       "      <td>...</td>\n",
       "      <td>...</td>\n",
       "      <td>...</td>\n",
       "      <td>...</td>\n",
       "      <td>...</td>\n",
       "      <td>...</td>\n",
       "      <td>...</td>\n",
       "      <td>...</td>\n",
       "      <td>...</td>\n",
       "    </tr>\n",
       "    <tr>\n",
       "      <th>561885</th>\n",
       "      <td>1652907</td>\n",
       "      <td>B6FADEB8705FAF8E9DFD9016A613D997</td>\n",
       "      <td>Пропуск FacePay</td>\n",
       "      <td>279</td>\n",
       "      <td>Калужская (Южный)</td>\n",
       "      <td>6007</td>\n",
       "      <td>Калужская</td>\n",
       "      <td>6</td>\n",
       "      <td>Калужско-Рижская</td>\n",
       "      <td>2022-09-19 01:33:11</td>\n",
       "    </tr>\n",
       "    <tr>\n",
       "      <th>561886</th>\n",
       "      <td>1652908</td>\n",
       "      <td>77F2868FC2648ACCBD58F1F8AB66C321</td>\n",
       "      <td>Пропуск FacePay</td>\n",
       "      <td>2463</td>\n",
       "      <td>Кунцевская БКЛ (Первый)</td>\n",
       "      <td>11020</td>\n",
       "      <td>Кунцевская</td>\n",
       "      <td>11</td>\n",
       "      <td>Большая кольцевая</td>\n",
       "      <td>2022-09-19 02:03:59</td>\n",
       "    </tr>\n",
       "    <tr>\n",
       "      <th>561887</th>\n",
       "      <td>1652909</td>\n",
       "      <td>29A4ACF592877817B8D00D969DFDB681</td>\n",
       "      <td>Пропуск FacePay</td>\n",
       "      <td>64</td>\n",
       "      <td>Проспект Вернадского ( Южный )</td>\n",
       "      <td>1012</td>\n",
       "      <td>Проспект Вернадского</td>\n",
       "      <td>1</td>\n",
       "      <td>Сокольническая</td>\n",
       "      <td>2022-09-19 02:51:34</td>\n",
       "    </tr>\n",
       "    <tr>\n",
       "      <th>561888</th>\n",
       "      <td>1652910</td>\n",
       "      <td>DE9EBEFD0DF4A351013AA574B075F535</td>\n",
       "      <td>Пропуск FacePay</td>\n",
       "      <td>285</td>\n",
       "      <td>Коньково (Южный)</td>\n",
       "      <td>6009</td>\n",
       "      <td>Коньково</td>\n",
       "      <td>6</td>\n",
       "      <td>Калужско-Рижская</td>\n",
       "      <td>2022-09-19 02:58:10</td>\n",
       "    </tr>\n",
       "    <tr>\n",
       "      <th>561889</th>\n",
       "      <td>1652911</td>\n",
       "      <td>6150B5AFC720997AED9F0231EA8059E3</td>\n",
       "      <td>Пропуск FacePay</td>\n",
       "      <td>184</td>\n",
       "      <td>Молодёжная (Западный)</td>\n",
       "      <td>3010</td>\n",
       "      <td>Молодёжная</td>\n",
       "      <td>3</td>\n",
       "      <td>Арбатско-Покровская</td>\n",
       "      <td>2022-09-19 03:13:27</td>\n",
       "    </tr>\n",
       "  </tbody>\n",
       "</table>\n",
       "<p>561890 rows × 10 columns</p>\n",
       "</div>"
      ],
      "text/plain": [
       "             id                         ticket_id       ticket_type_nm  \\\n",
       "0       1091022  425A13E16226CA01032043111488E0F5              КОШЕЛЕК   \n",
       "1       1091023  F94EDC107A4E054786882F9453C1B93F      Пропуск FacePay   \n",
       "2       1091024  8F13BFBA98A7DD34B11BD2DDCC5CA68E  СК студента 30 дней   \n",
       "3       1091025  7B98691636EC418ABF6FEDDE4D7C68FC              КОШЕЛЕК   \n",
       "4       1091026  679C55C28CB36FB546FD104502C0B3DB              КОШЕЛЕК   \n",
       "...         ...                               ...                  ...   \n",
       "561885  1652907  B6FADEB8705FAF8E9DFD9016A613D997      Пропуск FacePay   \n",
       "561886  1652908  77F2868FC2648ACCBD58F1F8AB66C321      Пропуск FacePay   \n",
       "561887  1652909  29A4ACF592877817B8D00D969DFDB681      Пропуск FacePay   \n",
       "561888  1652910  DE9EBEFD0DF4A351013AA574B075F535      Пропуск FacePay   \n",
       "561889  1652911  6150B5AFC720997AED9F0231EA8059E3      Пропуск FacePay   \n",
       "\n",
       "        entrance_id                     entrance_nm  station_id  \\\n",
       "0               110            Войковская ( Южный )        2006   \n",
       "1               184           Молодёжная (Западный)        3010   \n",
       "2               110            Войковская ( Южный )        2006   \n",
       "3               107            Сокол ( Южн./Вост. )        2018   \n",
       "4               110            Войковская ( Южный )        2006   \n",
       "...             ...                             ...         ...   \n",
       "561885          279               Калужская (Южный)        6007   \n",
       "561886         2463         Кунцевская БКЛ (Первый)       11020   \n",
       "561887           64  Проспект Вернадского ( Южный )        1012   \n",
       "561888          285                Коньково (Южный)        6009   \n",
       "561889          184           Молодёжная (Западный)        3010   \n",
       "\n",
       "                  station_nm  line_id              line_nm  \\\n",
       "0                 Войковская        2       Замоскворецкая   \n",
       "1                 Молодёжная        3  Арбатско-Покровская   \n",
       "2                 Войковская        2       Замоскворецкая   \n",
       "3                      Сокол        2       Замоскворецкая   \n",
       "4                 Войковская        2       Замоскворецкая   \n",
       "...                      ...      ...                  ...   \n",
       "561885             Калужская        6     Калужско-Рижская   \n",
       "561886            Кунцевская       11    Большая кольцевая   \n",
       "561887  Проспект Вернадского        1       Сокольническая   \n",
       "561888              Коньково        6     Калужско-Рижская   \n",
       "561889            Молодёжная        3  Арбатско-Покровская   \n",
       "\n",
       "                  pass_dttm  \n",
       "0       2022-09-12 05:00:03  \n",
       "1       2022-09-12 05:00:45  \n",
       "2       2022-09-12 05:00:52  \n",
       "3       2022-09-12 05:00:58  \n",
       "4       2022-09-12 05:01:39  \n",
       "...                     ...  \n",
       "561885  2022-09-19 01:33:11  \n",
       "561886  2022-09-19 02:03:59  \n",
       "561887  2022-09-19 02:51:34  \n",
       "561888  2022-09-19 02:58:10  \n",
       "561889  2022-09-19 03:13:27  \n",
       "\n",
       "[561890 rows x 10 columns]"
      ]
     },
     "execution_count": 57,
     "metadata": {},
     "output_type": "execute_result"
    }
   ],
   "source": [
    "df_test"
   ]
  },
  {
   "cell_type": "code",
   "execution_count": 58,
   "metadata": {},
   "outputs": [
    {
     "data": {
      "image/png": "[encoded data removed]",
      "text/plain": [
       "<Figure size 1080x1080 with 4 Axes>"
      ]
     },
     "metadata": {
      "needs_background": "light"
     },
     "output_type": "display_data"
    }
   ],
   "source": [
    "df_test.hist(bins = 50, figsize=(15,15))\n",
    "plt.show()"
   ]
  },
  {
   "cell_type": "code",
   "execution_count": 59,
   "metadata": {},
   "outputs": [
    {
     "data": {
      "image/png": "[encoded data removed]",
      "text/plain": [
       "<Figure size 1080x1080 with 6 Axes>"
      ]
     },
     "metadata": {
      "needs_background": "light"
     },
     "output_type": "display_data"
    }
   ],
   "source": [
    "df_train.hist(bins = 50, figsize=(15,15))\n",
    "plt.show()"
   ]
  },
  {
   "cell_type": "code",
   "execution_count": 60,
   "metadata": {},
   "outputs": [],
   "source": [
    "df_train[\"ticket_type_nm\"] = pd.Categorical(df_train[\"ticket_type_nm\"])\n",
    "df_train[\"ticket_type_nm\"].astype('category').cat.codes\n",
    "df_train[\"ticket_type_nm\"] = df_train[\"ticket_type_nm\"].cat.codes"
   ]
  },
  {
   "cell_type": "code",
   "execution_count": 61,
   "metadata": {},
   "outputs": [
    {
     "data": {
      "image/png": "[encoded data removed]",
      "text/plain": [
       "<Figure size 1080x576 with 1 Axes>"
      ]
     },
     "metadata": {
      "needs_background": "light"
     },
     "output_type": "display_data"
    }
   ],
   "source": [
    "plt.figure(figsize=(15,8))\n",
    "sns.countplot(x = \"ticket_type_nm\" , data  = df_train)  \n",
    "plt.show()"
   ]
  },
  {
   "cell_type": "code",
   "execution_count": 62,
   "metadata": {},
   "outputs": [
    {
     "data": {
      "image/png": "[encoded data removed]",
      "text/plain": [
       "<Figure size 432x432 with 3 Axes>"
      ]
     },
     "metadata": {
      "needs_background": "light"
     },
     "output_type": "display_data"
    }
   ],
   "source": [
    "sns.jointplot(x = \"ticket_type_nm\", y = 'time_to_under', data = df_train, kind = 'reg')\n",
    "plt.show()"
   ]
  },
  {
   "cell_type": "code",
   "execution_count": 63,
   "metadata": {},
   "outputs": [],
   "source": [
    "df_train[\"day\"] = df_train.pass_dttm.map(lambda x: int(x.split(\"-\")[2].split(\" \")[0]))\n",
    "df_train[\"hours\"] = df_train.pass_dttm.map(lambda x: int(x.split(\"-\")[2].split(\" \")[1].split(\":\")[0]))"
   ]
  },
  {
   "cell_type": "code",
   "execution_count": 64,
   "metadata": {},
   "outputs": [
    {
     "data": {
      "image/png": "[encoded data removed]",
      "text/plain": [
       "<Figure size 1080x1080 with 2 Axes>"
      ]
     },
     "metadata": {
      "needs_background": "light"
     },
     "output_type": "display_data"
    }
   ],
   "source": [
    "plt.rcParams['figure.figsize']=(15,15)\n",
    "\n",
    "corr = df_train.corr()\n",
    "g = sns.heatmap(corr, square = True, annot=True)"
   ]
  },
  {
   "cell_type": "code",
   "execution_count": 65,
   "metadata": {},
   "outputs": [
    {
     "data": {
      "text/html": [
       "<div>\n",
       "<style scoped>\n",
       "    .dataframe tbody tr th:only-of-type {\n",
       "        vertical-align: middle;\n",
       "    }\n",
       "\n",
       "    .dataframe tbody tr th {\n",
       "        vertical-align: top;\n",
       "    }\n",
       "\n",
       "    .dataframe thead th {\n",
       "        text-align: right;\n",
       "    }\n",
       "</style>\n",
       "<table border=\"1\" class=\"dataframe\">\n",
       "  <thead>\n",
       "    <tr style=\"text-align: right;\">\n",
       "      <th></th>\n",
       "      <th>id</th>\n",
       "      <th>ticket_id</th>\n",
       "      <th>ticket_type_nm</th>\n",
       "      <th>entrance_id</th>\n",
       "      <th>entrance_nm</th>\n",
       "      <th>station_id</th>\n",
       "      <th>station_nm</th>\n",
       "      <th>line_id</th>\n",
       "      <th>line_nm</th>\n",
       "      <th>pass_dttm</th>\n",
       "      <th>time_to_under</th>\n",
       "      <th>label</th>\n",
       "      <th>day</th>\n",
       "      <th>hours</th>\n",
       "    </tr>\n",
       "  </thead>\n",
       "  <tbody>\n",
       "    <tr>\n",
       "      <th>0</th>\n",
       "      <td>1</td>\n",
       "      <td>40BD89EC85646EFB69E283F39C298E60</td>\n",
       "      <td>40</td>\n",
       "      <td>2402</td>\n",
       "      <td>Лефортово БКЛ</td>\n",
       "      <td>11007</td>\n",
       "      <td>Лефортово</td>\n",
       "      <td>11</td>\n",
       "      <td>Большая кольцевая</td>\n",
       "      <td>2022-09-12 05:00:13</td>\n",
       "      <td>216.316667</td>\n",
       "      <td>8001</td>\n",
       "      <td>12</td>\n",
       "      <td>5</td>\n",
       "    </tr>\n",
       "    <tr>\n",
       "      <th>1</th>\n",
       "      <td>2</td>\n",
       "      <td>126727A96489CC976A8C08E5CEB00542</td>\n",
       "      <td>53</td>\n",
       "      <td>110</td>\n",
       "      <td>Войковская ( Южный )</td>\n",
       "      <td>2006</td>\n",
       "      <td>Войковская</td>\n",
       "      <td>2</td>\n",
       "      <td>Замоскворецкая</td>\n",
       "      <td>2022-09-12 05:00:54</td>\n",
       "      <td>648.183333</td>\n",
       "      <td>9011</td>\n",
       "      <td>12</td>\n",
       "      <td>5</td>\n",
       "    </tr>\n",
       "    <tr>\n",
       "      <th>2</th>\n",
       "      <td>3</td>\n",
       "      <td>D28CE6A9E0E5B6D213470A97CFF32485</td>\n",
       "      <td>26</td>\n",
       "      <td>110</td>\n",
       "      <td>Войковская ( Южный )</td>\n",
       "      <td>2006</td>\n",
       "      <td>Войковская</td>\n",
       "      <td>2</td>\n",
       "      <td>Замоскворецкая</td>\n",
       "      <td>2022-09-12 05:00:55</td>\n",
       "      <td>865.333333</td>\n",
       "      <td>7022</td>\n",
       "      <td>12</td>\n",
       "      <td>5</td>\n",
       "    </tr>\n",
       "    <tr>\n",
       "      <th>3</th>\n",
       "      <td>4</td>\n",
       "      <td>015DA44B523C062B5BFEFF3FB0E64B9E</td>\n",
       "      <td>3</td>\n",
       "      <td>110</td>\n",
       "      <td>Войковская ( Южный )</td>\n",
       "      <td>2006</td>\n",
       "      <td>Войковская</td>\n",
       "      <td>2</td>\n",
       "      <td>Замоскворецкая</td>\n",
       "      <td>2022-09-12 05:01:13</td>\n",
       "      <td>1048.233333</td>\n",
       "      <td>2022</td>\n",
       "      <td>12</td>\n",
       "      <td>5</td>\n",
       "    </tr>\n",
       "    <tr>\n",
       "      <th>4</th>\n",
       "      <td>5</td>\n",
       "      <td>95B19C6F3A504727AC3EA56EB7E3E80F</td>\n",
       "      <td>38</td>\n",
       "      <td>110</td>\n",
       "      <td>Войковская ( Южный )</td>\n",
       "      <td>2006</td>\n",
       "      <td>Войковская</td>\n",
       "      <td>2</td>\n",
       "      <td>Замоскворецкая</td>\n",
       "      <td>2022-09-12 05:02:55</td>\n",
       "      <td>965.600000</td>\n",
       "      <td>2017</td>\n",
       "      <td>12</td>\n",
       "      <td>5</td>\n",
       "    </tr>\n",
       "  </tbody>\n",
       "</table>\n",
       "</div>"
      ],
      "text/plain": [
       "   id                         ticket_id  ticket_type_nm  entrance_id  \\\n",
       "0   1  40BD89EC85646EFB69E283F39C298E60              40         2402   \n",
       "1   2  126727A96489CC976A8C08E5CEB00542              53          110   \n",
       "2   3  D28CE6A9E0E5B6D213470A97CFF32485              26          110   \n",
       "3   4  015DA44B523C062B5BFEFF3FB0E64B9E               3          110   \n",
       "4   5  95B19C6F3A504727AC3EA56EB7E3E80F              38          110   \n",
       "\n",
       "            entrance_nm  station_id  station_nm  line_id            line_nm  \\\n",
       "0         Лефортово БКЛ       11007   Лефортово       11  Большая кольцевая   \n",
       "1  Войковская ( Южный )        2006  Войковская        2     Замоскворецкая   \n",
       "2  Войковская ( Южный )        2006  Войковская        2     Замоскворецкая   \n",
       "3  Войковская ( Южный )        2006  Войковская        2     Замоскворецкая   \n",
       "4  Войковская ( Южный )        2006  Войковская        2     Замоскворецкая   \n",
       "\n",
       "             pass_dttm  time_to_under  label  day  hours  \n",
       "0  2022-09-12 05:00:13     216.316667   8001   12      5  \n",
       "1  2022-09-12 05:00:54     648.183333   9011   12      5  \n",
       "2  2022-09-12 05:00:55     865.333333   7022   12      5  \n",
       "3  2022-09-12 05:01:13    1048.233333   2022   12      5  \n",
       "4  2022-09-12 05:02:55     965.600000   2017   12      5  "
      ]
     },
     "execution_count": 65,
     "metadata": {},
     "output_type": "execute_result"
    }
   ],
   "source": [
    "df_train.head()"
   ]
  },
  {
   "cell_type": "code",
   "execution_count": 189,
   "metadata": {},
   "outputs": [],
   "source": [
    "X = df_train.drop([\"ticket_id\", \"entrance_nm\", \"station_nm\", \"line_nm\", \"pass_dttm\", \"label\",\"time_to_under\"], axis = 1)\n",
    "y = df_train[[\"time_to_under\", \"label\"]]"
   ]
  },
  {
   "cell_type": "code",
   "execution_count": 190,
   "metadata": {},
   "outputs": [],
   "source": [
    "STATE = np.random.seed(42)"
   ]
  },
  {
   "cell_type": "code",
   "execution_count": 191,
   "metadata": {},
   "outputs": [],
   "source": [
    "X_train, X_test, y_train, y_test = train_test_split(X, y, test_size=0.3, random_state=STATE)"
   ]
  },
  {
   "cell_type": "markdown",
   "metadata": {
    "id": "60NotS9ehbO5"
   },
   "source": [
    "## Обучение модели"
   ]
  },
  {
   "cell_type": "markdown",
   "metadata": {},
   "source": [
    "### Деревья"
   ]
  },
  {
   "cell_type": "markdown",
   "metadata": {
    "id": "uZW02LaeSVpa"
   },
   "source": [
    "Для станции "
   ]
  },
  {
   "cell_type": "code",
   "execution_count": 69,
   "metadata": {},
   "outputs": [],
   "source": [
    "best_model = None\n",
    "best_result = 0"
   ]
  },
  {
   "cell_type": "code",
   "execution_count": 70,
   "metadata": {},
   "outputs": [
    {
     "data": {
      "application/vnd.jupyter.widget-view+json": {
       "model_id": "5fef3389529f42adada936e3fcbbf80e",
       "version_major": 2,
       "version_minor": 0
      },
      "text/plain": [
       "  0%|          | 0/361 [00:00<?, ?it/s]"
      ]
     },
     "metadata": {},
     "output_type": "display_data"
    }
   ],
   "source": [
    "param_grid = {'n_estimators': list(range(1, 20)), 'max_depth': list(range(1, 20))}\n",
    "params = list(ParameterGrid(param_grid))\n",
    "for param in tqdm(params):\n",
    "    model = RandomForestClassifier(random_state=STATE, n_estimators=param['n_estimators'], max_depth=param['max_depth'], n_jobs=-1)\n",
    "    model.fit(X_train, y_train[\"label\"])\n",
    "    pred_class = model.predict(X_test)\n",
    "    score = recall_score(y_test[\"label\"], pred_class , average='macro')\n",
    "    if score > best_result:\n",
    "        best_result = score\n",
    "        best_model = model "
   ]
  },
  {
   "cell_type": "code",
   "execution_count": 71,
   "metadata": {},
   "outputs": [
    {
     "name": "stdout",
     "output_type": "stream",
     "text": [
      "Лучшая модель: RandomForestClassifier(max_depth=16, n_estimators=18, n_jobs=-1)\n",
      "Лучний результат, recall: 0.07198562574050994\n"
     ]
    }
   ],
   "source": [
    "print('Лучшая модель:', best_model)\n",
    "print('Лучний результат, recall:', best_result)"
   ]
  },
  {
   "cell_type": "code",
   "execution_count": 72,
   "metadata": {},
   "outputs": [],
   "source": [
    "best_model_label = best_model\n",
    "label_metric = best_result"
   ]
  },
  {
   "cell_type": "markdown",
   "metadata": {
    "id": "bWkUCLOfSYGU"
   },
   "source": [
    "Для времени"
   ]
  },
  {
   "cell_type": "code",
   "execution_count": 73,
   "metadata": {},
   "outputs": [],
   "source": [
    "best_model = None\n",
    "best_result = 0"
   ]
  },
  {
   "cell_type": "code",
   "execution_count": 74,
   "metadata": {},
   "outputs": [
    {
     "data": {
      "application/vnd.jupyter.widget-view+json": {
       "model_id": "fe1fcb4956d14a08a04bb29744df0f04",
       "version_major": 2,
       "version_minor": 0
      },
      "text/plain": [
       "  0%|          | 0/361 [00:00<?, ?it/s]"
      ]
     },
     "metadata": {},
     "output_type": "display_data"
    }
   ],
   "source": [
    "param_grid = {'n_estimators': list(range(1, 20)), 'max_depth': list(range(1, 20))}\n",
    "params = list(ParameterGrid(param_grid))\n",
    "for param in tqdm(params):\n",
    "    model = RandomForestRegressor(random_state=STATE, n_estimators=param['n_estimators'], max_depth=param['max_depth'], n_jobs=-1)\n",
    "    model.fit(X_train, y_train[\"time_to_under\"])\n",
    "    pred_class = model.predict(X_test)\n",
    "    score = r2_score(y_test[\"time_to_under\"], pred_class)\n",
    "    if score > best_result:\n",
    "        best_result = score\n",
    "        best_model = model "
   ]
  },
  {
   "cell_type": "code",
   "execution_count": 75,
   "metadata": {},
   "outputs": [
    {
     "name": "stdout",
     "output_type": "stream",
     "text": [
      "Лучшая модель: RandomForestRegressor(max_depth=12, n_estimators=17, n_jobs=-1)\n",
      "Лучний результат, r2: 0.5309498656538929\n"
     ]
    }
   ],
   "source": [
    "print('Лучшая модель:', best_model)\n",
    "print('Лучний результат, r2:', best_result)"
   ]
  },
  {
   "cell_type": "code",
   "execution_count": 76,
   "metadata": {},
   "outputs": [],
   "source": [
    "best_model_time_to_under = best_model\n",
    "time_to_under_metric = best_result"
   ]
  },
  {
   "cell_type": "markdown",
   "metadata": {
    "id": "6Y60HHS5jKeN"
   },
   "source": [
    "### Оценка точности"
   ]
  },
  {
   "cell_type": "code",
   "execution_count": 77,
   "metadata": {},
   "outputs": [
    {
     "data": {
      "text/plain": [
       "0.3014677456972014"
      ]
     },
     "execution_count": 77,
     "metadata": {},
     "output_type": "execute_result"
    }
   ],
   "source": [
    "score = 0.5 * label_metric +  0.5 * time_to_under_metric\n",
    "score"
   ]
  },
  {
   "cell_type": "markdown",
   "metadata": {},
   "source": [
    "## Catboost"
   ]
  },
  {
   "cell_type": "markdown",
   "metadata": {},
   "source": [
    "Для станции, классификатор"
   ]
  },
  {
   "cell_type": "code",
   "execution_count": 299,
   "metadata": {},
   "outputs": [
    {
     "name": "stdout",
     "output_type": "stream",
     "text": [
      "0:\tlearn: 5.5264471\ttotal: 9.64s\tremaining: 4m 39s\n"
     ]
    },
    {
     "ename": "KeyboardInterrupt",
     "evalue": "",
     "output_type": "error",
     "traceback": [
      "\u001b[1;31m---------------------------------------------------------------------------\u001b[0m",
      "\u001b[1;31mKeyboardInterrupt\u001b[0m                         Traceback (most recent call last)",
      "\u001b[1;32me:\\DS\\Hackathon_11.2022\\Untitled-1.ipynb Ячейка 32\u001b[0m in \u001b[0;36m<cell line: 7>\u001b[1;34m()\u001b[0m\n\u001b[0;32m      <a href='vscode-notebook-cell:/e%3A/DS/Hackathon_11.2022/Untitled-1.ipynb#Y103sZmlsZQ%3D%3D?line=0'>1</a>\u001b[0m model \u001b[39m=\u001b[39m CatBoostClassifier(iterations\u001b[39m=\u001b[39m\u001b[39m30\u001b[39m,\n\u001b[0;32m      <a href='vscode-notebook-cell:/e%3A/DS/Hackathon_11.2022/Untitled-1.ipynb#Y103sZmlsZQ%3D%3D?line=1'>2</a>\u001b[0m                            learning_rate\u001b[39m=\u001b[39m\u001b[39m0.1\u001b[39m, \n\u001b[0;32m      <a href='vscode-notebook-cell:/e%3A/DS/Hackathon_11.2022/Untitled-1.ipynb#Y103sZmlsZQ%3D%3D?line=2'>3</a>\u001b[0m                            depth\u001b[39m=\u001b[39m\u001b[39m2\u001b[39m,\n\u001b[0;32m      <a href='vscode-notebook-cell:/e%3A/DS/Hackathon_11.2022/Untitled-1.ipynb#Y103sZmlsZQ%3D%3D?line=3'>4</a>\u001b[0m                            task_type\u001b[39m=\u001b[39m\u001b[39m\"\u001b[39m\u001b[39mGPU\u001b[39m\u001b[39m\"\u001b[39m,\n\u001b[0;32m      <a href='vscode-notebook-cell:/e%3A/DS/Hackathon_11.2022/Untitled-1.ipynb#Y103sZmlsZQ%3D%3D?line=4'>5</a>\u001b[0m                            devices\u001b[39m=\u001b[39m\u001b[39m'\u001b[39m\u001b[39m0:1\u001b[39m\u001b[39m'\u001b[39m)\n\u001b[1;32m----> <a href='vscode-notebook-cell:/e%3A/DS/Hackathon_11.2022/Untitled-1.ipynb#Y103sZmlsZQ%3D%3D?line=6'>7</a>\u001b[0m fit_model \u001b[39m=\u001b[39m model\u001b[39m.\u001b[39;49mfit(X_train, y_train[\u001b[39m'\u001b[39;49m\u001b[39mlabel\u001b[39;49m\u001b[39m'\u001b[39;49m],\n\u001b[0;32m      <a href='vscode-notebook-cell:/e%3A/DS/Hackathon_11.2022/Untitled-1.ipynb#Y103sZmlsZQ%3D%3D?line=7'>8</a>\u001b[0m                       verbose\u001b[39m=\u001b[39;49m\u001b[39m5\u001b[39;49m)\n\u001b[0;32m     <a href='vscode-notebook-cell:/e%3A/DS/Hackathon_11.2022/Untitled-1.ipynb#Y103sZmlsZQ%3D%3D?line=9'>10</a>\u001b[0m \u001b[39mprint\u001b[39m(fit_model\u001b[39m.\u001b[39mget_params())\n",
      "File \u001b[1;32me:\\Program Files (x86)\\anaconda3\\lib\\site-packages\\catboost\\core.py:5128\u001b[0m, in \u001b[0;36mCatBoostClassifier.fit\u001b[1;34m(self, X, y, cat_features, text_features, embedding_features, sample_weight, baseline, use_best_model, eval_set, verbose, logging_level, plot, plot_file, column_description, verbose_eval, metric_period, silent, early_stopping_rounds, save_snapshot, snapshot_file, snapshot_interval, init_model, callbacks, log_cout, log_cerr)\u001b[0m\n\u001b[0;32m   5125\u001b[0m \u001b[39mif\u001b[39;00m \u001b[39m'\u001b[39m\u001b[39mloss_function\u001b[39m\u001b[39m'\u001b[39m \u001b[39min\u001b[39;00m params:\n\u001b[0;32m   5126\u001b[0m     CatBoostClassifier\u001b[39m.\u001b[39m_check_is_compatible_loss(params[\u001b[39m'\u001b[39m\u001b[39mloss_function\u001b[39m\u001b[39m'\u001b[39m])\n\u001b[1;32m-> 5128\u001b[0m \u001b[39mself\u001b[39;49m\u001b[39m.\u001b[39;49m_fit(X, y, cat_features, text_features, embedding_features, \u001b[39mNone\u001b[39;49;00m, sample_weight, \u001b[39mNone\u001b[39;49;00m, \u001b[39mNone\u001b[39;49;00m, \u001b[39mNone\u001b[39;49;00m, \u001b[39mNone\u001b[39;49;00m, baseline, use_best_model,\n\u001b[0;32m   5129\u001b[0m           eval_set, verbose, logging_level, plot, plot_file, column_description, verbose_eval, metric_period,\n\u001b[0;32m   5130\u001b[0m           silent, early_stopping_rounds, save_snapshot, snapshot_file, snapshot_interval, init_model, callbacks, log_cout, log_cerr)\n\u001b[0;32m   5131\u001b[0m \u001b[39mreturn\u001b[39;00m \u001b[39mself\u001b[39m\n",
      "File \u001b[1;32me:\\Program Files (x86)\\anaconda3\\lib\\site-packages\\catboost\\core.py:2355\u001b[0m, in \u001b[0;36mCatBoost._fit\u001b[1;34m(self, X, y, cat_features, text_features, embedding_features, pairs, sample_weight, group_id, group_weight, subgroup_id, pairs_weight, baseline, use_best_model, eval_set, verbose, logging_level, plot, plot_file, column_description, verbose_eval, metric_period, silent, early_stopping_rounds, save_snapshot, snapshot_file, snapshot_interval, init_model, callbacks, log_cout, log_cerr)\u001b[0m\n\u001b[0;32m   2351\u001b[0m allow_clear_pool \u001b[39m=\u001b[39m train_params[\u001b[39m\"\u001b[39m\u001b[39mallow_clear_pool\u001b[39m\u001b[39m\"\u001b[39m]\n\u001b[0;32m   2353\u001b[0m \u001b[39mwith\u001b[39;00m log_fixup(log_cout, log_cerr), \\\n\u001b[0;32m   2354\u001b[0m     plot_wrapper(plot, plot_file, \u001b[39m'\u001b[39m\u001b[39mTraining plots\u001b[39m\u001b[39m'\u001b[39m, [_get_train_dir(\u001b[39mself\u001b[39m\u001b[39m.\u001b[39mget_params())]):\n\u001b[1;32m-> 2355\u001b[0m     \u001b[39mself\u001b[39;49m\u001b[39m.\u001b[39;49m_train(\n\u001b[0;32m   2356\u001b[0m         train_pool,\n\u001b[0;32m   2357\u001b[0m         train_params[\u001b[39m\"\u001b[39;49m\u001b[39meval_sets\u001b[39;49m\u001b[39m\"\u001b[39;49m],\n\u001b[0;32m   2358\u001b[0m         params,\n\u001b[0;32m   2359\u001b[0m         allow_clear_pool,\n\u001b[0;32m   2360\u001b[0m         train_params[\u001b[39m\"\u001b[39;49m\u001b[39minit_model\u001b[39;49m\u001b[39m\"\u001b[39;49m]\n\u001b[0;32m   2361\u001b[0m     )\n\u001b[0;32m   2363\u001b[0m \u001b[39m# Have property feature_importance possibly set\u001b[39;00m\n\u001b[0;32m   2364\u001b[0m loss \u001b[39m=\u001b[39m \u001b[39mself\u001b[39m\u001b[39m.\u001b[39m_object\u001b[39m.\u001b[39m_get_loss_function_name()\n",
      "File \u001b[1;32me:\\Program Files (x86)\\anaconda3\\lib\\site-packages\\catboost\\core.py:1759\u001b[0m, in \u001b[0;36m_CatBoostBase._train\u001b[1;34m(self, train_pool, test_pool, params, allow_clear_pool, init_model)\u001b[0m\n\u001b[0;32m   1758\u001b[0m \u001b[39mdef\u001b[39;00m \u001b[39m_train\u001b[39m(\u001b[39mself\u001b[39m, train_pool, test_pool, params, allow_clear_pool, init_model):\n\u001b[1;32m-> 1759\u001b[0m     \u001b[39mself\u001b[39;49m\u001b[39m.\u001b[39;49m_object\u001b[39m.\u001b[39;49m_train(train_pool, test_pool, params, allow_clear_pool, init_model\u001b[39m.\u001b[39;49m_object \u001b[39mif\u001b[39;49;00m init_model \u001b[39melse\u001b[39;49;00m \u001b[39mNone\u001b[39;49;00m)\n\u001b[0;32m   1760\u001b[0m     \u001b[39mself\u001b[39m\u001b[39m.\u001b[39m_set_trained_model_attributes()\n",
      "File \u001b[1;32m_catboost.pyx:4623\u001b[0m, in \u001b[0;36m_catboost._CatBoost._train\u001b[1;34m()\u001b[0m\n",
      "File \u001b[1;32m_catboost.pyx:4672\u001b[0m, in \u001b[0;36m_catboost._CatBoost._train\u001b[1;34m()\u001b[0m\n",
      "\u001b[1;31mKeyboardInterrupt\u001b[0m: "
     ]
    }
   ],
   "source": [
    "model = CatBoostClassifier(iterations=30,\n",
    "                           learning_rate=0.1, \n",
    "                           depth=2)\n",
    "\n",
    "fit_model = model.fit(X_train, y_train['label'],\n",
    "                      verbose=1)\n",
    "\n",
    "print(fit_model.get_params())"
   ]
  },
  {
   "cell_type": "code",
   "execution_count": 294,
   "metadata": {},
   "outputs": [],
   "source": [
    "preds_class = model.predict(X_test)"
   ]
  },
  {
   "cell_type": "code",
   "execution_count": 295,
   "metadata": {},
   "outputs": [
    {
     "data": {
      "text/plain": [
       "276"
      ]
     },
     "execution_count": 295,
     "metadata": {},
     "output_type": "execute_result"
    }
   ],
   "source": [
    "len(y_test[\"label\"].unique())"
   ]
  },
  {
   "cell_type": "code",
   "execution_count": 296,
   "metadata": {},
   "outputs": [
    {
     "data": {
      "text/plain": [
       "61"
      ]
     },
     "execution_count": 296,
     "metadata": {},
     "output_type": "execute_result"
    }
   ],
   "source": [
    "len(pd.DataFrame(preds_class)[0].unique())"
   ]
  },
  {
   "cell_type": "code",
   "execution_count": 297,
   "metadata": {},
   "outputs": [],
   "source": [
    "score = recall_score(y_test[\"label\"], pd.DataFrame(preds_class)[0], average='macro')"
   ]
  },
  {
   "cell_type": "code",
   "execution_count": 298,
   "metadata": {},
   "outputs": [
    {
     "name": "stdout",
     "output_type": "stream",
     "text": [
      "Лучний результат, recall: 0.023656893825319148\n"
     ]
    }
   ],
   "source": [
    "print('Лучний результат, recall:', score)"
   ]
  },
  {
   "cell_type": "markdown",
   "metadata": {},
   "source": [
    "Для времени, регрессор"
   ]
  },
  {
   "cell_type": "code",
   "execution_count": 232,
   "metadata": {},
   "outputs": [
    {
     "ename": "TypeError",
     "evalue": "__init__() got an unexpected keyword argument 'plot'",
     "output_type": "error",
     "traceback": [
      "\u001b[1;31m---------------------------------------------------------------------------\u001b[0m",
      "\u001b[1;31mTypeError\u001b[0m                                 Traceback (most recent call last)",
      "\u001b[1;32me:\\DS\\Hackathon_11.2022\\Untitled-1.ipynb Ячейка 38\u001b[0m in \u001b[0;36m<cell line: 1>\u001b[1;34m()\u001b[0m\n\u001b[1;32m----> <a href='vscode-notebook-cell:/e%3A/DS/Hackathon_11.2022/Untitled-1.ipynb#Y132sZmlsZQ%3D%3D?line=0'>1</a>\u001b[0m model \u001b[39m=\u001b[39m CatBoostRegressor(loss_function\u001b[39m=\u001b[39;49m\u001b[39m'\u001b[39;49m\u001b[39mRMSE\u001b[39;49m\u001b[39m'\u001b[39;49m,iterations\u001b[39m=\u001b[39;49m\u001b[39m5_000\u001b[39;49m,\n\u001b[0;32m      <a href='vscode-notebook-cell:/e%3A/DS/Hackathon_11.2022/Untitled-1.ipynb#Y132sZmlsZQ%3D%3D?line=1'>2</a>\u001b[0m                           learning_rate\u001b[39m=\u001b[39;49m\u001b[39m0.001\u001b[39;49m,\n\u001b[0;32m      <a href='vscode-notebook-cell:/e%3A/DS/Hackathon_11.2022/Untitled-1.ipynb#Y132sZmlsZQ%3D%3D?line=2'>3</a>\u001b[0m                           depth\u001b[39m=\u001b[39;49m\u001b[39m3\u001b[39;49m,\n\u001b[0;32m      <a href='vscode-notebook-cell:/e%3A/DS/Hackathon_11.2022/Untitled-1.ipynb#Y132sZmlsZQ%3D%3D?line=3'>4</a>\u001b[0m                           verbose\u001b[39m=\u001b[39;49m\u001b[39m200\u001b[39;49m,\n\u001b[0;32m      <a href='vscode-notebook-cell:/e%3A/DS/Hackathon_11.2022/Untitled-1.ipynb#Y132sZmlsZQ%3D%3D?line=4'>5</a>\u001b[0m                           plot \u001b[39m=\u001b[39;49m \u001b[39mTrue\u001b[39;49;00m)\n",
      "\u001b[1;31mTypeError\u001b[0m: __init__() got an unexpected keyword argument 'plot'"
     ]
    }
   ],
   "source": [
    "model = CatBoostRegressor(loss_function='RMSE',iterations=5_000,\n",
    "                          learning_rate=0.001,\n",
    "                          depth=3,\n",
    "                          verbose=200)"
   ]
  },
  {
   "cell_type": "code",
   "execution_count": 233,
   "metadata": {},
   "outputs": [
    {
     "name": "stdout",
     "output_type": "stream",
     "text": [
      "0:\tlearn: 232.7570029\ttotal: 31.8ms\tremaining: 2m 38s\n"
     ]
    },
    {
     "ename": "KeyboardInterrupt",
     "evalue": "",
     "output_type": "error",
     "traceback": [
      "\u001b[1;31m---------------------------------------------------------------------------\u001b[0m",
      "\u001b[1;31mKeyboardInterrupt\u001b[0m                         Traceback (most recent call last)",
      "\u001b[1;32me:\\DS\\Hackathon_11.2022\\Untitled-1.ipynb Ячейка 39\u001b[0m in \u001b[0;36m<cell line: 1>\u001b[1;34m()\u001b[0m\n\u001b[1;32m----> <a href='vscode-notebook-cell:/e%3A/DS/Hackathon_11.2022/Untitled-1.ipynb#Y133sZmlsZQ%3D%3D?line=0'>1</a>\u001b[0m model\u001b[39m.\u001b[39;49mfit(X_train,y_train[\u001b[39m'\u001b[39;49m\u001b[39mtime_to_under\u001b[39;49m\u001b[39m'\u001b[39;49m])\n",
      "File \u001b[1;32me:\\Program Files (x86)\\anaconda3\\lib\\site-packages\\catboost\\core.py:5730\u001b[0m, in \u001b[0;36mCatBoostRegressor.fit\u001b[1;34m(self, X, y, cat_features, text_features, embedding_features, sample_weight, baseline, use_best_model, eval_set, verbose, logging_level, plot, plot_file, column_description, verbose_eval, metric_period, silent, early_stopping_rounds, save_snapshot, snapshot_file, snapshot_interval, init_model, callbacks, log_cout, log_cerr)\u001b[0m\n\u001b[0;32m   5727\u001b[0m \u001b[39mif\u001b[39;00m \u001b[39m'\u001b[39m\u001b[39mloss_function\u001b[39m\u001b[39m'\u001b[39m \u001b[39min\u001b[39;00m params:\n\u001b[0;32m   5728\u001b[0m     CatBoostRegressor\u001b[39m.\u001b[39m_check_is_compatible_loss(params[\u001b[39m'\u001b[39m\u001b[39mloss_function\u001b[39m\u001b[39m'\u001b[39m])\n\u001b[1;32m-> 5730\u001b[0m \u001b[39mreturn\u001b[39;00m \u001b[39mself\u001b[39;49m\u001b[39m.\u001b[39;49m_fit(X, y, cat_features, text_features, embedding_features, \u001b[39mNone\u001b[39;49;00m, sample_weight, \u001b[39mNone\u001b[39;49;00m, \u001b[39mNone\u001b[39;49;00m, \u001b[39mNone\u001b[39;49;00m, \u001b[39mNone\u001b[39;49;00m, baseline,\n\u001b[0;32m   5731\u001b[0m                  use_best_model, eval_set, verbose, logging_level, plot, plot_file, column_description,\n\u001b[0;32m   5732\u001b[0m                  verbose_eval, metric_period, silent, early_stopping_rounds,\n\u001b[0;32m   5733\u001b[0m                  save_snapshot, snapshot_file, snapshot_interval, init_model, callbacks, log_cout, log_cerr)\n",
      "File \u001b[1;32me:\\Program Files (x86)\\anaconda3\\lib\\site-packages\\catboost\\core.py:2355\u001b[0m, in \u001b[0;36mCatBoost._fit\u001b[1;34m(self, X, y, cat_features, text_features, embedding_features, pairs, sample_weight, group_id, group_weight, subgroup_id, pairs_weight, baseline, use_best_model, eval_set, verbose, logging_level, plot, plot_file, column_description, verbose_eval, metric_period, silent, early_stopping_rounds, save_snapshot, snapshot_file, snapshot_interval, init_model, callbacks, log_cout, log_cerr)\u001b[0m\n\u001b[0;32m   2351\u001b[0m allow_clear_pool \u001b[39m=\u001b[39m train_params[\u001b[39m\"\u001b[39m\u001b[39mallow_clear_pool\u001b[39m\u001b[39m\"\u001b[39m]\n\u001b[0;32m   2353\u001b[0m \u001b[39mwith\u001b[39;00m log_fixup(log_cout, log_cerr), \\\n\u001b[0;32m   2354\u001b[0m     plot_wrapper(plot, plot_file, \u001b[39m'\u001b[39m\u001b[39mTraining plots\u001b[39m\u001b[39m'\u001b[39m, [_get_train_dir(\u001b[39mself\u001b[39m\u001b[39m.\u001b[39mget_params())]):\n\u001b[1;32m-> 2355\u001b[0m     \u001b[39mself\u001b[39;49m\u001b[39m.\u001b[39;49m_train(\n\u001b[0;32m   2356\u001b[0m         train_pool,\n\u001b[0;32m   2357\u001b[0m         train_params[\u001b[39m\"\u001b[39;49m\u001b[39meval_sets\u001b[39;49m\u001b[39m\"\u001b[39;49m],\n\u001b[0;32m   2358\u001b[0m         params,\n\u001b[0;32m   2359\u001b[0m         allow_clear_pool,\n\u001b[0;32m   2360\u001b[0m         train_params[\u001b[39m\"\u001b[39;49m\u001b[39minit_model\u001b[39;49m\u001b[39m\"\u001b[39;49m]\n\u001b[0;32m   2361\u001b[0m     )\n\u001b[0;32m   2363\u001b[0m \u001b[39m# Have property feature_importance possibly set\u001b[39;00m\n\u001b[0;32m   2364\u001b[0m loss \u001b[39m=\u001b[39m \u001b[39mself\u001b[39m\u001b[39m.\u001b[39m_object\u001b[39m.\u001b[39m_get_loss_function_name()\n",
      "File \u001b[1;32me:\\Program Files (x86)\\anaconda3\\lib\\site-packages\\catboost\\core.py:1759\u001b[0m, in \u001b[0;36m_CatBoostBase._train\u001b[1;34m(self, train_pool, test_pool, params, allow_clear_pool, init_model)\u001b[0m\n\u001b[0;32m   1758\u001b[0m \u001b[39mdef\u001b[39;00m \u001b[39m_train\u001b[39m(\u001b[39mself\u001b[39m, train_pool, test_pool, params, allow_clear_pool, init_model):\n\u001b[1;32m-> 1759\u001b[0m     \u001b[39mself\u001b[39;49m\u001b[39m.\u001b[39;49m_object\u001b[39m.\u001b[39;49m_train(train_pool, test_pool, params, allow_clear_pool, init_model\u001b[39m.\u001b[39;49m_object \u001b[39mif\u001b[39;49;00m init_model \u001b[39melse\u001b[39;49;00m \u001b[39mNone\u001b[39;49;00m)\n\u001b[0;32m   1760\u001b[0m     \u001b[39mself\u001b[39m\u001b[39m.\u001b[39m_set_trained_model_attributes()\n",
      "File \u001b[1;32m_catboost.pyx:4623\u001b[0m, in \u001b[0;36m_catboost._CatBoost._train\u001b[1;34m()\u001b[0m\n",
      "File \u001b[1;32m_catboost.pyx:4672\u001b[0m, in \u001b[0;36m_catboost._CatBoost._train\u001b[1;34m()\u001b[0m\n",
      "\u001b[1;31mKeyboardInterrupt\u001b[0m: "
     ]
    }
   ],
   "source": [
    "model.fit(X_train,y_train['time_to_under'])"
   ]
  },
  {
   "cell_type": "code",
   "execution_count": 231,
   "metadata": {},
   "outputs": [
    {
     "name": "stdout",
     "output_type": "stream",
     "text": [
      "Testing performance\n",
      "RMSE: 162.4916\n",
      "R2: 0.5128\n"
     ]
    }
   ],
   "source": [
    "pred = model.predict(X_test)\n",
    "rmse = (np.sqrt(mean_squared_error(y_test[\"time_to_under\"], pred)))\n",
    "r2 = r2_score(y_test[\"time_to_under\"], pred)\n",
    "print('Testing performance')\n",
    "print('RMSE: {:.4f}'.format(rmse))\n",
    "print('R2: {:.4f}'.format(r2))"
   ]
  },
  {
   "cell_type": "markdown",
   "metadata": {
    "id": "6Y60HHS5jKeN"
   },
   "source": [
    "## Проверка на тестовой выборке"
   ]
  },
  {
   "cell_type": "code",
   "execution_count": 78,
   "metadata": {},
   "outputs": [
    {
     "data": {
      "text/html": [
       "<div>\n",
       "<style scoped>\n",
       "    .dataframe tbody tr th:only-of-type {\n",
       "        vertical-align: middle;\n",
       "    }\n",
       "\n",
       "    .dataframe tbody tr th {\n",
       "        vertical-align: top;\n",
       "    }\n",
       "\n",
       "    .dataframe thead th {\n",
       "        text-align: right;\n",
       "    }\n",
       "</style>\n",
       "<table border=\"1\" class=\"dataframe\">\n",
       "  <thead>\n",
       "    <tr style=\"text-align: right;\">\n",
       "      <th></th>\n",
       "      <th>id</th>\n",
       "      <th>ticket_id</th>\n",
       "      <th>ticket_type_nm</th>\n",
       "      <th>entrance_id</th>\n",
       "      <th>entrance_nm</th>\n",
       "      <th>station_id</th>\n",
       "      <th>station_nm</th>\n",
       "      <th>line_id</th>\n",
       "      <th>line_nm</th>\n",
       "      <th>pass_dttm</th>\n",
       "    </tr>\n",
       "  </thead>\n",
       "  <tbody>\n",
       "    <tr>\n",
       "      <th>0</th>\n",
       "      <td>1091022</td>\n",
       "      <td>425A13E16226CA01032043111488E0F5</td>\n",
       "      <td>КОШЕЛЕК</td>\n",
       "      <td>110</td>\n",
       "      <td>Войковская ( Южный )</td>\n",
       "      <td>2006</td>\n",
       "      <td>Войковская</td>\n",
       "      <td>2</td>\n",
       "      <td>Замоскворецкая</td>\n",
       "      <td>2022-09-12 05:00:03</td>\n",
       "    </tr>\n",
       "    <tr>\n",
       "      <th>1</th>\n",
       "      <td>1091023</td>\n",
       "      <td>F94EDC107A4E054786882F9453C1B93F</td>\n",
       "      <td>Пропуск FacePay</td>\n",
       "      <td>184</td>\n",
       "      <td>Молодёжная (Западный)</td>\n",
       "      <td>3010</td>\n",
       "      <td>Молодёжная</td>\n",
       "      <td>3</td>\n",
       "      <td>Арбатско-Покровская</td>\n",
       "      <td>2022-09-12 05:00:45</td>\n",
       "    </tr>\n",
       "    <tr>\n",
       "      <th>2</th>\n",
       "      <td>1091024</td>\n",
       "      <td>8F13BFBA98A7DD34B11BD2DDCC5CA68E</td>\n",
       "      <td>СК студента 30 дней</td>\n",
       "      <td>110</td>\n",
       "      <td>Войковская ( Южный )</td>\n",
       "      <td>2006</td>\n",
       "      <td>Войковская</td>\n",
       "      <td>2</td>\n",
       "      <td>Замоскворецкая</td>\n",
       "      <td>2022-09-12 05:00:52</td>\n",
       "    </tr>\n",
       "    <tr>\n",
       "      <th>3</th>\n",
       "      <td>1091025</td>\n",
       "      <td>7B98691636EC418ABF6FEDDE4D7C68FC</td>\n",
       "      <td>КОШЕЛЕК</td>\n",
       "      <td>107</td>\n",
       "      <td>Сокол ( Южн./Вост. )</td>\n",
       "      <td>2018</td>\n",
       "      <td>Сокол</td>\n",
       "      <td>2</td>\n",
       "      <td>Замоскворецкая</td>\n",
       "      <td>2022-09-12 05:00:58</td>\n",
       "    </tr>\n",
       "    <tr>\n",
       "      <th>4</th>\n",
       "      <td>1091026</td>\n",
       "      <td>679C55C28CB36FB546FD104502C0B3DB</td>\n",
       "      <td>КОШЕЛЕК</td>\n",
       "      <td>110</td>\n",
       "      <td>Войковская ( Южный )</td>\n",
       "      <td>2006</td>\n",
       "      <td>Войковская</td>\n",
       "      <td>2</td>\n",
       "      <td>Замоскворецкая</td>\n",
       "      <td>2022-09-12 05:01:39</td>\n",
       "    </tr>\n",
       "    <tr>\n",
       "      <th>...</th>\n",
       "      <td>...</td>\n",
       "      <td>...</td>\n",
       "      <td>...</td>\n",
       "      <td>...</td>\n",
       "      <td>...</td>\n",
       "      <td>...</td>\n",
       "      <td>...</td>\n",
       "      <td>...</td>\n",
       "      <td>...</td>\n",
       "      <td>...</td>\n",
       "    </tr>\n",
       "    <tr>\n",
       "      <th>561885</th>\n",
       "      <td>1652907</td>\n",
       "      <td>B6FADEB8705FAF8E9DFD9016A613D997</td>\n",
       "      <td>Пропуск FacePay</td>\n",
       "      <td>279</td>\n",
       "      <td>Калужская (Южный)</td>\n",
       "      <td>6007</td>\n",
       "      <td>Калужская</td>\n",
       "      <td>6</td>\n",
       "      <td>Калужско-Рижская</td>\n",
       "      <td>2022-09-19 01:33:11</td>\n",
       "    </tr>\n",
       "    <tr>\n",
       "      <th>561886</th>\n",
       "      <td>1652908</td>\n",
       "      <td>77F2868FC2648ACCBD58F1F8AB66C321</td>\n",
       "      <td>Пропуск FacePay</td>\n",
       "      <td>2463</td>\n",
       "      <td>Кунцевская БКЛ (Первый)</td>\n",
       "      <td>11020</td>\n",
       "      <td>Кунцевская</td>\n",
       "      <td>11</td>\n",
       "      <td>Большая кольцевая</td>\n",
       "      <td>2022-09-19 02:03:59</td>\n",
       "    </tr>\n",
       "    <tr>\n",
       "      <th>561887</th>\n",
       "      <td>1652909</td>\n",
       "      <td>29A4ACF592877817B8D00D969DFDB681</td>\n",
       "      <td>Пропуск FacePay</td>\n",
       "      <td>64</td>\n",
       "      <td>Проспект Вернадского ( Южный )</td>\n",
       "      <td>1012</td>\n",
       "      <td>Проспект Вернадского</td>\n",
       "      <td>1</td>\n",
       "      <td>Сокольническая</td>\n",
       "      <td>2022-09-19 02:51:34</td>\n",
       "    </tr>\n",
       "    <tr>\n",
       "      <th>561888</th>\n",
       "      <td>1652910</td>\n",
       "      <td>DE9EBEFD0DF4A351013AA574B075F535</td>\n",
       "      <td>Пропуск FacePay</td>\n",
       "      <td>285</td>\n",
       "      <td>Коньково (Южный)</td>\n",
       "      <td>6009</td>\n",
       "      <td>Коньково</td>\n",
       "      <td>6</td>\n",
       "      <td>Калужско-Рижская</td>\n",
       "      <td>2022-09-19 02:58:10</td>\n",
       "    </tr>\n",
       "    <tr>\n",
       "      <th>561889</th>\n",
       "      <td>1652911</td>\n",
       "      <td>6150B5AFC720997AED9F0231EA8059E3</td>\n",
       "      <td>Пропуск FacePay</td>\n",
       "      <td>184</td>\n",
       "      <td>Молодёжная (Западный)</td>\n",
       "      <td>3010</td>\n",
       "      <td>Молодёжная</td>\n",
       "      <td>3</td>\n",
       "      <td>Арбатско-Покровская</td>\n",
       "      <td>2022-09-19 03:13:27</td>\n",
       "    </tr>\n",
       "  </tbody>\n",
       "</table>\n",
       "<p>561890 rows × 10 columns</p>\n",
       "</div>"
      ],
      "text/plain": [
       "             id                         ticket_id       ticket_type_nm  \\\n",
       "0       1091022  425A13E16226CA01032043111488E0F5              КОШЕЛЕК   \n",
       "1       1091023  F94EDC107A4E054786882F9453C1B93F      Пропуск FacePay   \n",
       "2       1091024  8F13BFBA98A7DD34B11BD2DDCC5CA68E  СК студента 30 дней   \n",
       "3       1091025  7B98691636EC418ABF6FEDDE4D7C68FC              КОШЕЛЕК   \n",
       "4       1091026  679C55C28CB36FB546FD104502C0B3DB              КОШЕЛЕК   \n",
       "...         ...                               ...                  ...   \n",
       "561885  1652907  B6FADEB8705FAF8E9DFD9016A613D997      Пропуск FacePay   \n",
       "561886  1652908  77F2868FC2648ACCBD58F1F8AB66C321      Пропуск FacePay   \n",
       "561887  1652909  29A4ACF592877817B8D00D969DFDB681      Пропуск FacePay   \n",
       "561888  1652910  DE9EBEFD0DF4A351013AA574B075F535      Пропуск FacePay   \n",
       "561889  1652911  6150B5AFC720997AED9F0231EA8059E3      Пропуск FacePay   \n",
       "\n",
       "        entrance_id                     entrance_nm  station_id  \\\n",
       "0               110            Войковская ( Южный )        2006   \n",
       "1               184           Молодёжная (Западный)        3010   \n",
       "2               110            Войковская ( Южный )        2006   \n",
       "3               107            Сокол ( Южн./Вост. )        2018   \n",
       "4               110            Войковская ( Южный )        2006   \n",
       "...             ...                             ...         ...   \n",
       "561885          279               Калужская (Южный)        6007   \n",
       "561886         2463         Кунцевская БКЛ (Первый)       11020   \n",
       "561887           64  Проспект Вернадского ( Южный )        1012   \n",
       "561888          285                Коньково (Южный)        6009   \n",
       "561889          184           Молодёжная (Западный)        3010   \n",
       "\n",
       "                  station_nm  line_id              line_nm  \\\n",
       "0                 Войковская        2       Замоскворецкая   \n",
       "1                 Молодёжная        3  Арбатско-Покровская   \n",
       "2                 Войковская        2       Замоскворецкая   \n",
       "3                      Сокол        2       Замоскворецкая   \n",
       "4                 Войковская        2       Замоскворецкая   \n",
       "...                      ...      ...                  ...   \n",
       "561885             Калужская        6     Калужско-Рижская   \n",
       "561886            Кунцевская       11    Большая кольцевая   \n",
       "561887  Проспект Вернадского        1       Сокольническая   \n",
       "561888              Коньково        6     Калужско-Рижская   \n",
       "561889            Молодёжная        3  Арбатско-Покровская   \n",
       "\n",
       "                  pass_dttm  \n",
       "0       2022-09-12 05:00:03  \n",
       "1       2022-09-12 05:00:45  \n",
       "2       2022-09-12 05:00:52  \n",
       "3       2022-09-12 05:00:58  \n",
       "4       2022-09-12 05:01:39  \n",
       "...                     ...  \n",
       "561885  2022-09-19 01:33:11  \n",
       "561886  2022-09-19 02:03:59  \n",
       "561887  2022-09-19 02:51:34  \n",
       "561888  2022-09-19 02:58:10  \n",
       "561889  2022-09-19 03:13:27  \n",
       "\n",
       "[561890 rows x 10 columns]"
      ]
     },
     "execution_count": 78,
     "metadata": {},
     "output_type": "execute_result"
    }
   ],
   "source": [
    "df_test"
   ]
  },
  {
   "cell_type": "code",
   "execution_count": 79,
   "metadata": {},
   "outputs": [],
   "source": [
    "df_test[\"ticket_type_nm\"] = pd.Categorical(df_test[\"ticket_type_nm\"])\n",
    "df_test[\"ticket_type_nm\"].astype('category').cat.codes\n",
    "df_test[\"ticket_type_nm\"] = df_test[\"ticket_type_nm\"].cat.codes"
   ]
  },
  {
   "cell_type": "code",
   "execution_count": 80,
   "metadata": {},
   "outputs": [],
   "source": [
    "df_test[\"day\"] = df_test.pass_dttm.map(lambda x: int(x.split(\"-\")[2].split(\" \")[0]))\n",
    "df_test[\"hours\"] = df_test.pass_dttm.map(lambda x: int(x.split(\"-\")[2].split(\" \")[1].split(\":\")[0]))"
   ]
  },
  {
   "cell_type": "code",
   "execution_count": 81,
   "metadata": {},
   "outputs": [],
   "source": [
    "X_test = df_test.drop([\"ticket_id\", \"entrance_nm\", \"station_nm\", \"line_nm\", \"pass_dttm\"], axis = 1)"
   ]
  },
  {
   "cell_type": "code",
   "execution_count": 82,
   "metadata": {},
   "outputs": [
    {
     "data": {
      "text/plain": [
       "RandomForestRegressor(max_depth=12, n_estimators=17, n_jobs=-1)"
      ]
     },
     "execution_count": 82,
     "metadata": {},
     "output_type": "execute_result"
    }
   ],
   "source": [
    "best_model_time_to_under.fit(X, y[\"time_to_under\"])"
   ]
  },
  {
   "cell_type": "code",
   "execution_count": 83,
   "metadata": {},
   "outputs": [],
   "source": [
    "predicted_test_time_to_under = best_model_time_to_under.predict(X_test)\n"
   ]
  },
  {
   "cell_type": "code",
   "execution_count": 84,
   "metadata": {},
   "outputs": [
    {
     "data": {
      "text/plain": [
       "array([596.17132316, 602.16474063, 491.6880438 , ...,  67.57210339,\n",
       "        48.94926083,  47.2594324 ])"
      ]
     },
     "execution_count": 84,
     "metadata": {},
     "output_type": "execute_result"
    }
   ],
   "source": [
    "predicted_test_time_to_under"
   ]
  },
  {
   "cell_type": "markdown",
   "metadata": {},
   "source": []
  },
  {
   "cell_type": "code",
   "execution_count": 85,
   "metadata": {},
   "outputs": [
    {
     "data": {
      "text/plain": [
       "RandomForestClassifier(max_depth=16, n_estimators=18, n_jobs=-1)"
      ]
     },
     "execution_count": 85,
     "metadata": {},
     "output_type": "execute_result"
    }
   ],
   "source": [
    "best_model_label.fit(X, y[\"label\"])"
   ]
  },
  {
   "cell_type": "code",
   "execution_count": 86,
   "metadata": {},
   "outputs": [],
   "source": [
    "predicted_test_label = best_model_label.predict(X_test)"
   ]
  },
  {
   "cell_type": "code",
   "execution_count": 87,
   "metadata": {},
   "outputs": [
    {
     "data": {
      "text/plain": [
       "array([6009, 1007, 2003, ..., 1015, 9025, 1007], dtype=int64)"
      ]
     },
     "execution_count": 87,
     "metadata": {},
     "output_type": "execute_result"
    }
   ],
   "source": [
    "predicted_test_label"
   ]
  },
  {
   "cell_type": "code",
   "execution_count": 88,
   "metadata": {},
   "outputs": [],
   "source": [
    "df_unswer = pd.DataFrame(columns=['id','time_to_under','label'])"
   ]
  },
  {
   "cell_type": "code",
   "execution_count": 89,
   "metadata": {},
   "outputs": [
    {
     "data": {
      "text/html": [
       "<div>\n",
       "<style scoped>\n",
       "    .dataframe tbody tr th:only-of-type {\n",
       "        vertical-align: middle;\n",
       "    }\n",
       "\n",
       "    .dataframe tbody tr th {\n",
       "        vertical-align: top;\n",
       "    }\n",
       "\n",
       "    .dataframe thead th {\n",
       "        text-align: right;\n",
       "    }\n",
       "</style>\n",
       "<table border=\"1\" class=\"dataframe\">\n",
       "  <thead>\n",
       "    <tr style=\"text-align: right;\">\n",
       "      <th></th>\n",
       "      <th>id</th>\n",
       "      <th>time_to_under</th>\n",
       "      <th>label</th>\n",
       "    </tr>\n",
       "  </thead>\n",
       "  <tbody>\n",
       "  </tbody>\n",
       "</table>\n",
       "</div>"
      ],
      "text/plain": [
       "Empty DataFrame\n",
       "Columns: [id, time_to_under, label]\n",
       "Index: []"
      ]
     },
     "execution_count": 89,
     "metadata": {},
     "output_type": "execute_result"
    }
   ],
   "source": [
    "df_unswer"
   ]
  },
  {
   "cell_type": "code",
   "execution_count": 90,
   "metadata": {},
   "outputs": [],
   "source": [
    "df_unswer['id'] = df_test['id']"
   ]
  },
  {
   "cell_type": "code",
   "execution_count": 91,
   "metadata": {},
   "outputs": [],
   "source": [
    "df_unswer['time_to_under'] = pd.Series(predicted_test_time_to_under)"
   ]
  },
  {
   "cell_type": "code",
   "execution_count": 92,
   "metadata": {},
   "outputs": [],
   "source": [
    "df_unswer['label'] = pd.Series(predicted_test_label)"
   ]
  },
  {
   "cell_type": "code",
   "execution_count": 93,
   "metadata": {},
   "outputs": [],
   "source": [
    "df_unswer.to_csv('hackathon_unswer.csv', index=False) "
   ]
  },
  {
   "cell_type": "code",
   "execution_count": 94,
   "metadata": {},
   "outputs": [
    {
     "data": {
      "text/html": [
       "<div>\n",
       "<style scoped>\n",
       "    .dataframe tbody tr th:only-of-type {\n",
       "        vertical-align: middle;\n",
       "    }\n",
       "\n",
       "    .dataframe tbody tr th {\n",
       "        vertical-align: top;\n",
       "    }\n",
       "\n",
       "    .dataframe thead th {\n",
       "        text-align: right;\n",
       "    }\n",
       "</style>\n",
       "<table border=\"1\" class=\"dataframe\">\n",
       "  <thead>\n",
       "    <tr style=\"text-align: right;\">\n",
       "      <th></th>\n",
       "      <th>id</th>\n",
       "      <th>time_to_under</th>\n",
       "      <th>label</th>\n",
       "    </tr>\n",
       "  </thead>\n",
       "  <tbody>\n",
       "    <tr>\n",
       "      <th>0</th>\n",
       "      <td>1091022</td>\n",
       "      <td>596.171323</td>\n",
       "      <td>6009</td>\n",
       "    </tr>\n",
       "    <tr>\n",
       "      <th>1</th>\n",
       "      <td>1091023</td>\n",
       "      <td>602.164741</td>\n",
       "      <td>1007</td>\n",
       "    </tr>\n",
       "    <tr>\n",
       "      <th>2</th>\n",
       "      <td>1091024</td>\n",
       "      <td>491.688044</td>\n",
       "      <td>2003</td>\n",
       "    </tr>\n",
       "    <tr>\n",
       "      <th>3</th>\n",
       "      <td>1091025</td>\n",
       "      <td>596.171323</td>\n",
       "      <td>8004</td>\n",
       "    </tr>\n",
       "    <tr>\n",
       "      <th>4</th>\n",
       "      <td>1091026</td>\n",
       "      <td>596.171323</td>\n",
       "      <td>6009</td>\n",
       "    </tr>\n",
       "    <tr>\n",
       "      <th>...</th>\n",
       "      <td>...</td>\n",
       "      <td>...</td>\n",
       "      <td>...</td>\n",
       "    </tr>\n",
       "    <tr>\n",
       "      <th>561885</th>\n",
       "      <td>1652907</td>\n",
       "      <td>48.949261</td>\n",
       "      <td>6007</td>\n",
       "    </tr>\n",
       "    <tr>\n",
       "      <th>561886</th>\n",
       "      <td>1652908</td>\n",
       "      <td>42.290000</td>\n",
       "      <td>11020</td>\n",
       "    </tr>\n",
       "    <tr>\n",
       "      <th>561887</th>\n",
       "      <td>1652909</td>\n",
       "      <td>67.572103</td>\n",
       "      <td>1015</td>\n",
       "    </tr>\n",
       "    <tr>\n",
       "      <th>561888</th>\n",
       "      <td>1652910</td>\n",
       "      <td>48.949261</td>\n",
       "      <td>9025</td>\n",
       "    </tr>\n",
       "    <tr>\n",
       "      <th>561889</th>\n",
       "      <td>1652911</td>\n",
       "      <td>47.259432</td>\n",
       "      <td>1007</td>\n",
       "    </tr>\n",
       "  </tbody>\n",
       "</table>\n",
       "<p>561890 rows × 3 columns</p>\n",
       "</div>"
      ],
      "text/plain": [
       "             id  time_to_under  label\n",
       "0       1091022     596.171323   6009\n",
       "1       1091023     602.164741   1007\n",
       "2       1091024     491.688044   2003\n",
       "3       1091025     596.171323   8004\n",
       "4       1091026     596.171323   6009\n",
       "...         ...            ...    ...\n",
       "561885  1652907      48.949261   6007\n",
       "561886  1652908      42.290000  11020\n",
       "561887  1652909      67.572103   1015\n",
       "561888  1652910      48.949261   9025\n",
       "561889  1652911      47.259432   1007\n",
       "\n",
       "[561890 rows x 3 columns]"
      ]
     },
     "execution_count": 94,
     "metadata": {},
     "output_type": "execute_result"
    }
   ],
   "source": [
    "df_unswer"
   ]
  }
 ],
 "metadata": {
  "kernelspec": {
   "display_name": "Python 3.9.12 ('base')",
   "language": "python",
   "name": "python3"
  },
  "language_info": {
   "codemirror_mode": {
    "name": "ipython",
    "version": 3
   },
   "file_extension": ".py",
   "mimetype": "text/x-python",
   "name": "python",
   "nbconvert_exporter": "python",
   "pygments_lexer": "ipython3",
   "version": "3.9.12"
  },
  "orig_nbformat": 4,
  "vscode": {
   "interpreter": {
    "hash": "1c8c03b3dd9f00cbf1a5a5c63c930805b828fbf388ffb63f05d8fe79c64b8236"
   }
  }
 },
 "nbformat": 4,
 "nbformat_minor": 2
}
